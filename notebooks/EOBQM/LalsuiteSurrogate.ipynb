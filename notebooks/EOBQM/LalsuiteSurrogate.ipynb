{
 "cells": [
  {
   "cell_type": "code",
   "execution_count": 1,
   "metadata": {
    "collapsed": false,
    "deletable": true,
    "editable": true
   },
   "outputs": [
    {
     "name": "stdout",
     "output_type": "stream",
     "text": [
      "Populating the interactive namespace from numpy and matplotlib\n"
     ]
    }
   ],
   "source": [
    "%pylab inline\n",
    "\n",
    "import numpy as np\n",
    "import matplotlib.pyplot as plt\n",
    "from mpl_toolkits.mplot3d import Axes3D\n",
    "\n",
    "np.set_printoptions(precision=6, linewidth=110)"
   ]
  },
  {
   "cell_type": "code",
   "execution_count": 2,
   "metadata": {
    "collapsed": false,
    "deletable": true,
    "editable": true
   },
   "outputs": [],
   "source": [
    "import h5py\n",
    "\n",
    "import lal\n",
    "import lalsimulation"
   ]
  },
  {
   "cell_type": "code",
   "execution_count": 3,
   "metadata": {
    "collapsed": false,
    "deletable": true,
    "editable": true
   },
   "outputs": [],
   "source": [
    "sys.path.insert(0, '../../src')\n",
    "\n",
    "import waveform as wave\n",
    "import waveformset as ws\n",
    "import trainingset as train\n",
    "import taylorf2 as f2\n",
    "import gaussianprocessregression as gpr\n",
    "import designofexperiment as doe\n",
    "import lalwaveform\n",
    "import plotparams\n",
    "import greedy\n",
    "import empiricalinterpolation as eim\n",
    "import surrogate\n",
    "import diagnostics\n",
    "import uncertaintysampling as us\n",
    "\n",
    "import imp\n",
    "imp.reload(wave)\n",
    "imp.reload(ws)\n",
    "imp.reload(train)\n",
    "imp.reload(f2)\n",
    "imp.reload(gpr)\n",
    "imp.reload(doe)\n",
    "imp.reload(lalwaveform)\n",
    "imp.reload(greedy)\n",
    "imp.reload(eim)\n",
    "imp.reload(surrogate)\n",
    "imp.reload(diagnostics)\n",
    "imp.reload(us)\n",
    "\n",
    "import constants\n",
    "imp.reload(constants)\n",
    "from constants import *"
   ]
  },
  {
   "cell_type": "markdown",
   "metadata": {
    "deletable": true,
    "editable": true
   },
   "source": [
    "# Construct surrogate in way that can be directly converted to lalsuite code"
   ]
  },
  {
   "cell_type": "code",
   "execution_count": 4,
   "metadata": {
    "collapsed": true,
    "deletable": true,
    "editable": true
   },
   "outputs": [],
   "source": [
    "def kernel(x1, x2, hyperparams):\n",
    "    \"\"\"Matern covariance function for n-dimensional data.\n",
    "    \n",
    "    Parameters\n",
    "    ----------\n",
    "    x1 : array with shape ndim\n",
    "    x2 : array with shape ndim\n",
    "    hyperparams : array with shape ndim+2 [sigma_f, ls0, ls1, ..., sigma_n]\n",
    "        sigma_f : Approximately the range (ymax-ymin) of values that the data takes.\n",
    "            sigma_f^2 called the signal variance.\n",
    "        sigma_n : Noise term. The uncertainty in the y values of the data.\n",
    "        lsi : Length scales for the variation in dimension i.\n",
    "    \n",
    "    Returns\n",
    "    -------\n",
    "    covariance : float\n",
    "    \"\"\"\n",
    "    sigma_f = hyperparams[0]\n",
    "    sigma_n = hyperparams[-1]\n",
    "    ls = hyperparams[1:-1]\n",
    "    ndim = len(ls)\n",
    "    \n",
    "    # Noise nugget for diagonal elements\n",
    "    if np.array_equal(x1, x2):\n",
    "        nugget = sigma_n**2\n",
    "    else:\n",
    "        nugget = 0.0\n",
    "    #nugget = sigma_n**2\n",
    "    \n",
    "    # r**2\n",
    "    rsq = np.sum(np.array([(x1[i]-x2[i])**2 / ls[i]**2 for i in range(ndim)]))\n",
    "    r = np.sqrt(rsq)\n",
    "    \n",
    "    # nu = 5/2 Matern covariance\n",
    "    matern = (1. + np.sqrt(5.)*r + 5.*r**2/3.) * np.exp(-np.sqrt(5.)*r)\n",
    "    \n",
    "    # Full covariance\n",
    "    # You must include the nugget to agree with scikit-learn when the points x1, x2 are exactly the same\n",
    "    return sigma_f**2 * matern + nugget"
   ]
  },
  {
   "cell_type": "code",
   "execution_count": 5,
   "metadata": {
    "collapsed": false,
    "deletable": true,
    "editable": true
   },
   "outputs": [],
   "source": [
    "def gp_predict(xst, hyperparams, x_train, Kinv_dot_y):\n",
    "    \"\"\"Interpolate the function at the point xst using Gaussian process regression.\n",
    "    \n",
    "    Parameters\n",
    "    ----------\n",
    "    xst : array of shape ndim.\n",
    "        Point x_* where you want to evaluate the function.\n",
    "    hyperparams : array with shape ndim+2 [sigma_f, ls0, ls1, ..., sigma_n].\n",
    "        Hyperparameters for the GPR kernel.\n",
    "    x_train : array of shape (n_train, ndim).\n",
    "        Training set points.\n",
    "    Kinv_dot_y : array of shape n_train.\n",
    "        The interpolating weights at each training set point.\n",
    "    \n",
    "    Returns\n",
    "    -------\n",
    "    yst : float\n",
    "        Interpolated value at the point xst.\n",
    "    \"\"\"\n",
    "    # Evaluate vector K_*\n",
    "    Kst = np.array([kernel(xst, x, hyperparams) for x in x_train])\n",
    "\n",
    "    # Evaluate y_*\n",
    "    return np.dot(Kst, Kinv_dot_y)"
   ]
  },
  {
   "cell_type": "code",
   "execution_count": 6,
   "metadata": {
    "collapsed": true,
    "deletable": true,
    "editable": true
   },
   "outputs": [],
   "source": [
    "def extract_data_from_scikit_learn(gp):\n",
    "    \"\"\"Extract the data in the scikit-learn GaussianProcessRegressor class \n",
    "    that you need for the lalsuite version.\n",
    "    \"\"\"\n",
    "    # hyperparams = np.array([sigma_f, lq, ls1, ls2, llam1, llam2, sigma_n])\n",
    "    hyperparams = gpr.get_hyperparameters(gp)\n",
    "    \n",
    "    # The training data\n",
    "    x_train = gp.X_train_\n",
    "    y_train = gp.y_train_\n",
    "    \n",
    "    # Evaluate K\n",
    "    K = np.array([[kernel(x1, x2, hyperparams) for x2 in x_train] for x1 in x_train])\n",
    "    \n",
    "    # Evaluate K^{-1}\n",
    "    Kinv = np.linalg.inv(K)\n",
    "    \n",
    "    # Evaluate (K^{-1})_{ij} y_j (array of length nparams).\n",
    "    Kinv_dot_y = np.dot(Kinv, y_train)\n",
    "    \n",
    "    return hyperparams, x_train, Kinv_dot_y"
   ]
  },
  {
   "cell_type": "markdown",
   "metadata": {
    "deletable": true,
    "editable": true
   },
   "source": [
    "# Load scikit-learn (python) version of surrogate"
   ]
  },
  {
   "cell_type": "code",
   "execution_count": 7,
   "metadata": {
    "collapsed": false,
    "deletable": true,
    "editable": true
   },
   "outputs": [],
   "source": [
    "gp_amp_filename = '../../data/TEOBv4QM_production/gp_spline_amp_lhd_uncsamp_uniform_xi.hdf5'\n",
    "gp_phase_filename = '../../data/TEOBv4QM_production/gp_spline_phase_lhd_uncsamp_uniform_xi.hdf5'\n",
    "nodes_filename = '../../data/TEOBv4QM_production/nodes_lhd_uncsamp_uniform_xi.hdf5'\n",
    "sur = surrogate.GPSplineSurrogate.load(\n",
    "    nodes_filename, gp_amp_filename, gp_phase_filename, \n",
    "    order=3, npoints=1000, quad1=None, quad2=None, spin_spin=False)"
   ]
  },
  {
   "cell_type": "code",
   "execution_count": 9,
   "metadata": {
    "collapsed": false,
    "deletable": true,
    "editable": true
   },
   "outputs": [
    {
     "name": "stdout",
     "output_type": "stream",
     "text": [
      "1.5514481878367244e-08\n",
      "3.303454287495455e-05 3.3062098842684406e-05 0.0008341561690186072 2.7555967729853137e-08\n",
      "1.72950994772987e-08\n",
      "2.7104614895507792e-05 2.855969959902893e-05 0.05368402056737209 1.4550847035211395e-06\n",
      "2.0429888481790192e-08\n",
      "1.3043824243524904e-05 1.3879453399034958e-05 0.06406320262440435 8.356291555100537e-07\n",
      "2.4242850499042553e-08\n",
      "-8.687950126477773e-06 -8.048808140870278e-06 0.07356648879228911 6.391419856074942e-07\n",
      "2.8743246476212455e-08\n",
      "-3.940004094478075e-05 -3.9729494013540645e-05 0.008361744324622 3.29453068759894e-07\n",
      "3.4112850448840424e-08\n",
      "-7.94427122166319e-05 -7.472725443236072e-05 0.05935670689858408 4.715457784271182e-06\n",
      "4.057612035584173e-08\n",
      "-0.00013782991259294122 -0.00013890794207505053 0.007821447912349067 1.078029482109305e-06\n",
      "4.829107838917363e-08\n",
      "-0.0002125728775724811 -0.00021252213629097128 0.0002387006380554224 5.0741281509836256e-08\n",
      "5.755127387693948e-08\n",
      "-0.00031209905878599314 -0.00031149172087818755 0.0019459780179024166 6.07337907805594e-07\n",
      "6.873015713327671e-08\n",
      "-0.00044308646225534737 -0.00044264273965577416 0.0010014356956757897 4.4372259957320415e-07\n",
      "8.224687158234384e-08\n",
      "-0.0006139727959007801 -0.0006131671231903724 0.001312228678187144 8.056727104077677e-07\n",
      "9.865914840204411e-08\n",
      "-0.0008371901278400595 -0.0008359928243724113 0.0014301452296592299 1.1973034676482364e-06\n",
      "1.1865441800968851e-07\n",
      "-0.0011275048563947898 -0.0011277703804370987 0.00023549702762060143 2.655240423088401e-07\n",
      "1.4319142313786975e-07\n",
      "-0.001504885676452794 -0.0015033463563369764 0.001022881764311756 1.5393201158175884e-06\n",
      "1.7353494946977834e-07\n",
      "-0.0019948051390406007 -0.0019930696269767623 0.0008700158375736233 1.7355120638384847e-06\n",
      "2.1144892958314974e-07\n",
      "-0.0026350608931675623 -0.0026355286511332565 0.00017751315231739895 4.6775796569420436e-07\n",
      "2.5936330999462087e-07\n",
      "-0.003475696565242714 -0.0034779234364386014 0.0006406978152684317 2.22687119588727e-06\n",
      "3.214996177241236e-07\n",
      "-0.0045905404326038735 -0.004586035287097445 0.0009813976311875416 4.505145506428221e-06\n",
      "1.1887866405878566e-05\n",
      "-0.0060794677068098935 -0.006079268556945294 3.275777982603145e-05 1.9914986459923512e-07\n",
      "3.228252690021295e-05\n",
      "-0.008110467183456649 -0.00811113056571422 8.179334711133635e-05 6.633822575707882e-07\n"
     ]
    },
    {
     "ename": "KeyboardInterrupt",
     "evalue": "",
     "output_type": "error",
     "traceback": [
      "\u001b[0;31m---------------------------------------------------------------------------\u001b[0m",
      "\u001b[0;31mKeyboardInterrupt\u001b[0m                         Traceback (most recent call last)",
      "\u001b[0;32m<ipython-input-9-e3ba5536a814>\u001b[0m in \u001b[0;36m<module>\u001b[0;34m()\u001b[0m\n\u001b[1;32m     15\u001b[0m     \u001b[0;31m#gp.alpha_ *= 0.0\u001b[0m\u001b[0;34m\u001b[0m\u001b[0;34m\u001b[0m\u001b[0m\n\u001b[1;32m     16\u001b[0m     \u001b[0;31m#gp = sur.dphase_gp_list[0]\u001b[0m\u001b[0;34m\u001b[0m\u001b[0;34m\u001b[0m\u001b[0m\n\u001b[0;32m---> 17\u001b[0;31m     \u001b[0mhyperparams\u001b[0m\u001b[0;34m,\u001b[0m \u001b[0mx_train\u001b[0m\u001b[0;34m,\u001b[0m \u001b[0mKinv_dot_y\u001b[0m \u001b[0;34m=\u001b[0m \u001b[0mextract_data_from_scikit_learn\u001b[0m\u001b[0;34m(\u001b[0m\u001b[0mgp\u001b[0m\u001b[0;34m)\u001b[0m\u001b[0;34m\u001b[0m\u001b[0m\n\u001b[0m\u001b[1;32m     18\u001b[0m \u001b[0;34m\u001b[0m\u001b[0m\n\u001b[1;32m     19\u001b[0m     \u001b[0ma\u001b[0m \u001b[0;34m=\u001b[0m \u001b[0mgp\u001b[0m\u001b[0;34m.\u001b[0m\u001b[0mpredict\u001b[0m\u001b[0;34m(\u001b[0m\u001b[0mnp\u001b[0m\u001b[0;34m.\u001b[0m\u001b[0matleast_2d\u001b[0m\u001b[0;34m(\u001b[0m\u001b[0mx\u001b[0m\u001b[0;34m)\u001b[0m\u001b[0;34m)\u001b[0m\u001b[0;34m[\u001b[0m\u001b[0;36m0\u001b[0m\u001b[0;34m]\u001b[0m\u001b[0;34m\u001b[0m\u001b[0m\n",
      "\u001b[0;32m<ipython-input-6-9183c4f47519>\u001b[0m in \u001b[0;36mextract_data_from_scikit_learn\u001b[0;34m(gp)\u001b[0m\n\u001b[1;32m     11\u001b[0m \u001b[0;34m\u001b[0m\u001b[0m\n\u001b[1;32m     12\u001b[0m     \u001b[0;31m# Evaluate K\u001b[0m\u001b[0;34m\u001b[0m\u001b[0;34m\u001b[0m\u001b[0m\n\u001b[0;32m---> 13\u001b[0;31m     \u001b[0mK\u001b[0m \u001b[0;34m=\u001b[0m \u001b[0mnp\u001b[0m\u001b[0;34m.\u001b[0m\u001b[0marray\u001b[0m\u001b[0;34m(\u001b[0m\u001b[0;34m[\u001b[0m\u001b[0;34m[\u001b[0m\u001b[0mkernel\u001b[0m\u001b[0;34m(\u001b[0m\u001b[0mx1\u001b[0m\u001b[0;34m,\u001b[0m \u001b[0mx2\u001b[0m\u001b[0;34m,\u001b[0m \u001b[0mhyperparams\u001b[0m\u001b[0;34m)\u001b[0m \u001b[0;32mfor\u001b[0m \u001b[0mx2\u001b[0m \u001b[0;32min\u001b[0m \u001b[0mx_train\u001b[0m\u001b[0;34m]\u001b[0m \u001b[0;32mfor\u001b[0m \u001b[0mx1\u001b[0m \u001b[0;32min\u001b[0m \u001b[0mx_train\u001b[0m\u001b[0;34m]\u001b[0m\u001b[0;34m)\u001b[0m\u001b[0;34m\u001b[0m\u001b[0m\n\u001b[0m\u001b[1;32m     14\u001b[0m \u001b[0;34m\u001b[0m\u001b[0m\n\u001b[1;32m     15\u001b[0m     \u001b[0;31m# Evaluate K^{-1}\u001b[0m\u001b[0;34m\u001b[0m\u001b[0;34m\u001b[0m\u001b[0m\n",
      "\u001b[0;32m<ipython-input-4-a41a38eae20d>\u001b[0m in \u001b[0;36mkernel\u001b[0;34m(x1, x2, hyperparams)\u001b[0m\n\u001b[1;32m     29\u001b[0m \u001b[0;34m\u001b[0m\u001b[0m\n\u001b[1;32m     30\u001b[0m     \u001b[0;31m# r**2\u001b[0m\u001b[0;34m\u001b[0m\u001b[0;34m\u001b[0m\u001b[0m\n\u001b[0;32m---> 31\u001b[0;31m     \u001b[0mrsq\u001b[0m \u001b[0;34m=\u001b[0m \u001b[0mnp\u001b[0m\u001b[0;34m.\u001b[0m\u001b[0msum\u001b[0m\u001b[0;34m(\u001b[0m\u001b[0mnp\u001b[0m\u001b[0;34m.\u001b[0m\u001b[0marray\u001b[0m\u001b[0;34m(\u001b[0m\u001b[0;34m[\u001b[0m\u001b[0;34m(\u001b[0m\u001b[0mx1\u001b[0m\u001b[0;34m[\u001b[0m\u001b[0mi\u001b[0m\u001b[0;34m]\u001b[0m\u001b[0;34m-\u001b[0m\u001b[0mx2\u001b[0m\u001b[0;34m[\u001b[0m\u001b[0mi\u001b[0m\u001b[0;34m]\u001b[0m\u001b[0;34m)\u001b[0m\u001b[0;34m**\u001b[0m\u001b[0;36m2\u001b[0m \u001b[0;34m/\u001b[0m \u001b[0mls\u001b[0m\u001b[0;34m[\u001b[0m\u001b[0mi\u001b[0m\u001b[0;34m]\u001b[0m\u001b[0;34m**\u001b[0m\u001b[0;36m2\u001b[0m \u001b[0;32mfor\u001b[0m \u001b[0mi\u001b[0m \u001b[0;32min\u001b[0m \u001b[0mrange\u001b[0m\u001b[0;34m(\u001b[0m\u001b[0mndim\u001b[0m\u001b[0;34m)\u001b[0m\u001b[0;34m]\u001b[0m\u001b[0;34m)\u001b[0m\u001b[0;34m)\u001b[0m\u001b[0;34m\u001b[0m\u001b[0m\n\u001b[0m\u001b[1;32m     32\u001b[0m     \u001b[0mr\u001b[0m \u001b[0;34m=\u001b[0m \u001b[0mnp\u001b[0m\u001b[0;34m.\u001b[0m\u001b[0msqrt\u001b[0m\u001b[0;34m(\u001b[0m\u001b[0mrsq\u001b[0m\u001b[0;34m)\u001b[0m\u001b[0;34m\u001b[0m\u001b[0m\n\u001b[1;32m     33\u001b[0m \u001b[0;34m\u001b[0m\u001b[0m\n",
      "\u001b[0;32m/opt/local/Library/Frameworks/Python.framework/Versions/2.7/lib/python2.7/site-packages/numpy/core/fromnumeric.pyc\u001b[0m in \u001b[0;36msum\u001b[0;34m(a, axis, dtype, out, keepdims)\u001b[0m\n\u001b[1;32m   1863\u001b[0m \u001b[0;34m\u001b[0m\u001b[0m\n\u001b[1;32m   1864\u001b[0m     \"\"\"\n\u001b[0;32m-> 1865\u001b[0;31m     \u001b[0mkwargs\u001b[0m \u001b[0;34m=\u001b[0m \u001b[0;34m{\u001b[0m\u001b[0;34m}\u001b[0m\u001b[0;34m\u001b[0m\u001b[0m\n\u001b[0m\u001b[1;32m   1866\u001b[0m     \u001b[0;32mif\u001b[0m \u001b[0mkeepdims\u001b[0m \u001b[0;32mis\u001b[0m \u001b[0;32mnot\u001b[0m \u001b[0mnp\u001b[0m\u001b[0;34m.\u001b[0m\u001b[0m_NoValue\u001b[0m\u001b[0;34m:\u001b[0m\u001b[0;34m\u001b[0m\u001b[0m\n\u001b[1;32m   1867\u001b[0m         \u001b[0mkwargs\u001b[0m\u001b[0;34m[\u001b[0m\u001b[0;34m'keepdims'\u001b[0m\u001b[0;34m]\u001b[0m \u001b[0;34m=\u001b[0m \u001b[0mkeepdims\u001b[0m\u001b[0;34m\u001b[0m\u001b[0m\n",
      "\u001b[0;31mKeyboardInterrupt\u001b[0m: "
     ]
    }
   ],
   "source": [
    "# Is there an alpha = 1.0e-10 term in the scikit-learn version?\n",
    "\n",
    "def xi_of_lam(lam, a=100):\n",
    "    return np.log10(lam/a + 1)\n",
    "\n",
    "#Random point:\n",
    "x = np.array([0.8, 0.2, 0.1, xi_of_lam(1000), xi_of_lam(2000)])\n",
    "\n",
    "# Point exactly in training set:\n",
    "#x = np.array([1.0, 0.5, 0.5, 0.0, 0.0])\n",
    "\n",
    "for i in range(len(sur.damp_gp_list)):\n",
    "    gp = sur.damp_gp_list[i]\n",
    "    gp.alpha = 0.0\n",
    "    #gp.alpha_ *= 0.0\n",
    "    #gp = sur.dphase_gp_list[0]\n",
    "    hyperparams, x_train, Kinv_dot_y = extract_data_from_scikit_learn(gp)\n",
    "\n",
    "    a = gp.predict(np.atleast_2d(x))[0]\n",
    "    b = gp_predict(x, hyperparams, x_train, Kinv_dot_y)\n",
    "\n",
    "    sigma_n = hyperparams[-1]\n",
    "    print sigma_n\n",
    "    print a, b, np.abs(b/a-1.), np.abs(b-a)"
   ]
  },
  {
   "cell_type": "markdown",
   "metadata": {
    "deletable": true,
    "editable": true
   },
   "source": [
    "# Generate hdf5 file for lalsuite version"
   ]
  },
  {
   "cell_type": "code",
   "execution_count": 11,
   "metadata": {
    "collapsed": false,
    "deletable": true,
    "editable": true
   },
   "outputs": [
    {
     "name": "stdout",
     "output_type": "stream",
     "text": [
      "\n"
     ]
    }
   ],
   "source": [
    "def lalsuite_spline_surrogate_format(filename, sur):\n",
    "    \"\"\"Write data to an hdf5 file format that can be read by the \n",
    "    lalsuite version of the code.\n",
    "    \"\"\"\n",
    "    f = h5py.File(filename, libver='latest')\n",
    "    \n",
    "    namp = len(sur.damp_gp_list)\n",
    "    nphase = len(sur.dphase_gp_list)\n",
    "    \n",
    "    # Make sure 'Description' is capitalized for LAL\n",
    "    f.attrs['Description'] = \\\n",
    "'''\n",
    "********************************************************************************\n",
    "Data for the SEOBNRv4T_surrogate waveform. \n",
    "Aligned-spin BNS with tidal interactions and the spin-induced quadrupole moment\n",
    "that is linked to the tidal deformability via universal relations.\n",
    "\n",
    "See B. Lackey, M. Puerrer, A. Taracchini, S. Marsat. arXiv:xxxx.xxxx.\n",
    "\n",
    "Parameter ranges:\n",
    "* 1.0/3.0 <= q <= 1.0\n",
    "* -0.5 <= spin_1z <= 0.5\n",
    "* -0.5 <= spin_2z <= 0.5\n",
    "* 0.0 <= lambda_1 <= 5000.0\n",
    "* 0.0 <= lambda_2 <= 5000.0\n",
    "\n",
    "The first spline node for dphase is not listed since it is the same as the first\n",
    "node for damp, and dphase = 0 for the first node.\n",
    "\n",
    "The hyperparameters for the Gaussian process regression associated with each \n",
    "basis function are listed in the order\n",
    "[sigma_f, l_q, l_spin1z, l_spin2z, l_xi1, l_xi2, sigma_n]\n",
    "where sigma_f is approximately the function range, sigma_n is the noise/tolerance, \n",
    "and l_i is the correlation length scale for the parameter i.\n",
    "\n",
    "Note, the GPR fit is done in terms of xi1, xi2 instead of lambda1, lambda2, where\n",
    "xi = log10(lambda/100 + 1).\n",
    "********************************************************************************\n",
    "'''\n",
    "    \n",
    "    f.attrs['Creator'] = 'Ben Lackey, Michael Puerrer, Andrea Taracchini, Sylvain Marsat'\n",
    "    f.attrs['Email'] = 'benjamin.lackey@ligo.org, michael.puerrer@ligo.org'\n",
    "    f.attrs.create('version_major', 1, dtype='i4')\n",
    "    f.attrs.create('version_minor', 0, dtype='i4')\n",
    "    f.attrs.create('version_micro', 0, dtype='i4')\n",
    "    \n",
    "    # Bounds\n",
    "    # To be read properly from LAL, make sure that all bounds are arrays of floats *not* integers.\n",
    "    f['q_bounds'] = np.array([1.0/3.0, 1.0])\n",
    "    f['chi1_bounds'] = np.array([-0.5, 0.5])\n",
    "    f['chi2_bounds'] = np.array([-0.5, 0.5])\n",
    "    f['lambda1_bounds'] = np.array([0.0, 5000.0])\n",
    "    f['lambda2_bounds'] = np.array([0.0, 5000.0])\n",
    "\n",
    "    # Nodes for splines.\n",
    "    f['spline_nodes_amp'] = sur.mf_amp\n",
    "    f['spline_nodes_phase'] = sur.mf_phase\n",
    "    \n",
    "    print f['spline_nodes_amp'][:].shape\n",
    "    print f['spline_nodes_phase'][:].shape\n",
    "    \n",
    "    # Nodes for splines of final waveform\n",
    "    npoints = 1000\n",
    "    mfs = np.logspace(-5.0, np.log10(sur.mf_phase[-1]), npoints)\n",
    "    f['TF2_Mf_amp_linear'] = mfs\n",
    "    f['TF2_Mf_phi_linear'] = mfs\n",
    "    f['TF2_Mf_amp_cubic'] = mfs\n",
    "    f['TF2_Mf_phi_cubic'] = mfs\n",
    "    \n",
    "    print mfs[0], mfs[-1]\n",
    "    print f['TF2_Mf_amp_linear'][:].shape\n",
    "\n",
    "    # Training set samples.\n",
    "    # They are the same for all basis functions so pick amp_0\n",
    "    gp = sur.damp_gp_list[0]\n",
    "    x_train = gp.X_train_\n",
    "    f['x_train'] = x_train\n",
    "    \n",
    "    print 'Writing amplitude bases...'\n",
    "    hyp_amp = []\n",
    "    kinv_dot_y_amp = []\n",
    "    for i in range(namp):\n",
    "        print i, \n",
    "        gp = sur.damp_gp_list[i]\n",
    "        hyperparameters, x_train, kinv_dot_y = extract_data_from_scikit_learn(gp)\n",
    "        hyp_amp.append(hyperparameters)\n",
    "        kinv_dot_y_amp.append(kinv_dot_y)\n",
    "    \n",
    "    f['hyp_amp'] = np.array(hyp_amp)\n",
    "    f['kinv_dot_y_amp'] = np.array(kinv_dot_y_amp)\n",
    "    \n",
    "    print f['hyp_amp'][:].shape\n",
    "    print f['kinv_dot_y_amp'][:].shape\n",
    "    \n",
    "    \n",
    "    print '\\nWriting phase bases...'\n",
    "    hyp_phase = []\n",
    "    kinv_dot_y_phase = []\n",
    "    for i in range(nphase):\n",
    "        print i, \n",
    "        gp = sur.dphase_gp_list[i]\n",
    "        hyperparameters, x_train, kinv_dot_y = extract_data_from_scikit_learn(gp)\n",
    "        hyp_phase.append(hyperparameters)\n",
    "        kinv_dot_y_phase.append(kinv_dot_y)\n",
    "    \n",
    "    f['hyp_phi'] = np.array(hyp_phase)\n",
    "    f['kinv_dot_y_phi'] = np.array(kinv_dot_y_phase)\n",
    "    \n",
    "    print f['hyp_phi'][:].shape\n",
    "    print f['kinv_dot_y_phi'][:].shape\n",
    "    \n",
    "    f.close()"
   ]
  },
  {
   "cell_type": "code",
   "execution_count": 12,
   "metadata": {
    "collapsed": false,
    "deletable": true,
    "editable": true
   },
   "outputs": [
    {
     "name": "stdout",
     "output_type": "stream",
     "text": [
      "(40,)\n",
      "(39,)\n",
      "1e-05 0.07000000000000002\n",
      "(1000,)\n",
      "Writing amplitude bases...\n",
      "0 1 2 3 4 5 6 7 8 9 10 11 12 13 14 15 16 17 18 19 20 21 22 23 24 25 26 27 28 29 30 31 32 33 34 35 36 37 38 39 (40, 7)\n",
      "(40, 960)\n",
      "\n",
      "Writing phase bases...\n",
      "0 1 2 3 4 5 6 7 8 9 10 11 12 13 14 15 16 17 18 19 20 21 22 23 24 25 26 27 28 29 30 31 32 33 34 35 36 37 38 (39, 7)\n",
      "(39, 960)\n"
     ]
    }
   ],
   "source": [
    "filename = '../../data/TEOBv4QM_production/SEOBNRv4T_surrogate_v1.0.0.hdf5'\n",
    "lalsuite_spline_surrogate_format(filename, sur)"
   ]
  },
  {
   "cell_type": "markdown",
   "metadata": {
    "deletable": true,
    "editable": true
   },
   "source": [
    "## Testing"
   ]
  },
  {
   "cell_type": "code",
   "execution_count": 13,
   "metadata": {
    "collapsed": false,
    "deletable": true,
    "editable": true
   },
   "outputs": [
    {
     "name": "stderr",
     "output_type": "stream",
     "text": [
      "h5dump error: unable to open file \"/Users/lackey/Research/gpsurrogate/data/TEOBv4QM_20hz/SEOBNRv4T_surrogate_v1.0.0.hdf5\"\n"
     ]
    }
   ],
   "source": [
    "%%bash\n",
    "#h5ls ../../data/TEOBv4QM_20hz/SEOBNRv4T_surrogate_v1.0.0.hdf5\n",
    "#h5dump -n 1 ../../data/TEOBv4QM_20hz/SEOBNRv4T_surrogate_v1.0.0.hdf5\n",
    "h5dump -a Description /Users/lackey/Research/gpsurrogate/data/TEOBv4QM_20hz/SEOBNRv4T_surrogate_v1.0.0.hdf5"
   ]
  },
  {
   "cell_type": "markdown",
   "metadata": {
    "collapsed": true,
    "deletable": true,
    "editable": true
   },
   "source": [
    "# Compare TaylorF2 to lalsimulation version"
   ]
  },
  {
   "cell_type": "code",
   "execution_count": 7,
   "metadata": {
    "collapsed": true,
    "deletable": true,
    "editable": true
   },
   "outputs": [],
   "source": [
    "# Note: these functions are not callable outside this source file, even though they are XLAL\n",
    "# Therefore I reimplement them here.\n",
    "# See LALSimInspiralPNCoefficients.c\n",
    "\n",
    "def XLALSimInspiralTaylorF2Phasing_10PNTidalCoeff(mByM):\n",
    "    return (-288. + 264.*mByM)*mByM*mByM*mByM*mByM;\n",
    "\n",
    "def XLALSimInspiralTaylorF2Phasing_12PNTidalCoeff(mByM):\n",
    "    return (-15895./28. + 4595./28.*mByM + 5715./14.*mByM*mByM - 325./7.*mByM*mByM*mByM)*mByM*mByM*mByM*mByM;"
   ]
  },
  {
   "cell_type": "code",
   "execution_count": 98,
   "metadata": {
    "collapsed": false,
    "deletable": true,
    "editable": true
   },
   "outputs": [],
   "source": [
    "def pn_phase_lal(mfs, eta, chi1, chi2, lambda1, lambda2, quad1, quad2):\n",
    "    \"\"\"This is essentially the way LALSimulation calculates the TaylorF2 phase array.\n",
    "    \"\"\"\n",
    "    d = np.sqrt(1.0-4.0*eta)\n",
    "    X1 = 0.5*(1.0+d)\n",
    "    X2 = 0.5*(1.0-d)\n",
    "    \n",
    "    # Fake masses\n",
    "    mtot = 2.0\n",
    "    m1 = X1*mtot\n",
    "    m2 = X2*mtot\n",
    "    \n",
    "    # Specify PN order for spin terms\n",
    "    extraParams = lal.CreateDict()\n",
    "    lalsimulation.SimInspiralWaveformParamsInsertPNSpinOrder(\n",
    "        extraParams, lalsimulation.SIM_INSPIRAL_SPIN_ORDER_35PN)\n",
    "    \n",
    "    # Add spin-induced quadrupole terms\n",
    "    # dQuadMon1 = quad1 - 1\n",
    "    # dQuadMon2 = quad2 - 1\n",
    "    lalsimulation.SimInspiralWaveformParamsInsertdQuadMon1(extraParams, quad1-1.0)\n",
    "    lalsimulation.SimInspiralWaveformParamsInsertdQuadMon2(extraParams, quad2-1.0)\n",
    "    \n",
    "    print lalsimulation.SimInspiralWaveformParamsLookupdQuadMon1(extraParams)\n",
    "    print lalsimulation.SimInspiralWaveformParamsLookupdQuadMon2(extraParams)\n",
    "    \n",
    "    # Calculate coefficients of each power of v\n",
    "    pn = lalsimulation.SimInspiralTaylorF2AlignedPhasing(\n",
    "        m1*lal.MSUN_SI, m2*lal.MSUN_SI, chi1, chi2, extraParams)\n",
    "    #print pn.v\n",
    "    \n",
    "    # Manually add the tidal parameters\n",
    "    \n",
    "    pn.v[10] = pn.v[0]*(lambda1*XLALSimInspiralTaylorF2Phasing_10PNTidalCoeff(X1)\n",
    "                        + lambda2*XLALSimInspiralTaylorF2Phasing_10PNTidalCoeff(X2))\n",
    "    pn.v[12] = pn.v[0]*(lambda1*XLALSimInspiralTaylorF2Phasing_12PNTidalCoeff(X1)\n",
    "                        + lambda2*XLALSimInspiralTaylorF2Phasing_12PNTidalCoeff(X2))\n",
    "    \n",
    "    print pn.v[0]\n",
    "    print pn.v/pn.v[0]\n",
    "    print pn.vlogv/pn.v[0]/2\n",
    "    print pn.v[10]/pn.v[0], pn.v[12]/pn.v[0]\n",
    "    \n",
    "    phases = []\n",
    "    for mf in mfs:\n",
    "        v = (lal.PI * mf)**(1.0/3.0)\n",
    "        logv = log(v)\n",
    "    \n",
    "        v2 = v * v;\n",
    "        v3 = v * v2;\n",
    "        v4 = v * v3;\n",
    "        v5 = v * v4;\n",
    "        v6 = v * v5;\n",
    "        v7 = v * v6;\n",
    "        v8 = v * v7;\n",
    "        v9 = v * v8;\n",
    "        v10 = v * v9;\n",
    "        v12 = v2 * v10;\n",
    "        phasing = 0.0;\n",
    "        \n",
    "        phasing += pn.v[7] * v7;\n",
    "        phasing += (pn.v[6] + pn.vlogv[6] * logv) * v6;\n",
    "        phasing += (pn.v[5] + pn.vlogv[5] * logv) * v5;\n",
    "        phasing += pn.v[4] * v4;\n",
    "        phasing += pn.v[3] * v3;\n",
    "        phasing += pn.v[2] * v2;\n",
    "        phasing += pn.v[1] * v;\n",
    "        phasing += pn.v[0];\n",
    "        \n",
    "        # Tidal terms in phasing\n",
    "        phasing += pn.v[12] * v12;\n",
    "        phasing += pn.v[10] * v10;\n",
    "        \n",
    "        phasing /= v5;\n",
    "        phases.append(phasing)\n",
    "    \n",
    "    return np.array(phases)"
   ]
  },
  {
   "cell_type": "code",
   "execution_count": 99,
   "metadata": {
    "collapsed": true,
    "deletable": true,
    "editable": true
   },
   "outputs": [],
   "source": [
    "# Check that you reproduce the LALSimulation version to double precision\n",
    "\n",
    "#x = np.array([0.46, 0.0, 0.0, 5000, 500])\n",
    "#x = np.array([0.46, -0.7, 0.2, 5000, 500])\n",
    "x = np.array([1.0/3.0, -0.5, -0.5, 5000, 5000])\n",
    "mf = np.logspace(-5, -2, 5)\n",
    "tbymc = 0\n",
    "phic = 0\n",
    "\n",
    "q, chi1, chi2, lambda1, lambda2 = x\n",
    "eta = q/(1.0+q)**2"
   ]
  },
  {
   "cell_type": "code",
   "execution_count": 100,
   "metadata": {
    "collapsed": false,
    "deletable": true,
    "editable": true
   },
   "outputs": [
    {
     "name": "stdout",
     "output_type": "stream",
     "text": [
      "lalsuite: \n",
      "0.0\n",
      "0.0\n",
      "0.125\n",
      "[  1.000000e+00   0.000000e+00   6.059854e+00  -6.672382e+01   2.916902e+01   2.891869e+02  -1.887921e+03\n",
      "   3.921183e+03   0.000000e+00   0.000000e+00  -1.467188e+05   0.000000e+00  -3.808908e+05]\n",
      "[   0.          0.          0.          0.          0.        433.780314 -163.047619    0.          0.          0.\n",
      "    0.          0.          0.      ]\n",
      "-146718.75 -380890.764509\n",
      "\n",
      "Ben: \n",
      "1.0 1.0\n",
      "\n",
      "Fractional difference: \n",
      "[  4.011828e+06   2.261518e+05   1.237551e+04   4.330969e+02  -1.801003e+02]\n",
      "[  4.011828e+06   2.261518e+05   1.237551e+04   4.330969e+02  -1.801003e+02]\n",
      "[  1.396984e-09   5.820766e-11  -5.456968e-12   0.000000e+00  -2.842171e-14]\n",
      "[  4.440892e-16   2.220446e-16  -4.440892e-16   0.000000e+00   2.220446e-16]\n"
     ]
    }
   ],
   "source": [
    "quad1 = 1.0\n",
    "quad2 = 1.0\n",
    "\n",
    "print 'lalsuite: '\n",
    "lal_phase = pn_phase_lal(mf, eta, chi1, chi2, lambda1, lambda2, quad1, quad2)\n",
    "\n",
    "print '\\nBen: '\n",
    "ben_phase = -f2.taylorf2_phase(mf, tbymc, phic, eta, chi1, chi2, lambda1, lambda2, quad1, quad2)+np.pi/4\n",
    "\n",
    "print '\\nFractional difference: '\n",
    "print lal_phase\n",
    "print ben_phase\n",
    "print lal_phase - ben_phase\n",
    "print lal_phase/ben_phase - 1.0"
   ]
  },
  {
   "cell_type": "code",
   "execution_count": 101,
   "metadata": {
    "collapsed": false,
    "deletable": true,
    "editable": true
   },
   "outputs": [
    {
     "name": "stdout",
     "output_type": "stream",
     "text": [
      "lalsuite: \n",
      "10.8705502655\n",
      "10.8705502655\n",
      "0.125\n",
      "[  1.000000e+00   0.000000e+00   6.059854e+00  -6.672382e+01  -5.575715e+01   2.891869e+02  -4.597058e+02\n",
      "   3.921183e+03   0.000000e+00   0.000000e+00  -1.467188e+05   0.000000e+00  -3.808908e+05]\n",
      "[   0.          0.          0.          0.          0.        433.780314 -163.047619    0.          0.          0.\n",
      "    0.          0.          0.      ]\n",
      "-146718.75 -380890.764509\n",
      "\n",
      "Ben: \n",
      "11.8705502655 11.8705502655\n",
      "\n",
      "Fractional difference: \n",
      "[  4.011498e+06   2.259727e+05   1.228693e+04   4.049470e+02  -1.574120e+02]\n",
      "[  4.011498e+06   2.259727e+05   1.228693e+04   4.049470e+02  -1.574120e+02]\n",
      "[  2.328306e-09   0.000000e+00  -5.456968e-12   1.136868e-13  -2.842171e-14]\n",
      "[  6.661338e-16   0.000000e+00  -4.440892e-16   2.220446e-16   2.220446e-16]\n"
     ]
    }
   ],
   "source": [
    "quad1 = f2.quad_of_lambda_fit(lambda1)\n",
    "quad2 = f2.quad_of_lambda_fit(lambda2)\n",
    "\n",
    "print 'lalsuite: '\n",
    "lal_phase = pn_phase_lal(mf, eta, chi1, chi2, lambda1, lambda2, quad1, quad2)\n",
    "\n",
    "print '\\nBen: '\n",
    "ben_phase = -f2.taylorf2_phase(mf, tbymc, phic, eta, chi1, chi2, lambda1, lambda2, quad1, quad2)+np.pi/4\n",
    "\n",
    "print '\\nFractional difference: '\n",
    "print lal_phase\n",
    "print ben_phase\n",
    "print lal_phase - ben_phase\n",
    "print lal_phase/ben_phase - 1.0"
   ]
  },
  {
   "cell_type": "markdown",
   "metadata": {
    "deletable": true,
    "editable": true
   },
   "source": [
    "# Compare TaylorF2 to LALSimulation h+, hx output"
   ]
  },
  {
   "cell_type": "code",
   "execution_count": 89,
   "metadata": {
    "collapsed": false,
    "deletable": true,
    "editable": true
   },
   "outputs": [],
   "source": [
    "mf = np.logspace(np.log10(0.00021), np.log10(0.07), 1000)"
   ]
  },
  {
   "cell_type": "code",
   "execution_count": 90,
   "metadata": {
    "collapsed": false,
    "deletable": true,
    "editable": true
   },
   "outputs": [
    {
     "name": "stdout",
     "output_type": "stream",
     "text": [
      "11.8705502655 11.8705502655\n",
      "(6979001,)\n"
     ]
    }
   ],
   "source": [
    "mf_min = mf[0]\n",
    "mf_max = mf[-1]\n",
    "hlal = lalwaveform.dimensionless_fd_waveform(\n",
    "    approximant='TaylorF2', \n",
    "    q=q, spin1z=chi1, spin2z=chi2, lambda1=lambda1, lambda2=lambda2, quad1=quad1, quad2=quad2,\n",
    "    mf_min=mf_min, mf_max=mf_max, delta_mf=1.0e-8)\n",
    "hlal.add_phase(remove_start_phase=True)\n",
    "lal_phase = hlal.interpolate('phase')(mf)\n",
    "\n",
    "print hlal.phase.shape"
   ]
  },
  {
   "cell_type": "code",
   "execution_count": 91,
   "metadata": {
    "collapsed": false,
    "deletable": true,
    "editable": true
   },
   "outputs": [
    {
     "name": "stdout",
     "output_type": "stream",
     "text": [
      "11.8705502655 11.8705502655\n"
     ]
    }
   ],
   "source": [
    "ben_phase = f2.taylorf2_phase(mf, tbymc, phic, eta, chi1, chi2, lambda1, lambda2, quad1, quad2)\n",
    "ben_phase -= ben_phase[0]"
   ]
  },
  {
   "cell_type": "code",
   "execution_count": 92,
   "metadata": {
    "collapsed": false,
    "deletable": true,
    "editable": true
   },
   "outputs": [
    {
     "data": {
      "text/plain": [
       "[<matplotlib.lines.Line2D at 0x1130c5210>]"
      ]
     },
     "execution_count": 92,
     "metadata": {},
     "output_type": "execute_result"
    },
    {
     "data": {
      "image/png": "[encoded data removed]",
      "text/plain": [
       "<matplotlib.figure.Figure at 0x112cd2490>"
      ]
     },
     "metadata": {},
     "output_type": "display_data"
    },
    {
     "data": {
      "image/png": "[encoded data removed]",
      "text/plain": [
       "<matplotlib.figure.Figure at 0x113084d10>"
      ]
     },
     "metadata": {},
     "output_type": "display_data"
    }
   ],
   "source": [
    "fig, ax = plt.subplots()\n",
    "ax.plot(mf, lal_phase)\n",
    "ax.plot(mf, ben_phase)\n",
    "ax.set_xscale('log')\n",
    "\n",
    "fig, ax = plt.subplots()\n",
    "ax.plot(mf, lal_phase-ben_phase)\n",
    "#ax.set_xscale('log')"
   ]
  },
  {
   "cell_type": "code",
   "execution_count": null,
   "metadata": {
    "collapsed": true,
    "deletable": true,
    "editable": true
   },
   "outputs": [],
   "source": []
  }
 ],
 "metadata": {
  "kernelspec": {
   "display_name": "Python 2",
   "language": "python",
   "name": "python2"
  },
  "language_info": {
   "codemirror_mode": {
    "name": "ipython",
    "version": 2
   },
   "file_extension": ".py",
   "mimetype": "text/x-python",
   "name": "python",
   "nbconvert_exporter": "python",
   "pygments_lexer": "ipython2",
   "version": "2.7.14"
  }
 },
 "nbformat": 4,
 "nbformat_minor": 1
}
