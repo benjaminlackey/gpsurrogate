{
 "cells": [
  {
   "cell_type": "markdown",
   "metadata": {
    "deletable": true,
    "editable": true
   },
   "source": [
    "```\n",
    "Print file contents and attributes:\n",
    "h5dump -n 1 TEOB_dataI.hdf5\n",
    "\n",
    "Copy data from vulcan:\n",
    "\n",
    "gsiscp vulcan1.aei.mpg.de:/work/mpuer/projects/gpsurrogate/QM/20Hz/params_testset1d_S1/TEOB_dataI.hdf5 TEOB_data_test1d_S1.hdf5\n",
    "\n",
    "gsiscp vulcan1.aei.mpg.de:/work/mpuer/projects/gpsurrogate/QM/20Hz/train/TEOB_dataI.hdf5 TEOB_data_train_corners_lhd.hdf5\n",
    "  \n",
    "gsiscp vulcan1.aei.mpg.de:/work/mpuer/projects/gpsurrogate/QM/20Hz/Dec5_500/TEOB_dataI.hdf5 TEOB_data_train_uncsamp.hdf5\n",
    "\n",
    "gsiscp vulcan1.aei.mpg.de:/work/mpuer/projects/gpsurrogate/QM/20Hz/validation/TEOB_dataI.hdf5 TEOB_data_test1.hdf5\n",
    "\n",
    "gsiscp vulcan1.aei.mpg.de:/work/mpuer/projects/gpsurrogate/QM/20Hz/validation2/TEOB_dataI.hdf5 TEOB_data_test2.hdf5\n",
    "```"
   ]
  },
  {
   "cell_type": "code",
   "execution_count": 1,
   "metadata": {
    "collapsed": false,
    "deletable": true,
    "editable": true
   },
   "outputs": [
    {
     "name": "stdout",
     "output_type": "stream",
     "text": [
      "Populating the interactive namespace from numpy and matplotlib\n",
      "2.0.0rc1\n"
     ]
    }
   ],
   "source": [
    "%pylab inline\n",
    "#%matplotlib notebook\n",
    "\n",
    "import numpy as np\n",
    "import matplotlib.pyplot as plt\n",
    "from mpl_toolkits.mplot3d import Axes3D\n",
    "\n",
    "import scipy.interpolate as interpolate\n",
    "import scipy.integrate as integrate\n",
    "import scipy.optimize as optimize\n",
    "\n",
    "import matplotlib\n",
    "print matplotlib.__version__"
   ]
  },
  {
   "cell_type": "code",
   "execution_count": 2,
   "metadata": {
    "collapsed": false,
    "deletable": true,
    "editable": true
   },
   "outputs": [
    {
     "name": "stdout",
     "output_type": "stream",
     "text": [
      "\n"
     ]
    }
   ],
   "source": [
    "sys.path.insert(0, '../../src')\n",
    "\n",
    "import waveform as wave\n",
    "import waveformset as ws\n",
    "import trainingset as train\n",
    "import taylorf2\n",
    "import gaussianprocessregression as gpr\n",
    "import designofexperiment as doe\n",
    "import lalwaveform\n",
    "import plotparams\n",
    "import greedy\n",
    "import empiricalinterpolation as eim\n",
    "import surrogate\n",
    "import diagnostics\n",
    "import window\n",
    "import trainingseteob as traineob\n",
    "\n",
    "import imp\n",
    "imp.reload(wave)\n",
    "imp.reload(ws)\n",
    "imp.reload(train)\n",
    "imp.reload(taylorf2)\n",
    "imp.reload(gpr)\n",
    "imp.reload(doe)\n",
    "imp.reload(lalwaveform)\n",
    "imp.reload(greedy)\n",
    "imp.reload(eim)\n",
    "imp.reload(surrogate)\n",
    "imp.reload(diagnostics)\n",
    "imp.reload(window)\n",
    "imp.reload(traineob)\n",
    "\n",
    "import constants\n",
    "imp.reload(constants)\n",
    "from constants import *"
   ]
  },
  {
   "cell_type": "code",
   "execution_count": 3,
   "metadata": {
    "collapsed": false,
    "deletable": true,
    "editable": true
   },
   "outputs": [],
   "source": [
    "from lalwaveform import dimensionless_td_waveform, dimensionless_fd_waveform\n",
    "import pycbc.waveform\n",
    "\n",
    "from scipy import stats\n",
    "import h5py\n",
    "import glob"
   ]
  },
  {
   "cell_type": "markdown",
   "metadata": {
    "deletable": true,
    "editable": true
   },
   "source": [
    "# Methods for the training set"
   ]
  },
  {
   "cell_type": "code",
   "execution_count": 4,
   "metadata": {
    "collapsed": false,
    "deletable": true,
    "editable": true
   },
   "outputs": [],
   "source": [
    "def load_eob_training_set_td(orig_filename, mtot=2.0, distance=1.0):\n",
    "    \"\"\"Load a compressed waveform set and return a list of Waveform objects.\n",
    "    \"\"\"\n",
    "    # Open original waveform file\n",
    "    f = h5py.File(orig_filename)\n",
    "    nwave = len(f['configurations'][:])\n",
    "    print f.attrs['GenerationSettings']\n",
    "    print f['configurations_keys'][:]\n",
    "    print f['data_keys_name'][:]\n",
    "    \n",
    "    params = []\n",
    "    hlist = []\n",
    "    for i in range(nwave):\n",
    "        print i, \n",
    "        try:\n",
    "            p, h = traineob.get_waveform_from_training_set(f, i, mtot=mtot, distance=distance)\n",
    "        except KeyError as e:\n",
    "            print e\n",
    "        else:\n",
    "            # Run if an exception was not raised\n",
    "            params.append(p)\n",
    "            hlist.append(h)\n",
    "        \n",
    "    return np.array(params), hlist"
   ]
  },
  {
   "cell_type": "markdown",
   "metadata": {
    "deletable": true,
    "editable": true
   },
   "source": [
    "# Settings for conditioning all waveform sets"
   ]
  },
  {
   "cell_type": "code",
   "execution_count": 5,
   "metadata": {
    "collapsed": false,
    "deletable": true,
    "editable": true
   },
   "outputs": [
    {
     "name": "stdout",
     "output_type": "stream",
     "text": [
      "0.000197019641022\n",
      "[20.0, 21.317671569285263, 21.317671569285263, 22.383555147749526, 21.317671569285263, 7105.890523095088]\n"
     ]
    }
   ],
   "source": [
    "# Total mass (M_sun) and starting frequency (Hz) for the waveforms\n",
    "mtot = 2.0\n",
    "flow = 20.0\n",
    "\n",
    "# Start and stop frequencies for Planck window at beginning of waveform\n",
    "win = 'planck'\n",
    "winon_i = f_to_mf(flow, mtot)\n",
    "winon_f = 0.00021\n",
    "\n",
    "\n",
    "# Sampling interval. \n",
    "# Make sure the Nyquist frequency 1/(2*delta_t) is > highest frequency feature in the waveform.\n",
    "delta_t = 5.0\n",
    "\n",
    "# Length of the zero-padded time-domain waveform.\n",
    "# Make it a power of 2.\n",
    "min_total_time = 4.0*train.zero_pn_coalescence_time(winon_i, 1.0)\n",
    "n_ext = train.next_pow_2(min_total_time, delta_t)\n",
    "\n",
    "# Filter with a moving average filter\n",
    "filter_dfbyf_amp = 0.1\n",
    "filter_dfbyf_phase = 0.05\n",
    "\n",
    "# Fit the phase at the beginning to TaylorF2 \n",
    "# using an interval just big enough to not cause numerical noise\n",
    "fit_i = winon_f\n",
    "fit_f = fit_i*(1.0+0.05)\n",
    "\n",
    "# Truncation frequencies.\n",
    "# Final conditioned waveform defined in interval [trunc_i, trunc_f].\n",
    "trunc_i = winon_f\n",
    "trunc_f = 0.07\n",
    "\n",
    "# Number of log-spaced points for the final conditioned waveform.\n",
    "npoints = 10000\n",
    "\n",
    "\n",
    "print winon_i\n",
    "print [mf_to_f(mf, mtot) for mf in [winon_i, winon_f, fit_i, fit_f, trunc_i, trunc_f]]"
   ]
  },
  {
   "cell_type": "markdown",
   "metadata": {
    "deletable": true,
    "editable": true
   },
   "source": [
    "# Initial training set with 32 corners and 128 LHD samples"
   ]
  },
  {
   "cell_type": "code",
   "execution_count": null,
   "metadata": {
    "collapsed": false,
    "deletable": true,
    "editable": true
   },
   "outputs": [],
   "source": [
    "orig_filename = '../../data/TEOBv4QM_20hz/TEOB_data_train_corners_lhd.hdf5'\n",
    "params, hlist = load_eob_training_set_td(orig_filename)"
   ]
  },
  {
   "cell_type": "code",
   "execution_count": null,
   "metadata": {
    "collapsed": false,
    "deletable": true,
    "editable": true
   },
   "outputs": [],
   "source": [
    "fig, ax = wave.plot_waveforms(hlist, hc=True, xi=-1000, npoints=10000)"
   ]
  },
  {
   "cell_type": "code",
   "execution_count": null,
   "metadata": {
    "collapsed": false,
    "deletable": true,
    "editable": true
   },
   "outputs": [],
   "source": [
    "i=97\n",
    "p = params[i]\n",
    "print p\n",
    "fig, ax = wave.plot_waveforms([hlist[i]], hc=True, xi=-1000, xf=200, npoints=10000)\n",
    "title = 'q, s1, s2, lam1, lam2 = {:.3}, {:.3}, {:.3}, {:.1f}, {:.1f}'.format(p[0], p[1], p[2], p[3], p[4])\n",
    "ax.set_title(title)\n",
    "ax.minorticks_on()\n",
    "ax.set_ylim(-0.3, 0.3)\n",
    "ax.set_xlim(-1000, 200)"
   ]
  },
  {
   "cell_type": "code",
   "execution_count": null,
   "metadata": {
    "collapsed": false,
    "deletable": true,
    "editable": true,
    "scrolled": false
   },
   "outputs": [],
   "source": [
    "# for i in range(len(hlist)):\n",
    "#     p = params[i]\n",
    "#     fig, ax = wave.plot_waveforms([hlist[i]], hc=True, xi=-1000, xf=200, npoints=10000)\n",
    "#     title = '{}, {:.3}, {:.3}, {:.3}, {:.1f}, {:.1f}'.format(i, p[0], p[1], p[2], p[3], p[4])\n",
    "#     ax.set_title(title)\n",
    "#     ax.minorticks_on()\n",
    "#     ax.set_ylim(-0.3, 0.3)"
   ]
  },
  {
   "cell_type": "code",
   "execution_count": null,
   "metadata": {
    "collapsed": false,
    "deletable": true,
    "editable": true
   },
   "outputs": [],
   "source": [
    "# There are some bad waveforms, so just remove them\n",
    "badh_ind = []\n",
    "\n",
    "params_clean = np.array([params[i] for i in range(len(params)) if i not in badh_ind])\n",
    "hlist_clean = [hlist[i] for i in range(len(hlist)) if i not in badh_ind]"
   ]
  },
  {
   "cell_type": "code",
   "execution_count": null,
   "metadata": {
    "collapsed": false,
    "deletable": true,
    "editable": true,
    "scrolled": false
   },
   "outputs": [],
   "source": [
    "h_list = hlist_clean\n",
    "params = params_clean\n",
    "h_filename = '../../data/TEOBv4QM_20hz/h_train_corners_lhd.hdf5'\n",
    "dh_filename = '../../data/TEOBv4QM_20hz/dh_train_corners_lhd.hdf5'\n",
    "\n",
    "traineob.condition_eob_training_set_from_list(\n",
    "    h_list, params, h_filename, dh_filename,\n",
    "    delta_t, n_ext,\n",
    "    winon_i, winon_f,\n",
    "    fit_i, fit_f,\n",
    "    trunc_i, trunc_f, npoints=npoints,\n",
    "    win=win,\n",
    "    filter_dfbyf_amp=filter_dfbyf_amp, filter_dfbyf_phase=filter_dfbyf_phase,\n",
    "    quad1=None, quad2=None, spin_spin=False, \n",
    "    plots=False)"
   ]
  },
  {
   "cell_type": "code",
   "execution_count": null,
   "metadata": {
    "collapsed": false,
    "deletable": true,
    "editable": true
   },
   "outputs": [],
   "source": [
    "h_train = ws.HDF5WaveformSet('../../data/TEOBv4QM_20hz/h_train_corners_lhd.hdf5')\n",
    "dh_train = ws.HDF5WaveformSet('../../data/TEOBv4QM_20hz/dh_train_corners_lhd.hdf5')\n",
    "\n",
    "dh_train.parameters().shape"
   ]
  },
  {
   "cell_type": "code",
   "execution_count": null,
   "metadata": {
    "collapsed": false,
    "deletable": true,
    "editable": true
   },
   "outputs": [],
   "source": [
    "fig, (ax1, ax2) = wave.plot_waveforms_fd([h_train[i] for i in range(len(h_train))])\n",
    "#fig, (ax1, ax2) = wave.plot_waveforms_fd([h_train[i] for i in range(1)])\n",
    "ax1.set_yscale('log')\n",
    "ax1.set_ylabel(r'$A$')\n",
    "ax2.set_ylabel(r'$\\Phi$')\n",
    "ax2.set_xlabel(r'$Mf$')\n",
    "ax1.grid()\n",
    "ax2.grid()\n",
    "\n",
    "fig, (ax1, ax2) = wave.plot_waveforms_fd([dh_train[i] for i in range(len(dh_train))])\n",
    "#fig, (ax1, ax2) = wave.plot_waveforms_fd([dh_train[i] for i in range(1)])\n",
    "ax1.set_ylabel(r'$\\ln(A/A_{\\rm F2})$')\n",
    "ax2.set_ylabel(r'$\\Phi-\\Phi_{\\rm F2}$')\n",
    "ax2.set_xlabel(r'$Mf$')\n",
    "ax1.minorticks_on()\n",
    "ax2.minorticks_on()\n",
    "ax1.grid(which='both')\n",
    "ax2.grid(which='both')"
   ]
  },
  {
   "cell_type": "code",
   "execution_count": null,
   "metadata": {
    "collapsed": false,
    "deletable": true,
    "editable": true
   },
   "outputs": [],
   "source": [
    "i = 3\n",
    "print dh_train.parameters()[2:4]\n",
    "fig, (ax1, ax2) = wave.plot_waveforms_fd([dh_train[2], dh_train[3]])\n",
    "ax1.set_ylabel(r'$\\ln(A/A_{\\rm F2})$')\n",
    "ax2.set_ylabel(r'$\\Phi-\\Phi_{\\rm F2}$')\n",
    "ax2.set_xlabel(r'$Mf$')\n",
    "ax1.minorticks_on()\n",
    "ax2.minorticks_on()\n",
    "ax1.grid(which='both')\n",
    "ax2.grid(which='both')"
   ]
  },
  {
   "cell_type": "code",
   "execution_count": null,
   "metadata": {
    "collapsed": false,
    "deletable": true,
    "editable": true
   },
   "outputs": [],
   "source": [
    "i = 3\n",
    "print dh_train.parameters()[i]\n",
    "fig, (ax1, ax2) = wave.plot_waveforms_fd([dh_train[i]])\n",
    "ax1.set_ylabel(r'$\\ln(A/A_{\\rm F2})$')\n",
    "ax2.set_ylabel(r'$\\Phi-\\Phi_{\\rm F2}$')\n",
    "ax2.set_xlabel(r'$Mf$')\n",
    "ax1.minorticks_on()\n",
    "ax2.minorticks_on()\n",
    "ax1.grid(which='both')\n",
    "ax2.grid(which='both')\n",
    "\n",
    "i = 15\n",
    "print dh_train.parameters()[i]\n",
    "fig, (ax1, ax2) = wave.plot_waveforms_fd([dh_train[i]])\n",
    "ax1.set_ylabel(r'$\\ln(A/A_{\\rm F2})$')\n",
    "ax2.set_ylabel(r'$\\Phi-\\Phi_{\\rm F2}$')\n",
    "ax2.set_xlabel(r'$Mf$')\n",
    "ax1.minorticks_on()\n",
    "ax2.minorticks_on()\n",
    "ax1.grid(which='both')\n",
    "ax2.grid(which='both')"
   ]
  },
  {
   "cell_type": "markdown",
   "metadata": {
    "deletable": true,
    "editable": true
   },
   "source": [
    "# 500 waveforms from uncertainty sampling"
   ]
  },
  {
   "cell_type": "code",
   "execution_count": null,
   "metadata": {
    "collapsed": false,
    "deletable": true,
    "editable": true
   },
   "outputs": [],
   "source": [
    "orig_filename = '../../data/TEOBv4QM_20hz/TEOB_data_train_uncsamp.hdf5'\n",
    "params, hlist = load_eob_training_set_td(orig_filename)"
   ]
  },
  {
   "cell_type": "code",
   "execution_count": null,
   "metadata": {
    "collapsed": false,
    "deletable": true,
    "editable": true
   },
   "outputs": [],
   "source": [
    "print len(hlist)"
   ]
  },
  {
   "cell_type": "code",
   "execution_count": null,
   "metadata": {
    "collapsed": false,
    "deletable": true,
    "editable": true
   },
   "outputs": [],
   "source": [
    "fig, ax = wave.plot_waveforms(hlist, hc=True, xi=-1000, xf=200, npoints=10000)"
   ]
  },
  {
   "cell_type": "code",
   "execution_count": null,
   "metadata": {
    "collapsed": false,
    "deletable": true,
    "editable": true,
    "scrolled": false
   },
   "outputs": [],
   "source": [
    "# for i in range(len(hlist)):\n",
    "#     p = params[i]\n",
    "#     fig, ax = wave.plot_waveforms([hlist[i]], hc=True, xi=-1000, xf=200, npoints=10000)\n",
    "#     title = '{}, {:.3}, {:.3}, {:.3}, {:.1f}, {:.1f}'.format(i, p[0], p[1], p[2], p[3], p[4])\n",
    "#     ax.set_title(title)\n",
    "#     ax.minorticks_on()\n",
    "#     ax.set_ylim(-0.3, 0.3)"
   ]
  },
  {
   "cell_type": "code",
   "execution_count": null,
   "metadata": {
    "collapsed": false,
    "deletable": true,
    "editable": true
   },
   "outputs": [],
   "source": [
    "i=498\n",
    "p = params[i]\n",
    "fig, ax = wave.plot_waveforms([hlist[i]], hc=True, xi=-1000, xf=200, npoints=10000)\n",
    "title = 'q, s1, s2, lam1, lam2 = {:.3}, {:.3}, {:.3}, {:.1f}, {:.1f}'.format(p[0], p[1], p[2], p[3], p[4])\n",
    "ax.set_title(title)\n",
    "ax.minorticks_on()\n",
    "ax.set_ylim(-0.3, 0.3)\n",
    "ax.set_xlim(-200, 200)"
   ]
  },
  {
   "cell_type": "code",
   "execution_count": null,
   "metadata": {
    "collapsed": true,
    "deletable": true,
    "editable": true
   },
   "outputs": [],
   "source": [
    "# There are some bad waveforms, so just remove them\n",
    "badh_ind = []\n",
    "\n",
    "params_clean = np.array([params[i] for i in range(len(params)) if i not in badh_ind])\n",
    "hlist_clean = [hlist[i] for i in range(len(hlist)) if i not in badh_ind]"
   ]
  },
  {
   "cell_type": "code",
   "execution_count": null,
   "metadata": {
    "collapsed": false,
    "deletable": true,
    "editable": true
   },
   "outputs": [],
   "source": [
    "fig, ax = wave.plot_waveforms(hlist_clean, hc=False, hp=False, xi=-100, xf=100, npoints=10000)"
   ]
  },
  {
   "cell_type": "code",
   "execution_count": null,
   "metadata": {
    "collapsed": false,
    "deletable": true,
    "editable": true
   },
   "outputs": [],
   "source": [
    "h_list = hlist_clean\n",
    "params = params_clean\n",
    "h_filename = '../../data/TEOBv4QM_20hz/h_train_uncsamp.hdf5'\n",
    "dh_filename = '../../data/TEOBv4QM_20hz/dh_train_uncsamp.hdf5'\n",
    "\n",
    "traineob.condition_eob_training_set_from_list(\n",
    "    h_list, params, h_filename, dh_filename,\n",
    "    delta_t, n_ext,\n",
    "    winon_i, winon_f,\n",
    "    fit_i, fit_f,\n",
    "    trunc_i, trunc_f, npoints=npoints,\n",
    "    win=win,\n",
    "    filter_dfbyf_amp=filter_dfbyf_amp, filter_dfbyf_phase=filter_dfbyf_phase,\n",
    "    quad1=None, quad2=None, spin_spin=False, \n",
    "    plots=False)"
   ]
  },
  {
   "cell_type": "code",
   "execution_count": null,
   "metadata": {
    "collapsed": false,
    "deletable": true,
    "editable": true
   },
   "outputs": [],
   "source": [
    "h_train = ws.HDF5WaveformSet('../../data/TEOBv4QM_20hz/h_train_uncsamp.hdf5')\n",
    "dh_train = ws.HDF5WaveformSet('../../data/TEOBv4QM_20hz/dh_train_uncsamp.hdf5')\n",
    "\n",
    "dh_train.parameters().shape"
   ]
  },
  {
   "cell_type": "code",
   "execution_count": null,
   "metadata": {
    "collapsed": false,
    "deletable": true,
    "editable": true
   },
   "outputs": [],
   "source": [
    "i = 107\n",
    "\n",
    "p = params[i]\n",
    "fig, ax = wave.plot_waveforms([hlist[i]], hc=True, xi=-1000, xf=200, npoints=10000)\n",
    "title = 'q, s1, s2, lam1, lam2 = {:.3}, {:.3}, {:.3}, {:.1f}, {:.1f}'.format(p[0], p[1], p[2], p[3], p[4])\n",
    "ax.set_title(title)\n",
    "ax.minorticks_on()\n",
    "ax.set_ylim(-0.3, 0.3)\n",
    "#ax.set_xlim(-1000, 200)\n",
    "\n",
    "print dh_train.parameters()[i]\n",
    "fig, (ax1, ax2) = wave.plot_waveforms_fd([dh_train[i]])\n",
    "ax1.set_ylabel(r'$\\ln(A/A_{\\rm F2})$')\n",
    "ax2.set_ylabel(r'$\\Phi-\\Phi_{\\rm F2}$')\n",
    "ax2.set_xlabel(r'$Mf$')\n",
    "ax1.grid()\n",
    "ax2.grid()\n",
    "ax2.set_ylim(-200, 200)"
   ]
  },
  {
   "cell_type": "code",
   "execution_count": null,
   "metadata": {
    "collapsed": false,
    "deletable": true,
    "editable": true,
    "scrolled": false
   },
   "outputs": [],
   "source": [
    "fig, (ax1, ax2) = wave.plot_waveforms_fd([h_train[i] for i in range(len(h_train))])\n",
    "ax1.set_yscale('log')\n",
    "ax1.set_ylabel(r'$A$')\n",
    "ax2.set_ylabel(r'$\\Phi$')\n",
    "ax2.set_xlabel(r'$Mf$')\n",
    "ax1.grid()\n",
    "ax2.grid()\n",
    "\n",
    "fig, (ax1, ax2) = wave.plot_waveforms_fd([dh_train[i] for i in range(len(dh_train))])\n",
    "ax1.set_ylabel(r'$\\ln(A/A_{\\rm F2})$')\n",
    "ax2.set_ylabel(r'$\\Phi-\\Phi_{\\rm F2}$')\n",
    "ax2.set_xlabel(r'$Mf$')\n",
    "ax1.grid()\n",
    "ax2.grid()"
   ]
  },
  {
   "cell_type": "markdown",
   "metadata": {
    "deletable": true,
    "editable": true
   },
   "source": [
    "# Test set 1"
   ]
  },
  {
   "cell_type": "code",
   "execution_count": null,
   "metadata": {
    "collapsed": false,
    "deletable": true,
    "editable": true
   },
   "outputs": [],
   "source": [
    "orig_filename = '../../data/TEOBv4QM_20hz/TEOB_data_test1.hdf5'\n",
    "params, hlist = load_eob_training_set_td(orig_filename)"
   ]
  },
  {
   "cell_type": "code",
   "execution_count": null,
   "metadata": {
    "collapsed": false,
    "deletable": true,
    "editable": true
   },
   "outputs": [],
   "source": [
    "i=136\n",
    "p = params[i]\n",
    "fig, ax = wave.plot_waveforms([hlist[i]], hc=True, xi=-1000, xf=200, npoints=10000)\n",
    "title = 'q, s1, s2, lam1, lam2 = {:.3}, {:.3}, {:.3}, {:.1f}, {:.1f}'.format(p[0], p[1], p[2], p[3], p[4])\n",
    "ax.set_title(title)\n",
    "ax.minorticks_on()\n",
    "ax.set_ylim(-0.3, 0.3)\n",
    "ax.set_xlim(-1000, 200)"
   ]
  },
  {
   "cell_type": "code",
   "execution_count": null,
   "metadata": {
    "collapsed": false,
    "deletable": true,
    "editable": true
   },
   "outputs": [],
   "source": [
    "fig, ax = wave.plot_waveforms(hlist, hc=True, xi=-1000, xf=200, npoints=10000)"
   ]
  },
  {
   "cell_type": "code",
   "execution_count": null,
   "metadata": {
    "collapsed": false,
    "deletable": true,
    "editable": true,
    "scrolled": false
   },
   "outputs": [],
   "source": [
    "# #for i in range(0, 500):\n",
    "# for i in range(500, len(hlist)):\n",
    "#     p = params[i]\n",
    "#     h = hlist[i]\n",
    "#     fig, ax = wave.plot_waveforms([h], hc=True, xi=-1000, xf=200, npoints=10000)\n",
    "#     title = '{}, {:.3}, {:.3}, {:.3}, {:.1f}, {:.1f}'.format(i, p[0], p[1], p[2], p[3], p[4])\n",
    "#     ax.set_title(title)\n",
    "#     ax.minorticks_on()\n",
    "#     ax.set_ylim(-0.3, 0.3)\n",
    "#     ax.set_xlim(-1000, 200)"
   ]
  },
  {
   "cell_type": "code",
   "execution_count": null,
   "metadata": {
    "collapsed": true,
    "deletable": true,
    "editable": true
   },
   "outputs": [],
   "source": [
    "# There are some bad waveforms, so just remove them\n",
    "badh_ind = []\n",
    "\n",
    "params_clean = np.array([params[i] for i in range(len(params)) if i not in badh_ind])\n",
    "hlist_clean = [hlist[i] for i in range(len(hlist)) if i not in badh_ind]"
   ]
  },
  {
   "cell_type": "code",
   "execution_count": null,
   "metadata": {
    "collapsed": false,
    "deletable": true,
    "editable": true,
    "scrolled": false
   },
   "outputs": [],
   "source": [
    "# for i in range(130, 140):\n",
    "#     p = params_clean[i]\n",
    "#     h = hlist_clean[i]\n",
    "#     fig, ax = wave.plot_waveforms([h], hc=True, xi=-1000, xf=200, npoints=10000)\n",
    "#     title = '{}, {:.3}, {:.3}, {:.3}, {:.1f}, {:.1f}'.format(i, p[0], p[1], p[2], p[3], p[4])\n",
    "#     ax.set_title(title)\n",
    "#     ax.minorticks_on()\n",
    "#     ax.set_ylim(-0.3, 0.3)\n",
    "#     ax.set_xlim(-1000, 200)"
   ]
  },
  {
   "cell_type": "code",
   "execution_count": null,
   "metadata": {
    "collapsed": false,
    "deletable": true,
    "editable": true
   },
   "outputs": [],
   "source": [
    "print len(hlist_clean)\n",
    "print params_clean.shape"
   ]
  },
  {
   "cell_type": "code",
   "execution_count": null,
   "metadata": {
    "collapsed": false,
    "deletable": true,
    "editable": true
   },
   "outputs": [],
   "source": [
    "h_list = hlist_clean\n",
    "params = params_clean\n",
    "h_filename = '../../data/TEOBv4QM_20hz/h_test1.hdf5'\n",
    "dh_filename = '../../data/TEOBv4QM_20hz/dh_test1.hdf5'\n",
    "\n",
    "traineob.condition_eob_training_set_from_list(\n",
    "    h_list, params, h_filename, dh_filename,\n",
    "    delta_t, n_ext,\n",
    "    winon_i, winon_f,\n",
    "    fit_i, fit_f,\n",
    "    trunc_i, trunc_f, npoints=npoints,\n",
    "    win=win,\n",
    "    filter_dfbyf_amp=filter_dfbyf_amp, filter_dfbyf_phase=filter_dfbyf_phase,\n",
    "    quad1=None, quad2=None, spin_spin=False, \n",
    "    plots=False)"
   ]
  },
  {
   "cell_type": "code",
   "execution_count": null,
   "metadata": {
    "collapsed": false,
    "deletable": true,
    "editable": true
   },
   "outputs": [],
   "source": [
    "h_test = ws.HDF5WaveformSet('../../data/TEOBv4QM_20hz/h_test1.hdf5')\n",
    "dh_test = ws.HDF5WaveformSet('../../data/TEOBv4QM_20hz/dh_test1.hdf5')\n",
    "\n",
    "dh_test.parameters().shape"
   ]
  },
  {
   "cell_type": "code",
   "execution_count": null,
   "metadata": {
    "collapsed": false,
    "deletable": true,
    "editable": true
   },
   "outputs": [],
   "source": [
    "fig, (ax1, ax2) = wave.plot_waveforms_fd([h_test[i] for i in range(len(h_test))])\n",
    "ax1.set_yscale('log')\n",
    "ax1.set_ylabel(r'$A$')\n",
    "ax2.set_ylabel(r'$\\Phi$')\n",
    "ax2.set_xlabel(r'$Mf$')\n",
    "ax1.grid()\n",
    "ax2.grid()\n",
    "\n",
    "fig, (ax1, ax2) = wave.plot_waveforms_fd([dh_test[i] for i in range(len(dh_test))])\n",
    "ax1.set_ylabel(r'$\\ln(A/A_{\\rm F2})$')\n",
    "ax2.set_ylabel(r'$\\Phi-\\Phi_{\\rm F2}$')\n",
    "ax2.set_xlabel(r'$Mf$')\n",
    "ax1.grid()\n",
    "ax2.grid()"
   ]
  },
  {
   "cell_type": "markdown",
   "metadata": {
    "deletable": true,
    "editable": true
   },
   "source": [
    "# Test set 2"
   ]
  },
  {
   "cell_type": "code",
   "execution_count": null,
   "metadata": {
    "collapsed": false,
    "deletable": true,
    "editable": true
   },
   "outputs": [],
   "source": [
    "orig_filename = '../../data/TEOBv4QM_20hz/TEOB_data_test2.hdf5'\n",
    "params, hlist = load_eob_training_set_td(orig_filename)"
   ]
  },
  {
   "cell_type": "code",
   "execution_count": null,
   "metadata": {
    "collapsed": false,
    "deletable": true,
    "editable": true
   },
   "outputs": [],
   "source": [
    "fig, ax = wave.plot_waveforms(hlist, hc=True, xi=-1000, xf=200, npoints=10000)\n",
    "#ax.set_ylim(-0.3, 0.3)"
   ]
  },
  {
   "cell_type": "code",
   "execution_count": null,
   "metadata": {
    "collapsed": false,
    "deletable": true,
    "editable": true,
    "scrolled": false
   },
   "outputs": [],
   "source": [
    "# #for i in range(0, 500):\n",
    "# for i in range(500, len(hlist)):\n",
    "#     p = params[i]\n",
    "#     h = hlist[i]\n",
    "#     fig, ax = wave.plot_waveforms([h], hc=True, xi=-1000, xf=200, npoints=10000)\n",
    "#     title = '{}, {:.3}, {:.3}, {:.3}, {:.1f}, {:.1f}'.format(i, p[0], p[1], p[2], p[3], p[4])\n",
    "#     ax.set_title(title)\n",
    "#     ax.minorticks_on()\n",
    "#     ax.set_ylim(-0.3, 0.3)\n",
    "#     ax.set_xlim(-1000, 200)"
   ]
  },
  {
   "cell_type": "code",
   "execution_count": null,
   "metadata": {
    "collapsed": true,
    "deletable": true,
    "editable": true
   },
   "outputs": [],
   "source": [
    "# There are some bad waveforms, so just remove them\n",
    "badh_ind = []\n",
    "\n",
    "params_clean = np.array([params[i] for i in range(len(params)) if i not in badh_ind])\n",
    "hlist_clean = [hlist[i] for i in range(len(hlist)) if i not in badh_ind]"
   ]
  },
  {
   "cell_type": "code",
   "execution_count": null,
   "metadata": {
    "collapsed": false,
    "deletable": true,
    "editable": true
   },
   "outputs": [],
   "source": [
    "#ig, ax = wave.plot_waveforms(hlist_clean, hc=True, xi=-1000, xf=200, npoints=10000)"
   ]
  },
  {
   "cell_type": "code",
   "execution_count": null,
   "metadata": {
    "collapsed": false,
    "deletable": true,
    "editable": true
   },
   "outputs": [],
   "source": [
    "print len(hlist)\n",
    "print params.shape\n",
    "\n",
    "print len(hlist_clean)\n",
    "print params_clean.shape"
   ]
  },
  {
   "cell_type": "code",
   "execution_count": null,
   "metadata": {
    "collapsed": false,
    "deletable": true,
    "editable": true
   },
   "outputs": [],
   "source": [
    "h_list = hlist_clean\n",
    "params = params_clean\n",
    "h_filename = '../../data/TEOBv4QM_20hz/h_test2.hdf5'\n",
    "dh_filename = '../../data/TEOBv4QM_20hz/dh_test2.hdf5'\n",
    "\n",
    "traineob.condition_eob_training_set_from_list(\n",
    "    h_list, params, h_filename, dh_filename,\n",
    "    delta_t, n_ext,\n",
    "    winon_i, winon_f,\n",
    "    fit_i, fit_f,\n",
    "    trunc_i, trunc_f, npoints=npoints,\n",
    "    win=win,\n",
    "    filter_dfbyf_amp=filter_dfbyf_amp, filter_dfbyf_phase=filter_dfbyf_phase,\n",
    "    quad1=None, quad2=None, spin_spin=False, \n",
    "    plots=False)"
   ]
  },
  {
   "cell_type": "code",
   "execution_count": null,
   "metadata": {
    "collapsed": false,
    "deletable": true,
    "editable": true
   },
   "outputs": [],
   "source": [
    "h_test = ws.HDF5WaveformSet('../../data/TEOBv4QM_20hz/h_test2.hdf5')\n",
    "dh_test = ws.HDF5WaveformSet('../../data/TEOBv4QM_20hz/dh_test2.hdf5')\n",
    "\n",
    "dh_test.parameters().shape"
   ]
  },
  {
   "cell_type": "code",
   "execution_count": null,
   "metadata": {
    "collapsed": false,
    "deletable": true,
    "editable": true,
    "scrolled": false
   },
   "outputs": [],
   "source": [
    "fig, (ax1, ax2) = wave.plot_waveforms_fd([h_test[i] for i in range(len(h_test))])\n",
    "ax1.set_yscale('log')\n",
    "ax1.set_ylabel(r'$A$')\n",
    "ax2.set_ylabel(r'$\\Phi$')\n",
    "ax2.set_xlabel(r'$Mf$')\n",
    "ax1.grid()\n",
    "ax2.grid()\n",
    "\n",
    "fig, (ax1, ax2) = wave.plot_waveforms_fd([dh_test[i] for i in range(len(dh_test))])\n",
    "ax1.set_ylabel(r'$\\ln(A/A_{\\rm F2})$')\n",
    "ax2.set_ylabel(r'$\\Phi-\\Phi_{\\rm F2}$')\n",
    "ax2.set_xlabel(r'$Mf$')\n",
    "ax1.grid()\n",
    "ax2.grid()"
   ]
  },
  {
   "cell_type": "markdown",
   "metadata": {
    "deletable": true,
    "editable": true
   },
   "source": [
    "# 1d slice through parameter space S1"
   ]
  },
  {
   "cell_type": "code",
   "execution_count": 6,
   "metadata": {
    "collapsed": false,
    "deletable": true,
    "editable": true
   },
   "outputs": [
    {
     "name": "stdout",
     "output_type": "stream",
     "text": [
      "\n",
      "        approximant = SEOBNRv4T\n",
      "        M = 2\n",
      "        fs = 32768\n",
      "        iota = 0\n",
      "        f_min = 20\n",
      "        distance = 1e+06\n",
      "\n",
      "        Using lalsimulation version 1.7.3.1\n",
      "        \n",
      "['q' 'chi1' 'chi2' 'lambda1' 'lambda2']\n",
      "['t' 'phi' 'amp']\n",
      "0 1 2 3 4 5 6 7 8 9 10 11 12 13 14 15 16 17 18 19 20 21 22 23 24 25 26 27 28 29 30 31 32 33 34 35 36 37 38 39 40 41 42 43 44 45 46 47 48 49 50\n"
     ]
    }
   ],
   "source": [
    "orig_filename = '../../data/TEOBv4QM_20hz/TEOB_data_test1d_S1.hdf5'\n",
    "params, hlist = load_eob_training_set_td(orig_filename)"
   ]
  },
  {
   "cell_type": "code",
   "execution_count": 8,
   "metadata": {
    "collapsed": false,
    "deletable": true,
    "editable": true,
    "scrolled": false
   },
   "outputs": [],
   "source": [
    "# for i in range(len(hlist)):\n",
    "#     p = params[i]\n",
    "#     h = hlist[i]\n",
    "#     fig, ax = wave.plot_waveforms([h], hc=True, xi=-1000, xf=200, npoints=10000)\n",
    "#     title = '{}, {:.3}, {:.3}, {:.3}, {:.1f}, {:.1f}'.format(i, p[0], p[1], p[2], p[3], p[4])\n",
    "#     ax.set_title(title)\n",
    "#     ax.minorticks_on()\n",
    "#     ax.set_ylim(-0.3, 0.3)\n",
    "#     ax.set_xlim(-1000, 200)"
   ]
  },
  {
   "cell_type": "code",
   "execution_count": 9,
   "metadata": {
    "collapsed": false,
    "deletable": true,
    "editable": true
   },
   "outputs": [
    {
     "name": "stdout",
     "output_type": "stream",
     "text": [
      "0 1 2 3 4 5 6 7 8 9 10 11 12 13 14 15 16 17 18 19 20 21 22 23 24 25 26 27 28 29 30 31 32 33 34 35 36 37 38 39 40 41 42 43 44 45 46 47 48 49 50\n"
     ]
    }
   ],
   "source": [
    "h_list = hlist\n",
    "\n",
    "h_filename = '../../data/TEOBv4QM_20hz/h_test1d_S1.hdf5'\n",
    "dh_filename = '../../data/TEOBv4QM_20hz/dh_test1d_S1.hdf5'\n",
    "\n",
    "traineob.condition_eob_training_set_from_list(\n",
    "    h_list, params, h_filename, dh_filename,\n",
    "    delta_t, n_ext,\n",
    "    winon_i, winon_f,\n",
    "    fit_i, fit_f,\n",
    "    trunc_i, trunc_f, npoints=npoints,\n",
    "    win=win,\n",
    "    filter_dfbyf_amp=filter_dfbyf_amp, filter_dfbyf_phase=filter_dfbyf_phase,\n",
    "    quad1=None, quad2=None, spin_spin=False, \n",
    "    plots=False)"
   ]
  },
  {
   "cell_type": "code",
   "execution_count": 10,
   "metadata": {
    "collapsed": false,
    "deletable": true,
    "editable": true
   },
   "outputs": [
    {
     "name": "stdout",
     "output_type": "stream",
     "text": [
      "(51, 5)\n",
      "(51, 5)\n"
     ]
    }
   ],
   "source": [
    "h_test = ws.HDF5WaveformSet('../../data/TEOBv4QM_20hz/h_test1d_S1.hdf5')\n",
    "dh_test = ws.HDF5WaveformSet('../../data/TEOBv4QM_20hz/dh_test1d_S1.hdf5')\n",
    "\n",
    "print h_test.parameters().shape\n",
    "print dh_test.parameters().shape"
   ]
  },
  {
   "cell_type": "code",
   "execution_count": 11,
   "metadata": {
    "collapsed": false,
    "deletable": true,
    "editable": true
   },
   "outputs": [
    {
     "data": {
      "image/png": "[encoded data removed]",
      "text/plain": [
       "<matplotlib.figure.Figure at 0x1125120d0>"
      ]
     },
     "metadata": {},
     "output_type": "display_data"
    },
    {
     "data": {
      "image/png": "[encoded data removed]",
      "text/plain": [
       "<matplotlib.figure.Figure at 0x120030e50>"
      ]
     },
     "metadata": {},
     "output_type": "display_data"
    }
   ],
   "source": [
    "fig, (ax1, ax2) = wave.plot_waveforms_fd([h_test[i] for i in range(len(h_test))])\n",
    "ax1.set_yscale('log')\n",
    "ax1.set_ylabel(r'$A$')\n",
    "ax2.set_ylabel(r'$\\Phi$')\n",
    "ax2.set_xlabel(r'$Mf$')\n",
    "ax1.grid()\n",
    "ax2.grid()\n",
    "\n",
    "fig, (ax1, ax2) = wave.plot_waveforms_fd([dh_test[i] for i in range(len(dh_test))])\n",
    "ax1.set_ylabel(r'$\\ln(A/A_{\\rm F2})$')\n",
    "ax2.set_ylabel(r'$\\Phi-\\Phi_{\\rm F2}$')\n",
    "ax2.set_xlabel(r'$Mf$')\n",
    "ax1.grid()\n",
    "ax2.grid()"
   ]
  },
  {
   "cell_type": "code",
   "execution_count": null,
   "metadata": {
    "collapsed": true,
    "deletable": true,
    "editable": true
   },
   "outputs": [],
   "source": []
  }
 ],
 "metadata": {
  "kernelspec": {
   "display_name": "Python 2",
   "language": "python",
   "name": "python2"
  },
  "language_info": {
   "codemirror_mode": {
    "name": "ipython",
    "version": 2
   },
   "file_extension": ".py",
   "mimetype": "text/x-python",
   "name": "python",
   "nbconvert_exporter": "python",
   "pygments_lexer": "ipython2",
   "version": "2.7.14"
  }
 },
 "nbformat": 4,
 "nbformat_minor": 1
}
