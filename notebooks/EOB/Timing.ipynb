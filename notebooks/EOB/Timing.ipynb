{
 "cells": [
  {
   "cell_type": "code",
   "execution_count": 1,
   "metadata": {
    "collapsed": false,
    "deletable": true,
    "editable": true
   },
   "outputs": [
    {
     "name": "stdout",
     "output_type": "stream",
     "text": [
      "Populating the interactive namespace from numpy and matplotlib\n",
      "\n"
     ]
    }
   ],
   "source": [
    "%pylab inline\n",
    "import numpy as np\n",
    "np.set_printoptions(precision=4, linewidth=150)\n",
    "\n",
    "from time import time\n",
    "\n",
    "import matplotlib.pyplot as plt\n",
    "from mpl_toolkits.mplot3d import Axes3D\n",
    "\n",
    "import scipy.interpolate as interpolate\n",
    "import scipy.integrate as integrate\n",
    "import scipy.optimize as optimize\n",
    "\n",
    "import lal\n",
    "import lalsimulation\n",
    "\n",
    "import pycbc.waveform\n",
    "import pycbc.filter\n",
    "import pycbc.types\n",
    "import pycbc.psd"
   ]
  },
  {
   "cell_type": "code",
   "execution_count": 2,
   "metadata": {
    "collapsed": false,
    "deletable": true,
    "editable": true
   },
   "outputs": [],
   "source": [
    "sys.path.insert(0, '../../src')\n",
    "\n",
    "import waveform as wave\n",
    "import waveformset as ws\n",
    "import trainingset as train\n",
    "import taylorf2\n",
    "import gaussianprocessregression as gpr\n",
    "import designofexperiment as doe\n",
    "#import pycbcwaveform as pycbcwave\n",
    "import lalwaveform\n",
    "import plotparams\n",
    "import greedy\n",
    "import empiricalinterpolation as eim\n",
    "import surrogate\n",
    "import diagnostics\n",
    "import fisher\n",
    "\n",
    "import imp\n",
    "imp.reload(wave)\n",
    "imp.reload(ws)\n",
    "imp.reload(train)\n",
    "imp.reload(taylorf2)\n",
    "imp.reload(gpr)\n",
    "imp.reload(doe)\n",
    "#imp.reload(pycbcwave)\n",
    "imp.reload(lalwaveform)\n",
    "imp.reload(greedy)\n",
    "imp.reload(eim)\n",
    "imp.reload(surrogate)\n",
    "imp.reload(diagnostics)\n",
    "imp.reload(fisher)\n",
    "\n",
    "import constants\n",
    "imp.reload(constants)\n",
    "from constants import *"
   ]
  },
  {
   "cell_type": "markdown",
   "metadata": {
    "deletable": true,
    "editable": true
   },
   "source": [
    "# Load GPSplineSurrogate\n",
    "\n",
    "Choosing npoints to be as small as possible has a large impact on the speed of the surrogate 200 or 1000 is much better than 10,000."
   ]
  },
  {
   "cell_type": "code",
   "execution_count": 3,
   "metadata": {
    "collapsed": false,
    "deletable": true,
    "editable": true
   },
   "outputs": [],
   "source": [
    "# nodes_filename = '../../data/TEOBv4_20hz/nodes_corners_lhd.hdf5'\n",
    "# gp_amp_filename = '../../data/TEOBv4_20hz/gp_spline_amp_corners_lhd.hdf5'\n",
    "# gp_phase_filename = '../../data/TEOBv4_20hz/gp_spline_phase_corners_lhd.hdf5'\n",
    "# sur = surrogate.GPSplineSurrogate.load(nodes_filename, gp_amp_filename, gp_phase_filename, order=2, npoints=10000)\n",
    "\n",
    "# nodes_filename = '../../data/TEOBv4_20hz/nodes_lhd_uncsamp.hdf5'\n",
    "# gp_amp_filename = '../../data/TEOBv4_20hz/gp_spline_amp_lhd_uncsamp.hdf5'\n",
    "# gp_phase_filename = '../../data/TEOBv4_20hz/gp_spline_phase_lhd_uncsamp.hdf5'\n",
    "# sur = surrogate.GPSplineSurrogate.load(nodes_filename, gp_amp_filename, gp_phase_filename, order=3, npoints=10000)\n",
    "\n",
    "nodes_filename = '../../data/TEOBv4_20hz/nodes_lhd_uncsamp_rand.hdf5'\n",
    "gp_amp_filename = '../../data/TEOBv4_20hz/gp_spline_amp_lhd_uncsamp_rand.hdf5'\n",
    "gp_phase_filename = '../../data/TEOBv4_20hz/gp_spline_phase_lhd_uncsamp_rand.hdf5'\n",
    "sur = surrogate.GPSplineSurrogate.load(nodes_filename, gp_amp_filename, gp_phase_filename, order=3, npoints=1000)"
   ]
  },
  {
   "cell_type": "markdown",
   "metadata": {
    "deletable": true,
    "editable": true
   },
   "source": [
    "# Compare Evaluation time"
   ]
  },
  {
   "cell_type": "code",
   "execution_count": 4,
   "metadata": {
    "collapsed": true,
    "deletable": true,
    "editable": true
   },
   "outputs": [],
   "source": [
    "mass1 = 1.4\n",
    "mass2 = 1.4\n",
    "spin1z = 0.\n",
    "spin2z = 0.\n",
    "lambda1 = 1000.\n",
    "lambda2 = 1000.\n",
    "distance = 100.\n",
    "inclination = 1.1\n",
    "\n",
    "\n",
    "#f_lower = 11.\n",
    "f_lower = 30.\n",
    "f_sample = 4096."
   ]
  },
  {
   "cell_type": "code",
   "execution_count": 24,
   "metadata": {
    "collapsed": false,
    "deletable": true,
    "editable": true
   },
   "outputs": [
    {
     "name": "stdout",
     "output_type": "stream",
     "text": [
      "0.193778991699\n"
     ]
    }
   ],
   "source": [
    "approximant = 'SpinTaylorT4'\n",
    "\n",
    "delta_t = 1.0/f_sample\n",
    "\n",
    "t0 = time()\n",
    "\n",
    "hp, hc = pycbc.waveform.get_td_waveform(\n",
    "    approximant=approximant,\n",
    "    mass1=mass1, mass2=mass2,\n",
    "    spin1z=spin1z, spin2z=spin2z, \n",
    "    lambda1=lambda1, lambda2=lambda2, \n",
    "    distance=distance, inclination=inclination,\n",
    "    delta_t=delta_t, f_lower=f_lower)\n",
    "\n",
    "hp_tilde = hp.to_frequencyseries()\n",
    "hc_tilde = hc.to_frequencyseries()\n",
    "\n",
    "dt = time() - t0\n",
    "print dt"
   ]
  },
  {
   "cell_type": "code",
   "execution_count": 25,
   "metadata": {
    "collapsed": false,
    "deletable": true,
    "editable": true
   },
   "outputs": [
    {
     "name": "stdout",
     "output_type": "stream",
     "text": [
      "0.0709848403931\n"
     ]
    }
   ],
   "source": [
    "approximant = 'TEOBResum_ROM'\n",
    "\n",
    "delta_t = 1.0/f_sample\n",
    "\n",
    "t0 = time()\n",
    "\n",
    "hp, hc = pycbc.waveform.get_td_waveform(\n",
    "    approximant=approximant,\n",
    "    mass1=mass1, mass2=mass2,\n",
    "    spin1z=spin1z, spin2z=spin2z, \n",
    "    lambda1=lambda1, lambda2=lambda2, \n",
    "    distance=distance, inclination=inclination,\n",
    "    delta_t=delta_t, f_lower=f_lower)\n",
    "\n",
    "hp_tilde = hp.to_frequencyseries()\n",
    "hc_tilde = hc.to_frequencyseries()\n",
    "\n",
    "dt = time() - t0\n",
    "print dt"
   ]
  },
  {
   "cell_type": "code",
   "execution_count": 26,
   "metadata": {
    "collapsed": false,
    "deletable": true,
    "editable": true
   },
   "outputs": [
    {
     "name": "stdout",
     "output_type": "stream",
     "text": [
      "0.0372228622437\n"
     ]
    }
   ],
   "source": [
    "f_min = f_lower\n",
    "f_max = hp_tilde.sample_frequencies[-1]\n",
    "delta_f = hp_tilde.delta_f\n",
    "\n",
    "t0 = time()\n",
    "\n",
    "freq, hp_lal, hc_lal = sur.physical_waveform_lal(\n",
    "    mass1=mass1, mass2=mass2, \n",
    "    spin1z=spin1z, spin2z=spin2z, \n",
    "    lambda1=lambda1, lambda2=lambda2,\n",
    "    distance=distance, inclination=inclination, \n",
    "    f_min=f_min, f_max=f_max, delta_f=delta_f, \n",
    "    f_ref=None, phi_ref=None)\n",
    "\n",
    "# hp_tilde, hc_tilde = sur.physical_waveform_pycbc(\n",
    "#     mass1=mass1, mass2=mass2, \n",
    "#     spin1z=spin1z, spin2z=spin2z, \n",
    "#     lambda1=lambda1, lambda2=lambda2,\n",
    "#     distance=distance, inclination=inclination, \n",
    "#     f_min=f_min, f_max=f_max, delta_f=delta_f, \n",
    "#     f_ref=None, phi_ref=None)\n",
    "\n",
    "dt = time() - t0\n",
    "print dt"
   ]
  },
  {
   "cell_type": "code",
   "execution_count": 27,
   "metadata": {
    "collapsed": false,
    "deletable": true,
    "editable": true
   },
   "outputs": [
    {
     "name": "stdout",
     "output_type": "stream",
     "text": [
      "0.0183125290604\n",
      "2048.0\n"
     ]
    }
   ],
   "source": [
    "print hp_tilde.delta_f\n",
    "print hp_tilde.sample_frequencies[-1]"
   ]
  },
  {
   "cell_type": "code",
   "execution_count": 30,
   "metadata": {
    "collapsed": false,
    "deletable": true,
    "editable": true
   },
   "outputs": [
    {
     "name": "stdout",
     "output_type": "stream",
     "text": [
      "0.00859999656677\n"
     ]
    }
   ],
   "source": [
    "approximant = 'TaylorF2'\n",
    "\n",
    "t0 = time()\n",
    "\n",
    "hp_tilde, hc_tilde = pycbc.waveform.get_fd_waveform(\n",
    "    approximant=approximant,\n",
    "    mass1=mass1, mass2=mass2,\n",
    "    spin1z=spin1z, spin2z=spin2z, \n",
    "    lambda1=lambda1, lambda2=lambda2, \n",
    "    distance=distance, inclination=inclination,\n",
    "    delta_f=delta_f, f_lower=f_lower)\n",
    "\n",
    "dt = time() - t0\n",
    "print dt"
   ]
  },
  {
   "cell_type": "code",
   "execution_count": 31,
   "metadata": {
    "collapsed": false
   },
   "outputs": [
    {
     "name": "stdout",
     "output_type": "stream",
     "text": [
      "0.032233953476\n"
     ]
    }
   ],
   "source": [
    "approximant = 'SEOBNRv4_ROM_NRTidal'\n",
    "\n",
    "t0 = time()\n",
    "\n",
    "hp_tilde, hc_tilde = pycbc.waveform.get_fd_waveform(\n",
    "    approximant=approximant,\n",
    "    mass1=mass1, mass2=mass2,\n",
    "    spin1z=spin1z, spin2z=spin2z, \n",
    "    lambda1=lambda1, lambda2=lambda2, \n",
    "    distance=distance, inclination=inclination,\n",
    "    delta_f=delta_f, f_lower=f_lower)\n",
    "\n",
    "dt = time() - t0\n",
    "print dt"
   ]
  },
  {
   "cell_type": "code",
   "execution_count": 32,
   "metadata": {
    "collapsed": false
   },
   "outputs": [
    {
     "name": "stdout",
     "output_type": "stream",
     "text": [
      "0.0323100090027\n"
     ]
    }
   ],
   "source": [
    "approximant = 'IMRPhenomD_NRTidal'\n",
    "\n",
    "t0 = time()\n",
    "\n",
    "hp_tilde, hc_tilde = pycbc.waveform.get_fd_waveform(\n",
    "    approximant=approximant,\n",
    "    mass1=mass1, mass2=mass2,\n",
    "    spin1z=spin1z, spin2z=spin2z, \n",
    "    lambda1=lambda1, lambda2=lambda2, \n",
    "    distance=distance, inclination=inclination,\n",
    "    delta_f=delta_f, f_lower=f_lower)\n",
    "\n",
    "dt = time() - t0\n",
    "print dt"
   ]
  },
  {
   "cell_type": "markdown",
   "metadata": {
    "deletable": true,
    "editable": true
   },
   "source": [
    "# Compare timing of several waveforms as function of f_lower"
   ]
  },
  {
   "cell_type": "code",
   "execution_count": 33,
   "metadata": {
    "collapsed": true,
    "deletable": true,
    "editable": true
   },
   "outputs": [],
   "source": [
    "def time_waveforms(\n",
    "    mass1=mass1, mass2=mass2,\n",
    "    spin1z=spin1z, spin2z=spin2z, \n",
    "    lambda1=lambda1, lambda2=lambda2, \n",
    "    distance=distance, inclination=inclination,\n",
    "    delta_t=delta_t, f_lower=f_lower):\n",
    "    \"\"\"\n",
    "    \"\"\"\n",
    "    ######## time domain ########\n",
    "    \n",
    "    approximant = 'SpinTaylorT4'\n",
    "    t0 = time()\n",
    "    hp, hc = pycbc.waveform.get_td_waveform(\n",
    "        approximant=approximant,\n",
    "        mass1=mass1, mass2=mass2,\n",
    "        spin1z=spin1z, spin2z=spin2z, \n",
    "        lambda1=lambda1, lambda2=lambda2, \n",
    "        distance=distance, inclination=inclination,\n",
    "        delta_t=delta_t, f_lower=f_lower)\n",
    "    hp_tilde = hp.to_frequencyseries()\n",
    "    hc_tilde = hc.to_frequencyseries()\n",
    "    dt_t4 = time() - t0\n",
    "    \n",
    "    approximant = 'TEOBResum_ROM'\n",
    "    t0 = time()\n",
    "    hp, hc = pycbc.waveform.get_td_waveform(\n",
    "        approximant=approximant,\n",
    "        mass1=mass1, mass2=mass2,\n",
    "        spin1z=spin1z, spin2z=spin2z, \n",
    "        lambda1=lambda1, lambda2=lambda2, \n",
    "        distance=distance, inclination=inclination,\n",
    "        delta_t=delta_t, f_lower=f_lower)\n",
    "    hp_tilde = hp.to_frequencyseries()\n",
    "    hc_tilde = hc.to_frequencyseries()\n",
    "    dt_teob_resum = time() - t0\n",
    "    \n",
    "    ######### frequency domain #########\n",
    "    \n",
    "    f_min = f_lower\n",
    "    f_max = hp_tilde.sample_frequencies[-1]\n",
    "    delta_f = hp_tilde.delta_f\n",
    "    \n",
    "    t0 = time()\n",
    "#     freq, hp_lal, hc_lal = sur.physical_waveform_lal(\n",
    "#         mass1=mass1, mass2=mass2, \n",
    "#         spin1z=spin1z, spin2z=spin2z, \n",
    "#         lambda1=lambda1, lambda2=lambda2,\n",
    "#         distance=distance, inclination=inclination, \n",
    "#         f_min=f_min, f_max=f_max, delta_f=delta_f, \n",
    "#         f_ref=None, phi_ref=None)\n",
    "    hp_tilde, hc_tilde = sur.physical_waveform_pycbc(\n",
    "        mass1=mass1, mass2=mass2, \n",
    "        spin1z=spin1z, spin2z=spin2z, \n",
    "        lambda1=lambda1, lambda2=lambda2,\n",
    "        distance=distance, inclination=inclination, \n",
    "        f_min=f_min, f_max=f_max, delta_f=delta_f, \n",
    "        f_ref=None, phi_ref=None)\n",
    "    dt_sur = time() - t0\n",
    "    #print len(freq)\n",
    "    print len(hp_tilde.sample_frequencies)\n",
    "    \n",
    "    approximant = 'TaylorF2'\n",
    "    t0 = time()\n",
    "    hp_tilde, hc_tilde = pycbc.waveform.get_fd_waveform(\n",
    "        approximant=approximant,\n",
    "        mass1=mass1, mass2=mass2,\n",
    "        spin1z=spin1z, spin2z=spin2z, \n",
    "        lambda1=lambda1, lambda2=lambda2, \n",
    "        distance=distance, inclination=inclination,\n",
    "        delta_f=delta_f, f_lower=f_lower)\n",
    "    dt_f2 = time() - t0\n",
    "    \n",
    "    approximant = 'SEOBNRv4_ROM_NRTidal'\n",
    "    t0 = time()\n",
    "    hp_tilde, hc_tilde = pycbc.waveform.get_fd_waveform(\n",
    "        approximant=approximant,\n",
    "        mass1=mass1, mass2=mass2,\n",
    "        spin1z=spin1z, spin2z=spin2z, \n",
    "        lambda1=lambda1, lambda2=lambda2, \n",
    "        distance=distance, inclination=inclination,\n",
    "        delta_f=delta_f, f_lower=f_lower)\n",
    "    dt_seob_nrtidal = time() - t0\n",
    "    \n",
    "    approximant = 'IMRPhenomD_NRTidal'\n",
    "    t0 = time()\n",
    "    hp_tilde, hc_tilde = pycbc.waveform.get_fd_waveform(\n",
    "        approximant=approximant,\n",
    "        mass1=mass1, mass2=mass2,\n",
    "        spin1z=spin1z, spin2z=spin2z, \n",
    "        lambda1=lambda1, lambda2=lambda2, \n",
    "        distance=distance, inclination=inclination,\n",
    "        delta_f=delta_f, f_lower=f_lower)\n",
    "    dt_phenomd_nrtidal = time() - t0\n",
    "    \n",
    "    print len(hp_tilde.sample_frequencies)\n",
    "    \n",
    "    return dt_t4, dt_teob_resum, dt_sur, dt_f2, dt_seob_nrtidal, dt_phenomd_nrtidal"
   ]
  },
  {
   "cell_type": "code",
   "execution_count": 38,
   "metadata": {
    "collapsed": false,
    "deletable": true,
    "editable": true
   },
   "outputs": [
    {
     "name": "stdout",
     "output_type": "stream",
     "text": [
      "11.0\n",
      "1614614\n",
      "2097153\n",
      "15\n",
      "707457\n",
      "1048577\n",
      "20.0\n",
      "329063\n",
      "524289\n",
      "30.0\n",
      "111836\n",
      "131073\n",
      "40.0\n",
      "51968\n",
      "65537\n",
      "50.0\n",
      "28659\n",
      "32769\n",
      "60.0\n",
      "17609\n",
      "32769\n",
      "70.0\n",
      "11658\n",
      "16385\n",
      "80.0\n",
      "8150\n",
      "16385\n",
      "90.0\n",
      "5939\n",
      "8193\n",
      "100.0\n",
      "4472\n",
      "8193\n"
     ]
    }
   ],
   "source": [
    "mass1 = 1.4\n",
    "mass2 = 1.4\n",
    "spin1z = 0.\n",
    "spin2z = 0.\n",
    "lambda1 = 1000.\n",
    "lambda2 = 1000.\n",
    "distance = 100.\n",
    "inclination = 1.1\n",
    "\n",
    "f_sample = 4096.\n",
    "flows = [11., 15, 20., 30., 40., 50., 60., 70., 80., 90., 100.]\n",
    "#flows = [15, 20., 30., 40., 50., 60., 70., 80., 90., 100.]\n",
    "\n",
    "times_of_flow = []\n",
    "for f_lower in flows:\n",
    "    print f_lower\n",
    "    times = time_waveforms(\n",
    "        mass1=mass1, mass2=mass2,\n",
    "        spin1z=spin1z, spin2z=spin2z, \n",
    "        lambda1=lambda1, lambda2=lambda2, \n",
    "        distance=distance, inclination=inclination,\n",
    "        delta_t=delta_t, f_lower=f_lower)\n",
    "    \n",
    "    times_of_flow.append(times)\n",
    "\n",
    "times_of_flow = np.array(times_of_flow)"
   ]
  },
  {
   "cell_type": "code",
   "execution_count": 39,
   "metadata": {
    "collapsed": false,
    "deletable": true,
    "editable": true
   },
   "outputs": [
    {
     "data": {
      "text/plain": [
       "array([[  2.4822e+00,   8.2194e-01,   3.4615e-01,   1.3262e-01,   4.9553e-01,   4.8981e-01],\n",
       "       [  9.4753e-01,   4.4209e-01,   1.5077e-01,   5.7945e-02,   2.3245e-01,   2.2700e-01],\n",
       "       [  5.4140e-01,   1.5030e-01,   7.7772e-02,   2.6518e-02,   1.1434e-01,   1.1356e-01],\n",
       "       [  1.8943e-01,   7.1790e-02,   4.0496e-02,   9.7470e-03,   3.4468e-02,   3.0295e-02],\n",
       "       [  7.7779e-02,   5.0231e-02,   2.4661e-02,   3.5920e-03,   1.9305e-02,   1.5509e-02],\n",
       "       [  4.1720e-02,   3.6282e-02,   2.0086e-02,   2.0580e-03,   1.0970e-02,   7.5569e-03],\n",
       "       [  2.5144e-02,   3.8465e-02,   2.0324e-02,   1.3740e-03,   1.0294e-02,   6.7651e-03],\n",
       "       [  1.6826e-02,   3.2658e-02,   1.7477e-02,   8.6999e-04,   7.6580e-03,   3.7880e-03],\n",
       "       [  1.1461e-02,   3.1371e-02,   1.6993e-02,   8.8191e-04,   7.2501e-03,   3.4490e-03],\n",
       "       [  9.5670e-03,   3.4357e-02,   1.8228e-02,   5.7507e-04,   6.2900e-03,   2.2030e-03],\n",
       "       [  7.4179e-03,   2.9586e-02,   1.6358e-02,   3.9387e-04,   5.7170e-03,   2.1651e-03]])"
      ]
     },
     "execution_count": 39,
     "metadata": {},
     "output_type": "execute_result"
    }
   ],
   "source": [
    "times_of_flow"
   ]
  },
  {
   "cell_type": "code",
   "execution_count": 44,
   "metadata": {
    "collapsed": false,
    "deletable": true,
    "editable": true
   },
   "outputs": [
    {
     "data": {
      "image/png": "[encoded data removed]",
      "text/plain": [
       "<matplotlib.figure.Figure at 0x10ed56c10>"
      ]
     },
     "metadata": {},
     "output_type": "display_data"
    }
   ],
   "source": [
    "fig = plt.figure(figsize=(8, 6))\n",
    "axes = fig.add_subplot(111)\n",
    "\n",
    "axes.plot(flows, times_of_flow[:, 0], lw=3, label='SpinTaylorT4')\n",
    "axes.plot(flows, times_of_flow[:, 1], lw=3, label='TEOBResum\\_ROM')\n",
    "axes.plot(flows, times_of_flow[:, 2], lw=3, ls='--', label='TEOBv4\\_surrogate')\n",
    "axes.plot(flows, times_of_flow[:, 3], lw=3, label='TaylorF2')\n",
    "axes.plot(flows, times_of_flow[:, 4], lw=3, label='SEOBNRv4\\_ROM\\_NRTidal')\n",
    "axes.plot(flows, times_of_flow[:, 5], lw=3, label='IMRPhenomD\\_NRTidal')\n",
    "\n",
    "axes.set_yscale('log')\n",
    "axes.set_xlim([0., 100.0])\n",
    "#axes.set_ylim([0.03, 10.0])\n",
    "axes.minorticks_on()\n",
    "axes.set_xlabel(r'Starting frequency (Hz)')\n",
    "axes.set_ylabel(r'Evaluation time (s)')\n",
    "axes.legend(loc='upper right')\n",
    "axes.grid(which='major', c='k')\n",
    "axes.grid(which='minor')"
   ]
  },
  {
   "cell_type": "code",
   "execution_count": null,
   "metadata": {
    "collapsed": true,
    "deletable": true,
    "editable": true
   },
   "outputs": [],
   "source": []
  },
  {
   "cell_type": "code",
   "execution_count": 42,
   "metadata": {
    "collapsed": false,
    "deletable": true,
    "editable": true
   },
   "outputs": [
    {
     "name": "stdout",
     "output_type": "stream",
     "text": [
      "0 TaylorT1\n",
      "1 TaylorT2\n",
      "2 TaylorT3\n",
      "3 TaylorF1\n",
      "4 EccentricFD\n",
      "5 TaylorF2\n",
      "6 TaylorF2NLTides\n",
      "7 TaylorR2F4\n",
      "8 TaylorF2RedSpin\n",
      "9 TaylorF2RedSpinTidal\n",
      "10 PadeT1\n",
      "11 PadeF1\n",
      "12 EOB\n",
      "13 BCV\n",
      "14 BCVSpin\n",
      "15 SpinTaylorT1\n",
      "16 SpinTaylorT2\n",
      "17 SpinTaylorT3\n",
      "18 SpinTaylorT4\n",
      "19 SpinTaylorT5\n",
      "20 SpinTaylorF2\n",
      "21 SpinTaylorFrameless\n",
      "22 SpinTaylor\n",
      "23 PhenSpinTaylor\n",
      "24 PhenSpinTaylorRD\n",
      "25 SpinQuadTaylor\n",
      "26 FindChirpSP\n",
      "27 FindChirpPTF\n",
      "28 GeneratePPN\n",
      "29 BCVC\n",
      "30 FrameFile\n",
      "31 AmpCorPPN\n",
      "32 NumRel\n",
      "33 NumRelNinja2\n",
      "34 Eccentricity\n",
      "35 EOBNR\n",
      "36 EOBNRv2\n",
      "37 EOBNRv2HM\n",
      "38 EOBNRv2_ROM\n",
      "39 EOBNRv2HM_ROM\n",
      "40 TEOBResum_ROM\n",
      "41 SEOBNRv1\n",
      "42 SEOBNRv2\n",
      "43 SEOBNRv2_opt\n",
      "44 SEOBNRv3\n",
      "45 SEOBNRv3_pert\n",
      "46 SEOBNRv3_opt\n",
      "47 SEOBNRv3_opt_rk4\n",
      "48 SEOBNRv4\n",
      "49 SEOBNRv4_opt\n",
      "50 TEOBv2\n",
      "51 TEOBv4\n",
      "52 SEOBNRv1_ROM_EffectiveSpin\n",
      "53 SEOBNRv1_ROM_DoubleSpin\n",
      "54 SEOBNRv2_ROM_EffectiveSpin\n",
      "55 SEOBNRv2_ROM_DoubleSpin\n",
      "56 SEOBNRv2_ROM_DoubleSpin_HI\n",
      "57 Lackey_Tidal_2013_SEOBNRv2_ROM\n",
      "58 SEOBNRv4_ROM\n",
      "59 SEOBNRv4_ROM_NRTidal\n",
      "60 HGimri\n",
      "61 IMRPhenomA\n",
      "62 IMRPhenomB\n",
      "63 IMRPhenomFA\n",
      "64 IMRPhenomFB\n",
      "65 IMRPhenomC\n",
      "66 IMRPhenomD\n",
      "67 IMRPhenomD_NRTidal\n",
      "68 IMRPhenomP\n",
      "69 IMRPhenomPv2\n",
      "70 IMRPhenomFC\n",
      "71 TaylorEt\n",
      "72 TaylorT4\n",
      "73 EccentricTD\n",
      "74 TaylorN\n",
      "75 SpinTaylorT4Fourier\n",
      "76 SpinTaylorT2Fourier\n",
      "77 SpinDominatedWf\n",
      "78 NR_hdf5\n",
      "79 NRSur4d2s\n",
      "80 NRSur7dq2\n"
     ]
    }
   ],
   "source": [
    "lalwaveform.print_all_approximants()"
   ]
  },
  {
   "cell_type": "code",
   "execution_count": null,
   "metadata": {
    "collapsed": true,
    "deletable": true,
    "editable": true
   },
   "outputs": [],
   "source": []
  }
 ],
 "metadata": {
  "kernelspec": {
   "display_name": "Python 2",
   "language": "python",
   "name": "python2"
  },
  "language_info": {
   "codemirror_mode": {
    "name": "ipython",
    "version": 2
   },
   "file_extension": ".py",
   "mimetype": "text/x-python",
   "name": "python",
   "nbconvert_exporter": "python",
   "pygments_lexer": "ipython2",
   "version": "2.7.13"
  }
 },
 "nbformat": 4,
 "nbformat_minor": 1
}
