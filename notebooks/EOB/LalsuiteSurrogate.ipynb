{
 "cells": [
  {
   "cell_type": "markdown",
   "metadata": {
    "deletable": true,
    "editable": true
   },
   "source": [
    "Check all hdf5 groups and attributes with:\n",
    "\n",
    "h5dump -n 1 lalsuitetest.hdf5\n",
    "\n",
    "This prints the description attribute:\n",
    "\n",
    "h5dump -a description lalsuitetest.hdf5 "
   ]
  },
  {
   "cell_type": "code",
   "execution_count": 1,
   "metadata": {
    "collapsed": false,
    "deletable": true,
    "editable": true
   },
   "outputs": [
    {
     "name": "stdout",
     "output_type": "stream",
     "text": [
      "Populating the interactive namespace from numpy and matplotlib\n"
     ]
    }
   ],
   "source": [
    "%pylab inline\n",
    "\n",
    "import numpy as np\n",
    "import matplotlib.pyplot as plt\n",
    "from mpl_toolkits.mplot3d import Axes3D\n",
    "\n",
    "np.set_printoptions(precision=6, linewidth=110)"
   ]
  },
  {
   "cell_type": "code",
   "execution_count": 2,
   "metadata": {
    "collapsed": true,
    "deletable": true,
    "editable": true
   },
   "outputs": [],
   "source": [
    "import h5py"
   ]
  },
  {
   "cell_type": "code",
   "execution_count": 3,
   "metadata": {
    "collapsed": false,
    "deletable": true,
    "editable": true
   },
   "outputs": [
    {
     "name": "stdout",
     "output_type": "stream",
     "text": [
      "\n"
     ]
    }
   ],
   "source": [
    "sys.path.insert(0, '../../src')\n",
    "\n",
    "import waveform as wave\n",
    "import waveformset as ws\n",
    "import trainingset as train\n",
    "import taylorf2 as f2\n",
    "import gaussianprocessregression as gpr\n",
    "import designofexperiment as doe\n",
    "import lalwaveform\n",
    "import plotparams\n",
    "import greedy\n",
    "import empiricalinterpolation as eim\n",
    "import surrogate\n",
    "import diagnostics\n",
    "import uncertaintysampling as us\n",
    "\n",
    "import imp\n",
    "imp.reload(wave)\n",
    "imp.reload(ws)\n",
    "imp.reload(train)\n",
    "imp.reload(f2)\n",
    "imp.reload(gpr)\n",
    "imp.reload(doe)\n",
    "imp.reload(lalwaveform)\n",
    "imp.reload(greedy)\n",
    "imp.reload(eim)\n",
    "imp.reload(surrogate)\n",
    "imp.reload(diagnostics)\n",
    "imp.reload(us)\n",
    "\n",
    "import constants\n",
    "imp.reload(constants)\n",
    "from constants import *"
   ]
  },
  {
   "cell_type": "markdown",
   "metadata": {
    "deletable": true,
    "editable": true
   },
   "source": [
    "# Construct surrogate in way that can be directly converted to lalsuite code"
   ]
  },
  {
   "cell_type": "code",
   "execution_count": 4,
   "metadata": {
    "collapsed": true,
    "deletable": true,
    "editable": true
   },
   "outputs": [],
   "source": [
    "def kernel(x1, x2, hyperparams):\n",
    "    \"\"\"Matern covariance function for n-dimensional data.\n",
    "    \n",
    "    Parameters\n",
    "    ----------\n",
    "    x1 : array with shape ndim\n",
    "    x2 : array with shape ndim\n",
    "    hyperparams : array with shape ndim+2 [sigma_f, ls0, ls1, ..., sigma_n]\n",
    "        sigma_f : Approximately the range (ymax-ymin) of values that the data takes.\n",
    "            sigma_f^2 called the signal variance.\n",
    "        sigma_n : Noise term. The uncertainty in the y values of the data.\n",
    "        lsi : Length scales for the variation in dimension i.\n",
    "    \n",
    "    Returns\n",
    "    -------\n",
    "    covariance : float\n",
    "    \"\"\"\n",
    "    sigma_f = hyperparams[0]\n",
    "    sigma_n = hyperparams[-1]\n",
    "    ls = hyperparams[1:-1]\n",
    "    ndim = len(ls)\n",
    "    \n",
    "    # Noise nugget for diagonal elements\n",
    "    if np.array_equal(x1, x2):\n",
    "        nugget = sigma_n**2\n",
    "    else:\n",
    "        nugget = 0.0\n",
    "    \n",
    "    # r**2\n",
    "    rsq = np.sum(np.array([(x1[i]-x2[i])**2 / ls[i]**2 for i in range(ndim)]))\n",
    "    r = np.sqrt(rsq)\n",
    "    \n",
    "    # nu = 5/2 Matern covariance\n",
    "    matern = (1. + np.sqrt(5.)*r + 5.*r**2/3.) * np.exp(-np.sqrt(5.)*r)\n",
    "    \n",
    "    # Full covariance\n",
    "    # You must include the nugget to agree with scikit-learn when the points x1, x2 are exactly the same\n",
    "    return sigma_f**2 * matern + nugget"
   ]
  },
  {
   "cell_type": "code",
   "execution_count": 5,
   "metadata": {
    "collapsed": false,
    "deletable": true,
    "editable": true
   },
   "outputs": [],
   "source": [
    "def gp_predict(xst, hyperparams, x_train, Kinv_dot_y):\n",
    "    \"\"\"Interpolate the function at the point xst using Gaussian process regression.\n",
    "    \n",
    "    Parameters\n",
    "    ----------\n",
    "    xst : array of shape ndim.\n",
    "        Point x_* where you want to evaluate the function.\n",
    "    hyperparams : array with shape ndim+2 [sigma_f, ls0, ls1, ..., sigma_n].\n",
    "        Hyperparameters for the GPR kernel.\n",
    "    x_train : array of shape (n_train, ndim).\n",
    "        Training set points.\n",
    "    Kinv_dot_y : array of shape n_train.\n",
    "        The interpolating weights at each training set point.\n",
    "    \n",
    "    Returns\n",
    "    -------\n",
    "    yst : float\n",
    "        Interpolated value at the point xst.\n",
    "    \"\"\"\n",
    "    # Evaluate vector K_*\n",
    "    Kst = np.array([kernel(xst, x, hyperparams) for x in x_train])\n",
    "\n",
    "    # Evaluate y_*\n",
    "    return np.dot(Kst, Kinv_dot_y)"
   ]
  },
  {
   "cell_type": "code",
   "execution_count": 6,
   "metadata": {
    "collapsed": true,
    "deletable": true,
    "editable": true
   },
   "outputs": [],
   "source": [
    "def extract_data_from_scikit_learn(gp):\n",
    "    \"\"\"Extract the data in the scikit-learn GaussianProcessRegressor class \n",
    "    that you need for the lalsuite version.\n",
    "    \"\"\"\n",
    "    # hyperparams = np.array([sigma_f, lq, ls1, ls2, llam1, llam2, sigma_n])\n",
    "    hyperparams = gpr.get_hyperparameters(gp)\n",
    "    \n",
    "    # The training data\n",
    "    x_train = gp.X_train_\n",
    "    y_train = gp.y_train_\n",
    "    \n",
    "    # Evaluate K\n",
    "    K = np.array([[kernel(x1, x2, hyperparams) for x2 in x_train] for x1 in x_train])\n",
    "    \n",
    "    # Evaluate K^{-1}\n",
    "    Kinv = np.linalg.inv(K)\n",
    "    \n",
    "    # Evaluate (K^{-1})_{ij} y_j (array of length nparams).\n",
    "    Kinv_dot_y = np.dot(Kinv, y_train)\n",
    "    \n",
    "    return hyperparams, x_train, Kinv_dot_y"
   ]
  },
  {
   "cell_type": "markdown",
   "metadata": {
    "deletable": true,
    "editable": true
   },
   "source": [
    "# Load scikit-learn (python) version of surrogate"
   ]
  },
  {
   "cell_type": "code",
   "execution_count": 7,
   "metadata": {
    "collapsed": false,
    "deletable": true,
    "editable": true
   },
   "outputs": [],
   "source": [
    "Bamp_filename = '../../data/teobtest40hz/B_amp_corners_lhd.hdf5'\n",
    "Bphase_filename = '../../data/teobtest40hz/B_phase_corners_lhd.hdf5'\n",
    "gp_amp_filename = '../../data/teobtest40hz/gp_amp_corners_lhd.hdf5'\n",
    "gp_phase_filename = '../../data/teobtest40hz/gp_phase_corners_lhd.hdf5'\n",
    "sur = surrogate.GPSurrogate.load(Bamp_filename, Bphase_filename, gp_amp_filename, gp_phase_filename)\n",
    "\n",
    "# Bamp_filename = '../../data/teobtest40hz/B_amp_lhd_uncsamp.hdf5'\n",
    "# Bphase_filename = '../../data/teobtest40hz/B_phase_lhd_uncsamp.hdf5'\n",
    "# gp_amp_filename = '../../data/teobtest40hz/gp_amp_lhd_uncsamp.hdf5'\n",
    "# gp_phase_filename = '../../data/teobtest40hz/gp_phase_lhd_uncsamp.hdf5'\n",
    "# sur = surrogate.GPSurrogate.load(Bamp_filename, Bphase_filename, gp_amp_filename, gp_phase_filename)"
   ]
  },
  {
   "cell_type": "code",
   "execution_count": 8,
   "metadata": {
    "collapsed": false,
    "deletable": true,
    "editable": true
   },
   "outputs": [
    {
     "name": "stdout",
     "output_type": "stream",
     "text": [
      "5.42263345338e-10\n",
      "1.16229470493e-10\n",
      "1.42235012657e-09\n",
      "5.21262366604e-10\n",
      "9.73295777307e-10\n",
      "6.05887562344e-10\n",
      "3.14612225161e-10\n",
      "2.41429098935e-10\n",
      "2.05440109369e-10\n",
      "4.93759477749e-11\n"
     ]
    }
   ],
   "source": [
    "#Random point:\n",
    "#x = np.array([0.8, 0.2, 0.1, 1000, 2000])\n",
    "\n",
    "# Point exactly in training set:\n",
    "x = np.array([3.333333e-01, -4.000000e-01, -4.000000e-01, 1.000000e-01, 1.000000e-01])\n",
    "\n",
    "for i in range(len(sur.dphase_gp_list)):\n",
    "    gp = sur.dphase_gp_list[i]\n",
    "    #gp = sur.dphase_gp_list[0]\n",
    "    hyperparams, x_train, Kinv_dot_y = extract_data_from_scikit_learn(gp)\n",
    "\n",
    "    a = gp.predict(np.atleast_2d(x))[0]\n",
    "    b = gp_predict(x, hyperparams, x_train, Kinv_dot_y)\n",
    "\n",
    "    #sigma_n = hyperparams[-1]\n",
    "    #print sigma_n\n",
    "    print np.abs(b/a-1.)"
   ]
  },
  {
   "cell_type": "markdown",
   "metadata": {
    "deletable": true,
    "editable": true
   },
   "source": [
    "# Generate hdf5 file for lalsuite version"
   ]
  },
  {
   "cell_type": "code",
   "execution_count": 139,
   "metadata": {
    "collapsed": false,
    "deletable": true,
    "editable": true
   },
   "outputs": [],
   "source": [
    "# def lalsuite_surrogate_format(filename, sur):\n",
    "#     \"\"\"Write data to an hdf5 file format that can be read by the \n",
    "#     lalsuite version of the code.\n",
    "#     \"\"\"\n",
    "#     f = h5py.File(filename, libver='latest')\n",
    "    \n",
    "#     namp = len(sur.Bamp)\n",
    "#     nphase = len(sur.Bphase)\n",
    "    \n",
    "#     f.attrs['description'] = \\\n",
    "# '''\n",
    "# ********************************************************************************\n",
    "# Data for TEOBv4_ROM reduced order model (aligned-spin BNS with tidal interactions).\n",
    "\n",
    "# See B. Lackey, et al. arXiv:xxxx.xxxx.\n",
    "\n",
    "# Parameter ranges:\n",
    "# * 1/3 <= q <= 1\n",
    "# * -0.4 <= spin_1z <= 0.4\n",
    "# * -0.4 <= spin_2z <= 0.4\n",
    "# * 0.1 <= lambda_1 <= 3000\n",
    "# * 0.1 <= lambda_2 <= 3000\n",
    "# * flow >= xxHz\n",
    "\n",
    "# This ROM was built using the TEOBv4 waveform.\n",
    "\n",
    "# The hyperparameters for the Gaussian process regression associated with each \n",
    "# basis function are listed in the order\n",
    "# [sigma_f, l_q, l_spin1z, l_spin2z, l_lambda1, l_lambda2, sigma_n]\n",
    "# where sigma_f is approximately the function range, sigma_n is the noise/tollerance, \n",
    "# and l_i is the correlation length scale for the parameter i.\n",
    "# ********************************************************************************\n",
    "# '''\n",
    "    \n",
    "#     # Frequency samples\n",
    "#     f['mf'] = sur.mf\n",
    "    \n",
    "#     # Training set samples.\n",
    "#     # They are the same for all basis functions so pick amp_0\n",
    "#     gp = sur.damp_gp_list[0]\n",
    "#     x_train = gp.X_train_\n",
    "#     f['x_train'] = x_train\n",
    "    \n",
    "#     print 'Writing amplitude bases...'\n",
    "#     for i in range(namp):\n",
    "#         print i,\n",
    "#         groupname = 'delta_ln_a_' + str(i)\n",
    "#         group = f.create_group(groupname)\n",
    "        \n",
    "#         group.attrs['mf_node'] = sur.mf_amp[i]\n",
    "#         group['basis'] = sur.Bamp[i].amp\n",
    "    \n",
    "#         gp = sur.damp_gp_list[i]\n",
    "#         hyperparameters, x_train, kinv_dot_y = extract_data_from_scikit_learn(gp)\n",
    "#         group['hyperparameters'] = hyperparameters\n",
    "#         group['kinv_dot_y'] = kinv_dot_y\n",
    "        \n",
    "#     print '\\nWriting phase bases...'\n",
    "#     for i in range(nphase):\n",
    "#         print i,\n",
    "#         groupname = 'delta_phi_' + str(i)\n",
    "#         group = f.create_group(groupname)\n",
    "        \n",
    "#         group.attrs['mf_node'] = sur.mf_phase[i]\n",
    "#         group['basis'] = sur.Bphase[i].phase\n",
    "        \n",
    "#         gp = sur.dphase_gp_list[i]\n",
    "#         hyperparameters, x_train, kinv_dot_y = extract_data_from_scikit_learn(gp)\n",
    "#         group['hyperparameters'] = hyperparameters\n",
    "#         group['kinv_dot_y'] = kinv_dot_y\n",
    "        \n",
    "#     f.close()"
   ]
  },
  {
   "cell_type": "code",
   "execution_count": 30,
   "metadata": {
    "collapsed": true
   },
   "outputs": [],
   "source": [
    "def lalsuite_surrogate_format(filename, sur):\n",
    "    \"\"\"Write data to an hdf5 file format that can be read by the \n",
    "    lalsuite version of the code.\n",
    "    \"\"\"\n",
    "    f = h5py.File(filename, libver='latest')\n",
    "    \n",
    "    namp = len(sur.Bamp)\n",
    "    nphase = len(sur.Bphase)\n",
    "    \n",
    "    f.attrs['description'] = \\\n",
    "'''\n",
    "********************************************************************************\n",
    "Data for TEOBv4_ROM reduced order model (aligned-spin BNS with tidal interactions).\n",
    "\n",
    "See B. Lackey, M. Puerrer, A. Taracchini. arXiv:xxxx.xxxx.\n",
    "\n",
    "Parameter ranges:\n",
    "* 1/3 <= q <= 1\n",
    "* -0.4 <= spin_1z <= 0.4\n",
    "* -0.4 <= spin_2z <= 0.4\n",
    "* 0.1 <= lambda_1 <= 3000\n",
    "* 0.1 <= lambda_2 <= 3000\n",
    "* flow >= xxHz\n",
    "\n",
    "This ROM was built using the TEOBv4 waveform.\n",
    "\n",
    "The hyperparameters for the Gaussian process regression associated with each \n",
    "basis function are listed in the order\n",
    "[sigma_f, l_q, l_spin1z, l_spin2z, l_lambda1, l_lambda2, sigma_n]\n",
    "where sigma_f is approximately the function range, sigma_n is the noise/tollerance, \n",
    "and l_i is the correlation length scale for the parameter i.\n",
    "********************************************************************************\n",
    "'''\n",
    "    # Bounds\n",
    "    f['q_bounds'] = np.array([1./3., 1])\n",
    "    f['chi1_bounds'] = np.array([-0.4, 0.4])\n",
    "    f['chi2_bounds'] = np.array([-0.4, 0.4])\n",
    "    f['lambda1_bounds'] = np.array([0.1, 3000])\n",
    "    f['lambda2_bounds'] = np.array([0.1, 3000])\n",
    "\n",
    "    # Frequency samples\n",
    "    f['mf'] = sur.mf\n",
    "    \n",
    "    # Training set samples.\n",
    "    # They are the same for all basis functions so pick amp_0\n",
    "    gp = sur.damp_gp_list[0]\n",
    "    x_train = gp.X_train_\n",
    "    f['x_train'] = x_train\n",
    "    \n",
    "    print 'Writing amplitude bases...'\n",
    "    nodes_amp = []\n",
    "    B_amp = []\n",
    "    hyp_amp = []\n",
    "    kinv_dot_y_amp = []\n",
    "    for i in range(namp):\n",
    "        nodes_amp.append(sur.mf_amp[i])\n",
    "        B_amp.append(sur.Bamp[i].amp)\n",
    "        gp = sur.damp_gp_list[i]\n",
    "        hyperparameters, x_train, kinv_dot_y = extract_data_from_scikit_learn(gp)\n",
    "        hyp_amp.append(hyperparameters)\n",
    "        kinv_dot_y_amp.append(kinv_dot_y)\n",
    "    \n",
    "    f['EI_nodes_amp'] = np.array(nodes_amp)\n",
    "    f['B_amp'] = np.array(B_amp)\n",
    "    f['hyp_amp'] = np.array(hyp_amp)\n",
    "    f['kinv_dot_y_amp'] = np.array(kinv_dot_y_amp)\n",
    "    \n",
    "    print f['EI_nodes_amp'][:].shape\n",
    "    print f['B_amp'][:].shape\n",
    "    print f['hyp_amp'][:].shape\n",
    "    print f['kinv_dot_y_amp'][:].shape\n",
    "    \n",
    "    \n",
    "    print '\\nWriting phase bases...'\n",
    "    nodes_phase = []\n",
    "    B_phase = []\n",
    "    hyp_phase = []\n",
    "    kinv_dot_y_phase = []\n",
    "    for i in range(nphase):\n",
    "        nodes_phase.append(sur.mf_phase[i])\n",
    "        B_phase.append(sur.Bphase[i].phase)\n",
    "        gp = sur.dphase_gp_list[i]\n",
    "        hyperparameters, x_train, kinv_dot_y = extract_data_from_scikit_learn(gp)\n",
    "        hyp_phase.append(hyperparameters)\n",
    "        kinv_dot_y_phase.append(kinv_dot_y)\n",
    "    \n",
    "    f['EI_nodes_phi'] = np.array(nodes_phase)\n",
    "    f['B_phi'] = np.array(B_phase)\n",
    "    f['hyp_phi'] = np.array(hyp_phase)\n",
    "    f['kinv_dot_y_phi'] = np.array(kinv_dot_y_phase)\n",
    "    \n",
    "    print f['EI_nodes_phi'][:].shape\n",
    "    print f['B_phi'][:].shape\n",
    "    print f['hyp_phi'][:].shape\n",
    "    print f['kinv_dot_y_phi'][:].shape\n",
    "    \n",
    "    f.close()"
   ]
  },
  {
   "cell_type": "code",
   "execution_count": 31,
   "metadata": {
    "collapsed": false,
    "deletable": true,
    "editable": true
   },
   "outputs": [
    {
     "name": "stdout",
     "output_type": "stream",
     "text": [
      "Writing amplitude bases...\n",
      "(10,)\n",
      "(10, 10000)\n",
      "(10, 7)\n",
      "(10, 159)\n",
      "\n",
      "Writing phase bases...\n",
      "(10,)\n",
      "(10, 10000)\n",
      "(10, 7)\n",
      "(10, 159)\n"
     ]
    }
   ],
   "source": [
    "filename = '../../data/teobtest40hz/TEOBv4_ROM.hdf5'\n",
    "lalsuite_surrogate_format(filename, sur)"
   ]
  },
  {
   "cell_type": "markdown",
   "metadata": {
    "deletable": true,
    "editable": true
   },
   "source": [
    "## Testing"
   ]
  },
  {
   "cell_type": "code",
   "execution_count": 32,
   "metadata": {
    "collapsed": true,
    "deletable": true,
    "editable": true
   },
   "outputs": [],
   "source": [
    "f = h5py.File(filename, libver='latest')"
   ]
  },
  {
   "cell_type": "code",
   "execution_count": 34,
   "metadata": {
    "collapsed": false,
    "deletable": true,
    "editable": true
   },
   "outputs": [
    {
     "name": "stdout",
     "output_type": "stream",
     "text": [
      "[ 0.333333  1.      ]\n",
      "[-0.4  0.4]\n",
      "[-0.4  0.4]\n",
      "[  1.000000e-01   3.000000e+03]\n",
      "[  1.000000e-01   3.000000e+03]\n",
      "(10000,)\n",
      "(159, 5)\n"
     ]
    }
   ],
   "source": [
    "print f['q_bounds'][:]\n",
    "print f['chi1_bounds'][:]\n",
    "print f['chi2_bounds'][:]\n",
    "print f['lambda1_bounds'][:]\n",
    "print f['lambda2_bounds'][:]\n",
    "\n",
    "print f['mf'][:].shape\n",
    "print f['x_train'][:].shape"
   ]
  },
  {
   "cell_type": "code",
   "execution_count": 35,
   "metadata": {
    "collapsed": false,
    "scrolled": false
   },
   "outputs": [
    {
     "name": "stdout",
     "output_type": "stream",
     "text": [
      "[ 0.003913  0.006297  0.00784   0.010067  0.013135  0.014564  0.018796  0.024249  0.027764  0.03    ]\n",
      "(10, 10000)\n",
      "[  2.417314e-02   1.611811e+00   3.200000e+00   3.200000e+00   1.199960e+04   1.199960e+04   9.511342e-05]\n",
      "[ -1067.249711  -1186.107412  -5428.985905   -674.106178   -788.595096  -1173.681862  -1429.308318\n",
      "  -1037.734476    254.822732    759.516248    294.557383   -710.243144    -35.218616    626.51537\n",
      "   -123.363184   -428.368031  -1129.598357  -1692.43766   -1176.430816  -3289.984829   -138.213424\n",
      "   -357.846508     90.734105    758.337567  -1137.13851     976.612925   -366.175835  -1120.443659\n",
      "    394.884596   -855.368516    149.018832    488.628885   6301.598234  -3356.968241   4731.38433\n",
      "  -3126.656469 -10555.674419    111.945535 -14780.414484   2818.862766  -1073.284494  -3057.707827\n",
      "  -3060.77412     187.452186   5874.016447   1420.843806    453.172055   5951.008894   4769.943345\n",
      "   6131.923492   1325.573405   3616.315512  16954.691907 -11753.266465   1182.200541  -2498.947486\n",
      "  -6235.514135  -4219.255324  -2248.282497  -2808.212686  -1722.660639    -41.571198  -5173.704356\n",
      "   1600.990228   8688.879926  -1975.915408  -7108.123767   3698.35193    1084.915886   7640.442285\n",
      "  -2795.983526  -6576.525501   1498.734283  -3217.478175   1894.300156    638.644241    527.78879\n",
      "    845.717538   8318.617644   3209.244749    541.079697  -4961.678917   5704.49253    2353.0518     5095.380127\n",
      "    769.373549  -8044.6998    -1002.526151   -641.833841  -3191.954954   -163.541786   4683.536135\n",
      "  -6905.667324  -1184.591995   -535.16427    4084.488053   2319.409129   4843.691057   8561.680853\n",
      "   2861.600524 -16951.899011    539.58405    1553.411209    171.263807    777.103377  -3563.884742\n",
      "   1092.219799  -1898.450568   1571.413198  -3531.185644  18160.668988   -576.994908  -1791.058355\n",
      "   1035.706289  -4432.378355   1290.905341   6428.083077  11357.116017  -3227.015748   2097.622111\n",
      "   1409.650738  -2425.736202    134.390643   -822.417034  -1571.666421   -924.118358  -3236.831954\n",
      "   -376.507254   6334.920421   4845.832095   1648.862527  -4854.184184  -2625.225814  -7437.054017\n",
      "  -4611.341791 -17312.107212  -4127.52884    -926.716662  -5505.87951    9801.253365   1995.307298\n",
      "   1742.279064  -2403.235954   7943.099434   1688.184112  -2938.92144   -1526.654838 -12750.352402\n",
      "  12027.902126   5513.790485   2727.256285   4121.699111  -2803.901577   -304.168034   2813.489022\n",
      "   7307.150265   1210.657224  -3335.093738    417.795532]\n"
     ]
    }
   ],
   "source": [
    "print f['EI_nodes_amp'][:]\n",
    "print f['B_amp'][:].shape\n",
    "print f['hyp_amp'][:][0]\n",
    "print f['kinv_dot_y_amp'][:][0]"
   ]
  },
  {
   "cell_type": "code",
   "execution_count": 36,
   "metadata": {
    "collapsed": false
   },
   "outputs": [
    {
     "name": "stdout",
     "output_type": "stream",
     "text": [
      "[ 0.004953  0.007806  0.008551  0.009609  0.010371  0.011522  0.013772  0.02072   0.025745  0.03    ]\n",
      "(10, 10000)\n",
      "[  3.396457e+00   1.379969e+00   2.744254e+00   6.029316e+00   2.999900e+04   2.999900e+04   3.233302e-06]\n",
      "[   7.71708    12.586714  -38.91106    14.689018    2.698471  -25.424575  -11.384529   10.503386    1.692011\n",
      "   -0.927593   23.390454   20.476781  -21.332099  -34.734909   36.552586   19.444565  -47.409264   -4.433327\n",
      "   -0.50682   -20.828924   -0.496367   10.859524   -0.416603    6.797257   -4.095638   13.842454   -0.480773\n",
      "   -2.825646  -12.275552   -6.702231  -16.71071     1.296175  -31.835968    1.289071  -64.902055  -24.75757\n",
      "   60.941454  -11.727459  129.004328    5.138491 -122.578181  180.126304   21.736462  -27.423158   22.971783\n",
      "   15.983228  -62.819208 -120.863653    8.727839   -6.208731   91.155902  -57.176721  -56.727319   19.81419\n",
      "   93.390594   -2.840643  -99.221425   29.576798    1.727601 -142.141618  -51.111255  -64.370205  107.373857\n",
      "  -59.91821  -108.005303 -195.740587  101.342041 -108.820004   32.794194 -237.58496   -33.615303   81.825286\n",
      "   -7.38397   -66.575391   58.966651   14.791195  -99.446204   21.954292  -92.280947  -40.26057   -94.973133\n",
      "    7.682417  -39.373335  239.958713  198.240259   10.653989 -201.653772   56.386922 -100.006316  -36.810827\n",
      "   33.530634  -98.871554 -129.638755  -39.178355   -4.534237  -63.381523  -11.914339    0.403181   15.908815\n",
      "    7.924687  -57.827178   51.284714   63.485639   16.345492    2.340215   21.477334  -47.972631  -12.409537\n",
      "  163.16973   102.106294  257.835726   44.151378  149.646228    3.449581   11.615219  -26.261719  -72.174875\n",
      " -283.190799   -1.690972 -114.625813  -23.459131  -51.1422     13.657629 -152.313369   85.877517  -14.018136\n",
      "   59.683527  -47.387035 -182.543939 -111.418766   38.581293  -33.393667  -74.424879  -30.235953  -25.801228\n",
      "  192.16618    86.325867   53.325955   56.458502   68.674591   51.268942   21.483381  275.438221   27.340527\n",
      "   74.884096   74.433818  -87.997529  265.550881  -20.15707    50.426648  128.002738  -23.909878   20.649923\n",
      "  -61.920845   15.703689  -37.110282  158.788226   29.552947   70.926246]\n"
     ]
    }
   ],
   "source": [
    "print f['EI_nodes_phi'][:]\n",
    "print f['B_phi'][:].shape\n",
    "print f['hyp_phi'][:][0]\n",
    "print f['kinv_dot_y_phi'][:][0]"
   ]
  },
  {
   "cell_type": "code",
   "execution_count": 37,
   "metadata": {
    "collapsed": true,
    "deletable": true,
    "editable": true
   },
   "outputs": [],
   "source": [
    "f.close()"
   ]
  },
  {
   "cell_type": "code",
   "execution_count": 19,
   "metadata": {
    "collapsed": false,
    "deletable": true,
    "editable": true
   },
   "outputs": [],
   "source": [
    "# print f['delta_ln_a_19'].attrs['mf_node']\n",
    "# print f['delta_ln_a_19/hyperparameters'][:]\n",
    "# print f['delta_ln_a_19/kinv_dot_y'][:]\n",
    "# print f['delta_ln_a_19/basis'][:]"
   ]
  },
  {
   "cell_type": "code",
   "execution_count": 20,
   "metadata": {
    "collapsed": false,
    "deletable": true,
    "editable": true
   },
   "outputs": [],
   "source": [
    "# print f['delta_phi_19'].attrs['mf_node']\n",
    "# print f['delta_phi_19/hyperparameters'][:]\n",
    "# print f['delta_phi_19/kinv_dot_y'][:]\n",
    "# print f['delta_phi_19/basis'][:]"
   ]
  },
  {
   "cell_type": "code",
   "execution_count": null,
   "metadata": {
    "collapsed": true,
    "deletable": true,
    "editable": true
   },
   "outputs": [],
   "source": []
  }
 ],
 "metadata": {
  "kernelspec": {
   "display_name": "Python 2",
   "language": "python",
   "name": "python2"
  },
  "language_info": {
   "codemirror_mode": {
    "name": "ipython",
    "version": 2
   },
   "file_extension": ".py",
   "mimetype": "text/x-python",
   "name": "python",
   "nbconvert_exporter": "python",
   "pygments_lexer": "ipython2",
   "version": "2.7.13"
  }
 },
 "nbformat": 4,
 "nbformat_minor": 1
}
