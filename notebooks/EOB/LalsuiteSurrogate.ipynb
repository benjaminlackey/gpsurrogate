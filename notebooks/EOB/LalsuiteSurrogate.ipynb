{
 "cells": [
  {
   "cell_type": "markdown",
   "metadata": {
    "deletable": true,
    "editable": true
   },
   "source": [
    "Check all hdf5 groups and attributes with:\n",
    "\n",
    "h5dump -n 1 lalsuitetest.hdf5\n",
    "\n",
    "This prints the description attribute:\n",
    "\n",
    "h5dump -a description lalsuitetest.hdf5 "
   ]
  },
  {
   "cell_type": "code",
   "execution_count": 1,
   "metadata": {
    "collapsed": false,
    "deletable": true,
    "editable": true
   },
   "outputs": [
    {
     "name": "stdout",
     "output_type": "stream",
     "text": [
      "Populating the interactive namespace from numpy and matplotlib\n"
     ]
    }
   ],
   "source": [
    "%pylab inline\n",
    "\n",
    "import numpy as np\n",
    "import matplotlib.pyplot as plt\n",
    "from mpl_toolkits.mplot3d import Axes3D\n",
    "\n",
    "np.set_printoptions(precision=6, linewidth=110)"
   ]
  },
  {
   "cell_type": "code",
   "execution_count": 2,
   "metadata": {
    "collapsed": true,
    "deletable": true,
    "editable": true
   },
   "outputs": [],
   "source": [
    "import h5py"
   ]
  },
  {
   "cell_type": "code",
   "execution_count": 49,
   "metadata": {
    "collapsed": false,
    "deletable": true,
    "editable": true
   },
   "outputs": [],
   "source": [
    "sys.path.insert(0, '../../src')\n",
    "\n",
    "import waveform as wave\n",
    "import waveformset as ws\n",
    "import trainingset as train\n",
    "import taylorf2 as f2\n",
    "import gaussianprocessregression as gpr\n",
    "import designofexperiment as doe\n",
    "import lalwaveform\n",
    "import plotparams\n",
    "import greedy\n",
    "import empiricalinterpolation as eim\n",
    "import surrogate\n",
    "import diagnostics\n",
    "import uncertaintysampling as us\n",
    "\n",
    "import imp\n",
    "imp.reload(wave)\n",
    "imp.reload(ws)\n",
    "imp.reload(train)\n",
    "imp.reload(f2)\n",
    "imp.reload(gpr)\n",
    "imp.reload(doe)\n",
    "imp.reload(lalwaveform)\n",
    "imp.reload(greedy)\n",
    "imp.reload(eim)\n",
    "imp.reload(surrogate)\n",
    "imp.reload(diagnostics)\n",
    "imp.reload(us)\n",
    "\n",
    "import constants\n",
    "imp.reload(constants)\n",
    "from constants import *"
   ]
  },
  {
   "cell_type": "markdown",
   "metadata": {
    "deletable": true,
    "editable": true
   },
   "source": [
    "# Construct surrogate in way that can be directly converted to lalsuite code"
   ]
  },
  {
   "cell_type": "code",
   "execution_count": 4,
   "metadata": {
    "collapsed": true,
    "deletable": true,
    "editable": true
   },
   "outputs": [],
   "source": [
    "def kernel(x1, x2, hyperparams):\n",
    "    \"\"\"Matern covariance function for n-dimensional data.\n",
    "    \n",
    "    Parameters\n",
    "    ----------\n",
    "    x1 : array with shape ndim\n",
    "    x2 : array with shape ndim\n",
    "    hyperparams : array with shape ndim+2 [sigma_f, ls0, ls1, ..., sigma_n]\n",
    "        sigma_f : Approximately the range (ymax-ymin) of values that the data takes.\n",
    "            sigma_f^2 called the signal variance.\n",
    "        sigma_n : Noise term. The uncertainty in the y values of the data.\n",
    "        lsi : Length scales for the variation in dimension i.\n",
    "    \n",
    "    Returns\n",
    "    -------\n",
    "    covariance : float\n",
    "    \"\"\"\n",
    "    sigma_f = hyperparams[0]\n",
    "    sigma_n = hyperparams[-1]\n",
    "    ls = hyperparams[1:-1]\n",
    "    ndim = len(ls)\n",
    "    \n",
    "    # Noise nugget for diagonal elements\n",
    "    if np.array_equal(x1, x2):\n",
    "        nugget = sigma_n**2\n",
    "    else:\n",
    "        nugget = 0.0\n",
    "    #nugget = sigma_n**2\n",
    "    \n",
    "    # r**2\n",
    "    rsq = np.sum(np.array([(x1[i]-x2[i])**2 / ls[i]**2 for i in range(ndim)]))\n",
    "    r = np.sqrt(rsq)\n",
    "    \n",
    "    # nu = 5/2 Matern covariance\n",
    "    matern = (1. + np.sqrt(5.)*r + 5.*r**2/3.) * np.exp(-np.sqrt(5.)*r)\n",
    "    \n",
    "    # Full covariance\n",
    "    # You must include the nugget to agree with scikit-learn when the points x1, x2 are exactly the same\n",
    "    return sigma_f**2 * matern + nugget"
   ]
  },
  {
   "cell_type": "code",
   "execution_count": 5,
   "metadata": {
    "collapsed": false,
    "deletable": true,
    "editable": true
   },
   "outputs": [],
   "source": [
    "def gp_predict(xst, hyperparams, x_train, Kinv_dot_y):\n",
    "    \"\"\"Interpolate the function at the point xst using Gaussian process regression.\n",
    "    \n",
    "    Parameters\n",
    "    ----------\n",
    "    xst : array of shape ndim.\n",
    "        Point x_* where you want to evaluate the function.\n",
    "    hyperparams : array with shape ndim+2 [sigma_f, ls0, ls1, ..., sigma_n].\n",
    "        Hyperparameters for the GPR kernel.\n",
    "    x_train : array of shape (n_train, ndim).\n",
    "        Training set points.\n",
    "    Kinv_dot_y : array of shape n_train.\n",
    "        The interpolating weights at each training set point.\n",
    "    \n",
    "    Returns\n",
    "    -------\n",
    "    yst : float\n",
    "        Interpolated value at the point xst.\n",
    "    \"\"\"\n",
    "    # Evaluate vector K_*\n",
    "    Kst = np.array([kernel(xst, x, hyperparams) for x in x_train])\n",
    "\n",
    "    # Evaluate y_*\n",
    "    return np.dot(Kst, Kinv_dot_y)"
   ]
  },
  {
   "cell_type": "code",
   "execution_count": 6,
   "metadata": {
    "collapsed": true,
    "deletable": true,
    "editable": true
   },
   "outputs": [],
   "source": [
    "def extract_data_from_scikit_learn(gp):\n",
    "    \"\"\"Extract the data in the scikit-learn GaussianProcessRegressor class \n",
    "    that you need for the lalsuite version.\n",
    "    \"\"\"\n",
    "    # hyperparams = np.array([sigma_f, lq, ls1, ls2, llam1, llam2, sigma_n])\n",
    "    hyperparams = gpr.get_hyperparameters(gp)\n",
    "    \n",
    "    # The training data\n",
    "    x_train = gp.X_train_\n",
    "    y_train = gp.y_train_\n",
    "    \n",
    "    # Evaluate K\n",
    "    K = np.array([[kernel(x1, x2, hyperparams) for x2 in x_train] for x1 in x_train])\n",
    "    \n",
    "    # Evaluate K^{-1}\n",
    "    Kinv = np.linalg.inv(K)\n",
    "    \n",
    "    # Evaluate (K^{-1})_{ij} y_j (array of length nparams).\n",
    "    Kinv_dot_y = np.dot(Kinv, y_train)\n",
    "    \n",
    "    return hyperparams, x_train, Kinv_dot_y"
   ]
  },
  {
   "cell_type": "markdown",
   "metadata": {
    "deletable": true,
    "editable": true
   },
   "source": [
    "# Load scikit-learn (python) version of surrogate"
   ]
  },
  {
   "cell_type": "code",
   "execution_count": 7,
   "metadata": {
    "collapsed": false,
    "deletable": true,
    "editable": true
   },
   "outputs": [],
   "source": [
    "# nodes_filename = '../../data/TEOBv4_20hz/nodes_corners_lhd.hdf5'\n",
    "# gp_amp_filename = '../../data/TEOBv4_20hz/gp_spline_amp_corners_lhd.hdf5'\n",
    "# gp_phase_filename = '../../data/TEOBv4_20hz/gp_spline_phase_corners_lhd.hdf5'\n",
    "# sur = surrogate.GPSplineSurrogate.load(nodes_filename, gp_amp_filename, gp_phase_filename, order=3, npoints=10000)\n",
    "\n",
    "# nodes_filename = '../../data/TEOBv4_20hz/nodes_lhd_uncsamp.hdf5'\n",
    "# gp_amp_filename = '../../data/TEOBv4_20hz/gp_spline_amp_lhd_uncsamp.hdf5'\n",
    "# gp_phase_filename = '../../data/TEOBv4_20hz/gp_spline_phase_lhd_uncsamp.hdf5'\n",
    "# sur = surrogate.GPSplineSurrogate.load(nodes_filename, gp_amp_filename, gp_phase_filename, order=3, npoints=10000)\n",
    "\n",
    "nodes_filename = '../../data/TEOBv4_20hz/nodes_lhd_uncsamp_rand.hdf5'\n",
    "gp_amp_filename = '../../data/TEOBv4_20hz/gp_spline_amp_lhd_uncsamp_rand.hdf5'\n",
    "gp_phase_filename = '../../data/TEOBv4_20hz/gp_spline_phase_lhd_uncsamp_rand.hdf5'\n",
    "sur = surrogate.GPSplineSurrogate.load(nodes_filename, gp_amp_filename, gp_phase_filename, order=3, npoints=10000)"
   ]
  },
  {
   "cell_type": "code",
   "execution_count": 8,
   "metadata": {
    "collapsed": false,
    "deletable": true,
    "editable": true
   },
   "outputs": [
    {
     "name": "stdout",
     "output_type": "stream",
     "text": [
      "1.39600526984e-08\n",
      "4.17487390696e-05 4.05352113715e-05 0.0290674095838 1.21352769814e-06\n",
      "1.55035513171e-08\n",
      "3.67810267562e-05 3.54895069352e-05 0.0351137511608 1.29151982096e-06\n",
      "1.82730542679e-08\n",
      "2.4008448531e-05 2.42074042498e-05 0.00828690444117 1.98955718757e-07\n",
      "2.16124100206e-08\n",
      "5.33448905858e-06 6.37387147773e-06 0.194841981629 1.03938241915e-06\n",
      "2.55287288235e-08\n",
      "-2.13503939751e-05 -2.15834811566e-05 0.0109172309307 2.33087181487e-07\n",
      "3.01173964908e-08\n",
      "-5.83986928766e-05 -6.68643463122e-05 0.144963063703 8.46565343565e-06\n",
      "3.57215692049e-08\n",
      "-0.000109408364918 -0.000109635626462 0.0020771861819 2.27261543792e-07\n",
      "4.2322391786e-08\n",
      "-0.000178969262105 -0.000179065543033 0.00053797465849 9.62809276611e-08\n",
      "5.02496463388e-08\n",
      "-0.000270962557051 -0.000270918033489 0.000164316289146 4.45235618721e-08\n",
      "5.97939296131e-08\n",
      "-0.000392716507345 -0.000392671397579 0.000114865977454 4.51097654786e-08\n",
      "7.13092644237e-08\n",
      "-0.000552732363941 -0.000552418991637 0.000566951249113 3.13372304162e-07\n",
      "8.52627682315e-08\n",
      "-0.000762340533882 -0.000761842100594 0.000653819738127 4.98433288226e-07\n",
      "1.02250378055e-07\n",
      "-0.00103532568389 -0.00103437853735 0.000914829554839 9.47146534503e-07\n",
      "1.23040611756e-07\n",
      "-0.0013930076808 -0.00139293408717 5.28307451956e-05 7.35936338397e-08\n",
      "1.48833009428e-07\n",
      "-0.00185684790548 -0.00185396516481 0.00155249153947 2.88274066335e-06\n",
      "1.81176887267e-07\n",
      "-0.00246848281043 -0.00246898901034 0.000205065198566 5.06199917677e-07\n",
      "2.21976803965e-07\n",
      "-0.00326574230816 -0.0032665910702 0.00025989865652 8.4876203843e-07\n",
      "2.76081373679e-07\n",
      "-0.00433118811599 -0.00433484556264 0.000844444191918 3.65744664865e-06\n",
      "8.43748014267e-06\n",
      "-0.00576609098774 -0.00576956894363 0.000603173952454 3.47795589128e-06\n",
      "2.51925492653e-05\n",
      "-0.00771675265801 -0.00771766723884 0.000118518873193 9.14580829736e-07\n",
      "6.92622187653e-05\n",
      "-0.0104109862518 -0.0104109370874 4.72235790405e-06 4.91644032152e-08\n",
      "6.44501078882e-05\n",
      "-0.0143781147629 -0.0143783768384 1.82273899108e-05 2.62075503965e-07\n",
      "6.07844616331e-05\n",
      "-0.0201738549826 -0.0201733165868 2.66877987695e-05 5.38395782179e-07\n",
      "3.21383747712e-06\n",
      "-0.0294155614054 -0.0294148812673 2.31217104453e-05 6.80138093401e-07\n",
      "2.65464985786e-05\n",
      "-0.0451717933488 -0.0451712324597 1.24167992122e-05 5.60889088064e-07\n",
      "1.31750076649e-05\n",
      "-0.0741503878968 -0.0741502671981 1.62775522417e-06 1.20698681272e-07\n",
      "0.00132933851138\n",
      "-0.14177324951 -0.141773250974 1.0329872735e-08 1.46449963268e-09\n",
      "0.00478549803213\n",
      "-0.291352248431 -0.291352251603 1.0887148294e-08 3.17199511102e-09\n",
      "0.0102721841943\n",
      "-0.464475505398 -0.464475507381 4.26946256127e-09 1.98306082666e-09\n",
      "0.0180653621151\n",
      "-0.603378021141 -0.60337802234 1.98756655578e-09 1.19925402942e-09\n",
      "0.027602030808\n",
      "-0.713544066647 -0.713544067225 8.10217670733e-10 5.78125991524e-10\n",
      "0.0382649732107\n",
      "-0.846991900143 -0.846991900219 8.94435636667e-11 7.57580664867e-11\n",
      "0.0499596603209\n",
      "-1.07166002907 -1.07166002897 9.14450737355e-11 9.7998054116e-11\n",
      "0.061999170147\n",
      "-1.44945387899 -1.44945387894 3.1530555944e-11 4.57021087641e-11\n",
      "0.0747278900842\n",
      "-2.02818039463 -2.02818039461 1.10985665103e-11 2.25099938689e-11\n",
      "0.0862126695618\n",
      "-2.85252313272 -2.85252313269 1.24944499191e-11 3.56408236257e-11\n",
      "0.0970916952144\n",
      "-4.04175774589 -4.0417577457 4.68367566953e-11 1.89302795661e-10\n",
      "0.145593482371\n",
      "-5.78475625004 -5.78475625025 3.62214702676e-11 2.09531947348e-10\n",
      "0.230179442446\n",
      "-6.70596534211 -6.70596534189 3.34654526313e-11 2.24417817662e-10\n",
      "0.279425442234\n",
      "-7.06856428551 -7.06856428554 4.98978636188e-12 3.52713414031e-11\n"
     ]
    }
   ],
   "source": [
    "# Is there an alpha = 1.0e-10 term that in the scikit-learn version?\n",
    "\n",
    "#Random point:\n",
    "x = np.array([0.8, 0.2, 0.1, 1000, 2000])\n",
    "\n",
    "# Point exactly in training set:\n",
    "#x = np.array([1.0, 0.5, 0.5, 0.0, 0.0])\n",
    "\n",
    "for i in range(len(sur.damp_gp_list)):\n",
    "    gp = sur.damp_gp_list[i]\n",
    "    gp.alpha = 0.0\n",
    "    #gp.alpha_ *= 0.0\n",
    "    #gp = sur.dphase_gp_list[0]\n",
    "    hyperparams, x_train, Kinv_dot_y = extract_data_from_scikit_learn(gp)\n",
    "\n",
    "    a = gp.predict(np.atleast_2d(x))[0]\n",
    "    b = gp_predict(x, hyperparams, x_train, Kinv_dot_y)\n",
    "\n",
    "    sigma_n = hyperparams[-1]\n",
    "    print sigma_n\n",
    "    print a, b, np.abs(b/a-1.), np.abs(b-a)"
   ]
  },
  {
   "cell_type": "code",
   "execution_count": 59,
   "metadata": {
    "collapsed": false,
    "deletable": true,
    "editable": true
   },
   "outputs": [
    {
     "data": {
      "text/plain": [
       "(0.0,\n",
       " array([ 0.008289,  1.056433, -2.037547, -0.146928, -0.250674,  0.198302,  1.386065, -0.482063,  1.354522,\n",
       "         0.985686,  1.203306, -0.272722,  0.80703 ,  0.189341, -1.02601 , -0.652048,  2.641279,  0.967909,\n",
       "         0.855306,  0.942681,  1.803817, -0.599145, -0.767567, -2.05593 ,  0.848163, -1.188955, -0.769386,\n",
       "        -2.349791,  1.150535,  0.580535,  0.888147,  3.0479  ,  1.479267, -0.979917, -1.364467, -1.082161,\n",
       "        -0.150424, -1.554823,  0.014291,  0.881482,  0.008576,  2.185979, -2.153663,  0.605395, -2.087776,\n",
       "        -2.839429, -1.635372, -0.421846,  0.721603,  1.123598,  0.223683,  1.947749,  1.766341,  0.247211,\n",
       "        -3.929996,  0.445216,  1.274742,  0.832831,  1.032034, -0.784586, -1.435076, -1.108991,  0.834153,\n",
       "        -0.650453,  0.366962, -0.490938,  0.626358,  2.609278,  0.989507,  0.732702,  0.610112, -2.25056 ,\n",
       "         0.304925, -0.37478 , -1.895059, -0.722218,  0.551543, -1.277697, -1.178906, -0.864252,  0.588309,\n",
       "        -0.171976, -0.799866, -1.39546 ,  1.419395, -2.370098,  2.966624, -1.367835, -5.425471,  2.417413,\n",
       "         1.241747, -0.0257  , -0.898529, -0.553472, -2.667651, -0.81521 , -0.134137,  0.742096,  0.434662,\n",
       "        -3.166385,  3.444563,  1.382843,  0.626611,  0.853015, -0.96894 ,  0.460008,  2.245932, -0.093974,\n",
       "        -0.167026, -1.185581, -4.779266,  2.009816, -1.678318,  1.549714, -1.505678,  0.725115, -1.579932,\n",
       "        -0.370377, -2.573458, -0.728739,  1.500495,  2.527831,  1.064114, -1.318605, -0.838216, -0.020344,\n",
       "        -0.789469, -1.445282, -0.34505 ,  1.782562,  0.499748,  1.866026,  0.307121, -0.56043 , -0.89388 ,\n",
       "         0.02945 , -0.641607,  2.669643,  0.274127,  0.78083 , -0.913376, -4.416811,  0.58983 ,  4.339256,\n",
       "         1.257327,  0.118975, -1.085435,  0.756105,  1.123237, -0.088972,  0.635651, -0.803324,  1.450562,\n",
       "         0.208408,  0.770419,  0.260745,  1.107003,  0.340352, -0.258268]))"
      ]
     },
     "execution_count": 59,
     "metadata": {},
     "output_type": "execute_result"
    }
   ],
   "source": [
    "gp.alpha, gp.alpha_"
   ]
  },
  {
   "cell_type": "markdown",
   "metadata": {
    "deletable": true,
    "editable": true
   },
   "source": [
    "# Generate hdf5 file for lalsuite version"
   ]
  },
  {
   "cell_type": "code",
   "execution_count": 10,
   "metadata": {
    "collapsed": true,
    "deletable": true,
    "editable": true
   },
   "outputs": [],
   "source": [
    "def lalsuite_spline_surrogate_format(filename, sur):\n",
    "    \"\"\"Write data to an hdf5 file format that can be read by the \n",
    "    lalsuite version of the code.\n",
    "    \"\"\"\n",
    "    f = h5py.File(filename, libver='latest')\n",
    "    \n",
    "    namp = len(sur.damp_gp_list)\n",
    "    nphase = len(sur.dphase_gp_list)\n",
    "    \n",
    "    f.attrs['description'] = \\\n",
    "'''\n",
    "********************************************************************************\n",
    "Data for the SEOBv4T_surrogate waveform (aligned-spin BNS with tidal interactions).\n",
    "\n",
    "See B. Lackey, M. Puerrer, A. Taracchini. arXiv:xxxx.xxxx.\n",
    "\n",
    "Parameter ranges:\n",
    "* 1/3 <= q <= 1\n",
    "* -0.5 <= spin_1z <= 0.5\n",
    "* -0.5 <= spin_2z <= 0.5\n",
    "* 0 <= lambda_1 <= 5000\n",
    "* 0 <= lambda_2 <= 5000\n",
    "\n",
    "This surrogate was built using the SEOBv4T waveform.\n",
    "\n",
    "The first spline node for dphase is not listed since it is the same as the first\n",
    "node for damp, and dphase = 0 for the first node.\n",
    "\n",
    "The hyperparameters for the Gaussian process regression associated with each \n",
    "basis function are listed in the order\n",
    "[sigma_f, l_q, l_spin1z, l_spin2z, l_lambda1, l_lambda2, sigma_n]\n",
    "where sigma_f is approximately the function range, sigma_n is the noise/tolerance, \n",
    "and l_i is the correlation length scale for the parameter i.\n",
    "********************************************************************************\n",
    "'''\n",
    "    # Bounds\n",
    "    f['q_bounds'] = np.array([1./3., 1])\n",
    "    f['chi1_bounds'] = np.array([-0.5, 0.5])\n",
    "    f['chi2_bounds'] = np.array([-0.5, 0.5])\n",
    "    f['lambda1_bounds'] = np.array([0, 5000])\n",
    "    f['lambda2_bounds'] = np.array([0, 5000])\n",
    "\n",
    "    # Nodes for splines.\n",
    "    f['spline_nodes_amp'] = sur.mf_amp\n",
    "    f['spline_nodes_phase'] = sur.mf_phase\n",
    "    \n",
    "    print f['spline_nodes_amp'][:].shape\n",
    "    print f['spline_nodes_phase'][:].shape\n",
    "    \n",
    "    # Training set samples.\n",
    "    # They are the same for all basis functions so pick amp_0\n",
    "    gp = sur.damp_gp_list[0]\n",
    "    x_train = gp.X_train_\n",
    "    f['x_train'] = x_train\n",
    "    \n",
    "    print 'Writing amplitude bases...'\n",
    "    hyp_amp = []\n",
    "    kinv_dot_y_amp = []\n",
    "    for i in range(namp):\n",
    "        print i, \n",
    "        gp = sur.damp_gp_list[i]\n",
    "        hyperparameters, x_train, kinv_dot_y = extract_data_from_scikit_learn(gp)\n",
    "        hyp_amp.append(hyperparameters)\n",
    "        kinv_dot_y_amp.append(kinv_dot_y)\n",
    "    \n",
    "    f['hyp_amp'] = np.array(hyp_amp)\n",
    "    f['kinv_dot_y_amp'] = np.array(kinv_dot_y_amp)\n",
    "    \n",
    "    print f['hyp_amp'][:].shape\n",
    "    print f['kinv_dot_y_amp'][:].shape\n",
    "    \n",
    "    \n",
    "    print '\\nWriting phase bases...'\n",
    "    hyp_phase = []\n",
    "    kinv_dot_y_phase = []\n",
    "    for i in range(nphase):\n",
    "        print i, \n",
    "        gp = sur.dphase_gp_list[i]\n",
    "        hyperparameters, x_train, kinv_dot_y = extract_data_from_scikit_learn(gp)\n",
    "        hyp_phase.append(hyperparameters)\n",
    "        kinv_dot_y_phase.append(kinv_dot_y)\n",
    "    \n",
    "    f['hyp_phi'] = np.array(hyp_phase)\n",
    "    f['kinv_dot_y_phi'] = np.array(kinv_dot_y_phase)\n",
    "    \n",
    "    print f['hyp_phi'][:].shape\n",
    "    print f['kinv_dot_y_phi'][:].shape\n",
    "    \n",
    "    f.close()"
   ]
  },
  {
   "cell_type": "code",
   "execution_count": 11,
   "metadata": {
    "collapsed": false,
    "deletable": true,
    "editable": true
   },
   "outputs": [
    {
     "name": "stdout",
     "output_type": "stream",
     "text": [
      "(40,)\n",
      "(39,)\n",
      "Writing amplitude bases...\n",
      "0 1 2 3 4 5 6 7 8 9 10 11 12 13 14 15 16 17 18 19 20 21 22 23 24 25 26 27 28 29 30 31 32 33 34 35 36 37 38 39 (40, 7)\n",
      "(40, 1359)\n",
      "\n",
      "Writing phase bases...\n",
      "0 1 2 3 4 5 6 7 8 9 10 11 12 13 14 15 16 17 18 19 20 21 22 23 24 25 26 27 28 29 30 31 32 33 34 35 36 37 38 (39, 7)\n",
      "(39, 1359)\n"
     ]
    }
   ],
   "source": [
    "filename = '../../data/TEOBv4_20hz/TEOBv4_surrogate.hdf5'\n",
    "lalsuite_spline_surrogate_format(filename, sur)"
   ]
  },
  {
   "cell_type": "markdown",
   "metadata": {
    "deletable": true,
    "editable": true
   },
   "source": [
    "## Testing"
   ]
  },
  {
   "cell_type": "code",
   "execution_count": 19,
   "metadata": {
    "collapsed": false
   },
   "outputs": [
    {
     "name": "stdout",
     "output_type": "stream",
     "text": [
      "HDF5 \"../../data/TEOBv4_20hz/TEOBv4_surrogate.hdf5\" {\n",
      "ATTRIBUTE \"description\" {\n",
      "   DATATYPE  H5T_STRING {\n",
      "      STRSIZE H5T_VARIABLE;\n",
      "      STRPAD H5T_STR_NULLTERM;\n",
      "      CSET H5T_CSET_ASCII;\n",
      "      CTYPE H5T_C_S1;\n",
      "   }\n",
      "   DATASPACE  SCALAR\n",
      "   DATA {\n",
      "   (0): \"\n",
      "           ********************************************************************************\n",
      "           Data for the SEOBv4T_surrogate waveform (aligned-spin BNS with tidal interactions).\n",
      "           \n",
      "           See B. Lackey, M. Puerrer, A. Taracchini. arXiv:xxxx.xxxx.\n",
      "           \n",
      "           Parameter ranges:\n",
      "           * 1/3 <= q <= 1\n",
      "           * -0.5 <= spin_1z <= 0.5\n",
      "           * -0.5 <= spin_2z <= 0.5\n",
      "           * 0 <= lambda_1 <= 5000\n",
      "           * 0 <= lambda_2 <= 5000\n",
      "           \n",
      "           This surrogate was built using the SEOBv4T waveform.\n",
      "           \n",
      "           The first spline node for dphase is not listed since it is the same as the first\n",
      "           node for damp, and dphase = 0 for the first node.\n",
      "           \n",
      "           The hyperparameters for the Gaussian process regression associated with each \n",
      "           basis function are listed in the order\n",
      "           [sigma_f, l_q, l_spin1z, l_spin2z, l_lambda1, l_lambda2, sigma_n]\n",
      "           where sigma_f is approximately the function range, sigma_n is the noise/tolerance, \n",
      "           and l_i is the correlation length scale for the parameter i.\n",
      "           ********************************************************************************\n",
      "           \"\n",
      "   }\n",
      "}\n",
      "}\n"
     ]
    }
   ],
   "source": [
    "%%bash\n",
    "#h5ls ../../data/TEOBv4_20hz/TEOBv4_surrogate.hdf5\n",
    "#h5dump -n 1 ../../data/TEOBv4_20hz/TEOBv4_surrogate.hdf5\n",
    "h5dump -a description ../../data/TEOBv4_20hz/TEOBv4_surrogate.hdf5"
   ]
  },
  {
   "cell_type": "code",
   "execution_count": 20,
   "metadata": {
    "collapsed": true,
    "deletable": true,
    "editable": true
   },
   "outputs": [],
   "source": [
    "f = h5py.File(filename, libver='latest')"
   ]
  },
  {
   "cell_type": "code",
   "execution_count": 21,
   "metadata": {
    "collapsed": false,
    "deletable": true,
    "editable": true
   },
   "outputs": [
    {
     "name": "stdout",
     "output_type": "stream",
     "text": [
      "\n",
      "********************************************************************************\n",
      "Data for the SEOBv4T_surrogate waveform (aligned-spin BNS with tidal interactions).\n",
      "\n",
      "See B. Lackey, M. Puerrer, A. Taracchini. arXiv:xxxx.xxxx.\n",
      "\n",
      "Parameter ranges:\n",
      "* 1/3 <= q <= 1\n",
      "* -0.5 <= spin_1z <= 0.5\n",
      "* -0.5 <= spin_2z <= 0.5\n",
      "* 0 <= lambda_1 <= 5000\n",
      "* 0 <= lambda_2 <= 5000\n",
      "\n",
      "This surrogate was built using the SEOBv4T waveform.\n",
      "\n",
      "The first spline node for dphase is not listed since it is the same as the first\n",
      "node for damp, and dphase = 0 for the first node.\n",
      "\n",
      "The hyperparameters for the Gaussian process regression associated with each \n",
      "basis function are listed in the order\n",
      "[sigma_f, l_q, l_spin1z, l_spin2z, l_lambda1, l_lambda2, sigma_n]\n",
      "where sigma_f is approximately the function range, sigma_n is the noise/tolerance, \n",
      "and l_i is the correlation length scale for the parameter i.\n",
      "********************************************************************************\n",
      "\n",
      "[ 0.333333  1.      ]\n",
      "[-0.5  0.5]\n",
      "[-0.5  0.5]\n",
      "[   0 5000]\n",
      "[   0 5000]\n",
      "[ 0.00021   0.000244  0.000283  0.000328  0.000381  0.000442  0.000513  0.000596  0.000691  0.000802  0.000931\n",
      "  0.001081  0.001255  0.001456  0.00169   0.001961  0.002276  0.002642  0.003066  0.003559  0.004131  0.004794\n",
      "  0.005564  0.006458  0.007495  0.008699  0.010096  0.011717  0.013599  0.015784  0.018319  0.021261  0.024676\n",
      "  0.028639  0.033239  0.038578  0.044774  0.051966  0.060313  0.07    ]\n",
      "[ 0.000244  0.000283  0.000328  0.000381  0.000442  0.000513  0.000596  0.000691  0.000802  0.000931  0.001081\n",
      "  0.001255  0.001456  0.00169   0.001961  0.002276  0.002642  0.003066  0.003559  0.004131  0.004794  0.005564\n",
      "  0.006458  0.007495  0.008699  0.010096  0.011717  0.013599  0.015784  0.018319  0.021261  0.024676  0.028639\n",
      "  0.033239  0.038578  0.044774  0.051966  0.060313  0.07    ]\n",
      "(1359, 5)\n"
     ]
    }
   ],
   "source": [
    "print f.attrs['description']\n",
    "\n",
    "print f['q_bounds'][:]\n",
    "print f['chi1_bounds'][:]\n",
    "print f['chi2_bounds'][:]\n",
    "print f['lambda1_bounds'][:]\n",
    "print f['lambda2_bounds'][:]\n",
    "\n",
    "print f['spline_nodes_amp'][:]\n",
    "print f['spline_nodes_phase'][:]\n",
    "\n",
    "print f['x_train'][:].shape"
   ]
  },
  {
   "cell_type": "code",
   "execution_count": 22,
   "metadata": {
    "collapsed": false,
    "deletable": true,
    "editable": true,
    "scrolled": false
   },
   "outputs": [
    {
     "name": "stdout",
     "output_type": "stream",
     "text": [
      "[  6.236191e-04   1.854436e+00   3.077079e+00   4.000000e+00   2.000000e+04   2.000000e+04   1.396005e-08]\n",
      "[   -9237.984232  -432517.868687    37850.550026 ...,  2009254.419591     9229.109326 -3469788.888714]\n"
     ]
    }
   ],
   "source": [
    "print f['hyp_amp'][:][0]\n",
    "print f['kinv_dot_y_amp'][:][0]"
   ]
  },
  {
   "cell_type": "code",
   "execution_count": 23,
   "metadata": {
    "collapsed": false,
    "deletable": true,
    "editable": true
   },
   "outputs": [
    {
     "name": "stdout",
     "output_type": "stream",
     "text": [
      "[  1.246456e-03   1.343055e+00   1.719549e+00   4.496720e+00   2.568418e+04   3.825357e+04   1.317036e-05]\n",
      "[-242294.309457  -47355.85651    -5914.167241 ...,  -94156.743107   50209.286479  -70055.693666]\n"
     ]
    }
   ],
   "source": [
    "print f['hyp_phi'][:][0]\n",
    "print f['kinv_dot_y_phi'][:][0]"
   ]
  },
  {
   "cell_type": "code",
   "execution_count": 24,
   "metadata": {
    "collapsed": true,
    "deletable": true,
    "editable": true
   },
   "outputs": [],
   "source": [
    "f.close()"
   ]
  },
  {
   "cell_type": "markdown",
   "metadata": {
    "collapsed": true,
    "deletable": true,
    "editable": true
   },
   "source": [
    "# Compare TaylorF2 to lalsimulation version"
   ]
  },
  {
   "cell_type": "code",
   "execution_count": 52,
   "metadata": {
    "collapsed": true
   },
   "outputs": [],
   "source": [
    "import lal\n",
    "import lalsimulation"
   ]
  },
  {
   "cell_type": "code",
   "execution_count": 53,
   "metadata": {
    "collapsed": true
   },
   "outputs": [],
   "source": [
    "# Note: these functions are not callable outside this source file, even though they are XLAL\n",
    "# Therefore I reimplement them here.\n",
    "# See LALSimInspiralPNCoefficients.c\n",
    "\n",
    "def XLALSimInspiralTaylorF2Phasing_10PNTidalCoeff(mByM):\n",
    "    return (-288. + 264.*mByM)*mByM*mByM*mByM*mByM;\n",
    "\n",
    "def XLALSimInspiralTaylorF2Phasing_12PNTidalCoeff(mByM):\n",
    "    return (-15895./28. + 4595./28.*mByM + 5715./14.*mByM*mByM - 325./7.*mByM*mByM*mByM)*mByM*mByM*mByM*mByM;"
   ]
  },
  {
   "cell_type": "code",
   "execution_count": 57,
   "metadata": {
    "collapsed": false
   },
   "outputs": [],
   "source": [
    "def pn_phase_lal(mfs, eta, chi1, chi2, lambda1, lambda2):\n",
    "    \"\"\"Copying the LALSimulation way of calculating phase array.\n",
    "    \"\"\"\n",
    "    d = np.sqrt(1.0-4.0*eta)\n",
    "    X1 = 0.5*(1.0+d)\n",
    "    X2 = 0.5*(1.0-d)\n",
    "    \n",
    "    # Fake masses\n",
    "    mtot = 2.0\n",
    "    m1 = X1*mtot\n",
    "    m2 = X2*mtot\n",
    "    \n",
    "    # Specify PN order for spin terms\n",
    "    extraParams = lal.CreateDict()\n",
    "    lalsimulation.SimInspiralWaveformParamsInsertPNSpinOrder(\n",
    "        extraParams, lalsimulation.SIM_INSPIRAL_SPIN_ORDER_35PN)\n",
    "   \n",
    "    # Calculate coefficients of each power of v\n",
    "    pn = lalsimulation.SimInspiralTaylorF2AlignedPhasing(\n",
    "        m1*lal.MSUN_SI, m2*lal.MSUN_SI, chi1, chi2, extraParams)\n",
    "    #print pn.v\n",
    "    \n",
    "    # Manually add the tidal parameters\n",
    "    \n",
    "    pn.v[10] = pn.v[0]*(lambda1*XLALSimInspiralTaylorF2Phasing_10PNTidalCoeff(X1)\n",
    "                        + lambda2*XLALSimInspiralTaylorF2Phasing_10PNTidalCoeff(X2))\n",
    "    pn.v[12] = pn.v[0]*(lambda1*XLALSimInspiralTaylorF2Phasing_12PNTidalCoeff(X1)\n",
    "                        + lambda2*XLALSimInspiralTaylorF2Phasing_12PNTidalCoeff(X2))\n",
    "    \n",
    "    #print pn.v[0]\n",
    "    #print pn.v/pn.v[0]\n",
    "    #print pn.vlogv/pn.v[0]/2\n",
    "    #print pn.v[10]/pn.v[0], pn.v[12]/pn.v[0]\n",
    "    \n",
    "    phases = []\n",
    "    for mf in mfs:\n",
    "        v = (lal.PI * mf)**(1.0/3.0)\n",
    "        logv = log(v)\n",
    "    \n",
    "        v2 = v * v;\n",
    "        v3 = v * v2;\n",
    "        v4 = v * v3;\n",
    "        v5 = v * v4;\n",
    "        v6 = v * v5;\n",
    "        v7 = v * v6;\n",
    "        v8 = v * v7;\n",
    "        v9 = v * v8;\n",
    "        v10 = v * v9;\n",
    "        v12 = v2 * v10;\n",
    "        phasing = 0.0;\n",
    "        \n",
    "        phasing += pn.v[7] * v7;\n",
    "        phasing += (pn.v[6] + pn.vlogv[6] * logv) * v6;\n",
    "        phasing += (pn.v[5] + pn.vlogv[5] * logv) * v5;\n",
    "        phasing += pn.v[4] * v4;\n",
    "        phasing += pn.v[3] * v3;\n",
    "        phasing += pn.v[2] * v2;\n",
    "        phasing += pn.v[1] * v;\n",
    "        phasing += pn.v[0];\n",
    "        \n",
    "        # Tidal terms in phasing\n",
    "        phasing += pn.v[12] * v12;\n",
    "        phasing += pn.v[10] * v10;\n",
    "        \n",
    "        phasing /= v5;\n",
    "        phases.append(phasing)\n",
    "    \n",
    "    return np.array(phases)"
   ]
  },
  {
   "cell_type": "code",
   "execution_count": 58,
   "metadata": {
    "collapsed": false
   },
   "outputs": [
    {
     "name": "stdout",
     "output_type": "stream",
     "text": [
      "[ 0.0001  0.001   0.01    0.1   ]\n",
      "0.24 0.666666666667 0.5 0.2 2000.0 5000.0\n",
      "[  6.846127e+04   1.475417e+03  -1.521098e+01  -1.788523e+03]\n",
      "[  6.846127e+04   1.475417e+03  -1.521098e+01  -1.788523e+03]\n",
      "[ -1.455192e-11  -4.547474e-13  -1.776357e-15   4.547474e-13]\n"
     ]
    }
   ],
   "source": [
    "#x = np.array([1.0/1.5, 0.35, 0.32, 1.0, 1.0])\n",
    "#x = np.array([1.0/1.5, 0.35, 0.32, 5000.0, 5000.0])\n",
    "#x = np.array([1.0/1.5, 0, 0, 0, 0])\n",
    "#x = np.array([1.0/1.5, 0.3, -0.5, 0, 0])\n",
    "x = np.array([1.0/1.5, 0.5, 0.2, 2000, 5000])\n",
    "\n",
    "q = x[0]\n",
    "chi1 = x[1]\n",
    "chi2 = x[2]\n",
    "lambda1 = x[3]\n",
    "lambda2 = x[4]\n",
    "\n",
    "mf = np.logspace(-4, -1, 4)\n",
    "tbymc = 0\n",
    "phic = 0\n",
    "eta = q/(1.0+q)**2\n",
    "\n",
    "print mf\n",
    "print eta, q, chi1, chi2, lambda1, lambda2\n",
    "\n",
    "lal_phase = pn_phase_lal(mf, eta, chi1, chi2, lambda1, lambda2)\n",
    "ben_phase = -f2.taylorf2_phase(mf, tbymc, phic, eta, chi1, chi2, lambda1, lambda2)+np.pi/4\n",
    "\n",
    "print lal_phase\n",
    "print ben_phase\n",
    "print lal_phase - ben_phase"
   ]
  },
  {
   "cell_type": "code",
   "execution_count": null,
   "metadata": {
    "collapsed": true
   },
   "outputs": [],
   "source": []
  },
  {
   "cell_type": "code",
   "execution_count": null,
   "metadata": {
    "collapsed": true
   },
   "outputs": [],
   "source": []
  },
  {
   "cell_type": "code",
   "execution_count": null,
   "metadata": {
    "collapsed": true
   },
   "outputs": [],
   "source": []
  },
  {
   "cell_type": "code",
   "execution_count": null,
   "metadata": {
    "collapsed": true
   },
   "outputs": [],
   "source": []
  }
 ],
 "metadata": {
  "kernelspec": {
   "display_name": "Python 2",
   "language": "python",
   "name": "python2"
  },
  "language_info": {
   "codemirror_mode": {
    "name": "ipython",
    "version": 2
   },
   "file_extension": ".py",
   "mimetype": "text/x-python",
   "name": "python",
   "nbconvert_exporter": "python",
   "pygments_lexer": "ipython2",
   "version": "2.7.13"
  }
 },
 "nbformat": 4,
 "nbformat_minor": 1
}
