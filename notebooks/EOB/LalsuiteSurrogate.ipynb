{
 "cells": [
  {
   "cell_type": "markdown",
   "metadata": {},
   "source": [
    "Check all hdf5 groups and attributes with:\n",
    "\n",
    "h5dump -n 1 lalsuitetest.hdf5\n",
    "\n",
    "This prints the description attribute:\n",
    "\n",
    "h5dump -a description lalsuitetest.hdf5 "
   ]
  },
  {
   "cell_type": "code",
   "execution_count": null,
   "metadata": {
    "collapsed": true,
    "deletable": true,
    "editable": true
   },
   "outputs": [],
   "source": [
    "%pylab inline\n",
    "\n",
    "import numpy as np\n",
    "import matplotlib.pyplot as plt\n",
    "from mpl_toolkits.mplot3d import Axes3D\n",
    "\n",
    "np.set_printoptions(precision=6, linewidth=110)"
   ]
  },
  {
   "cell_type": "code",
   "execution_count": 48,
   "metadata": {
    "collapsed": true
   },
   "outputs": [],
   "source": [
    "import h5py"
   ]
  },
  {
   "cell_type": "code",
   "execution_count": 2,
   "metadata": {
    "collapsed": false,
    "deletable": true,
    "editable": true
   },
   "outputs": [
    {
     "name": "stdout",
     "output_type": "stream",
     "text": [
      "\n"
     ]
    }
   ],
   "source": [
    "sys.path.insert(0, '../../src')\n",
    "\n",
    "import waveform as wave\n",
    "import waveformset as ws\n",
    "import trainingset as train\n",
    "import taylorf2 as f2\n",
    "import gaussianprocessregression as gpr\n",
    "import designofexperiment as doe\n",
    "import lalwaveform\n",
    "import plotparams\n",
    "import greedy\n",
    "import empiricalinterpolation as eim\n",
    "import surrogate\n",
    "import diagnostics\n",
    "import uncertaintysampling as us\n",
    "\n",
    "import imp\n",
    "imp.reload(wave)\n",
    "imp.reload(ws)\n",
    "imp.reload(train)\n",
    "imp.reload(f2)\n",
    "imp.reload(gpr)\n",
    "imp.reload(doe)\n",
    "imp.reload(lalwaveform)\n",
    "imp.reload(greedy)\n",
    "imp.reload(eim)\n",
    "imp.reload(surrogate)\n",
    "imp.reload(diagnostics)\n",
    "imp.reload(us)\n",
    "\n",
    "import constants\n",
    "imp.reload(constants)\n",
    "from constants import *"
   ]
  },
  {
   "cell_type": "markdown",
   "metadata": {
    "deletable": true,
    "editable": true
   },
   "source": [
    "# Construct surrogate in way that can be directly converted to lalsuite code"
   ]
  },
  {
   "cell_type": "code",
   "execution_count": 42,
   "metadata": {
    "collapsed": true
   },
   "outputs": [],
   "source": [
    "def kernel(x1, x2, hyperparams):\n",
    "    \"\"\"Matern covariance function for n-dimensional data.\n",
    "    \n",
    "    Parameters\n",
    "    ----------\n",
    "    x1 : array with shape ndim\n",
    "    x2 : array with shape ndim\n",
    "    hyperparams : array with shape ndim+2 [sigma_f, ls0, ls1, ..., sigma_n]\n",
    "        sigma_f : Approximately the range (ymax-ymin) of values that the data takes.\n",
    "            sigma_f^2 called the signal variance.\n",
    "        sigma_n : Noise term. The uncertainty in the y values of the data.\n",
    "        lsi : Length scales for the variation in dimension i.\n",
    "    \n",
    "    Returns\n",
    "    -------\n",
    "    covariance : float\n",
    "    \"\"\"\n",
    "    sigma_f = hyperparams[0]\n",
    "    sigma_n = hyperparams[-1]\n",
    "    ls = hyperparams[1:-1]\n",
    "    ndim = len(ls)\n",
    "    \n",
    "    # Noise nugget for diagonal elements\n",
    "    if np.array_equal(x1, x2):\n",
    "        nugget = sigma_n**2\n",
    "    else:\n",
    "        nugget = 0.0\n",
    "    \n",
    "    # r**2\n",
    "    rsq = np.sum(np.array([(x1[i]-x2[i])**2 / ls[i]**2 for i in range(ndim)]))\n",
    "    r = np.sqrt(rsq)\n",
    "    \n",
    "    # nu = 5/2 Matern covariance\n",
    "    matern = (1. + np.sqrt(5.)*r + 5.*r**2/3.) * np.exp(-np.sqrt(5.)*r)\n",
    "    \n",
    "    # Full covariance\n",
    "    # You must include the nugget to agree with scikit-learn when the points x1, x2 are exactly the same\n",
    "    return sigma_f**2 * matern + nugget"
   ]
  },
  {
   "cell_type": "code",
   "execution_count": 43,
   "metadata": {
    "collapsed": false
   },
   "outputs": [],
   "source": [
    "def gp_predict(xst, hyperparams, x_train, Kinv_dot_y):\n",
    "    \"\"\"Interpolate the function at the point xst using Gaussian process regression.\n",
    "    \n",
    "    Parameters\n",
    "    ----------\n",
    "    xst : array of shape ndim.\n",
    "        Point x_* where you want to evaluate the function.\n",
    "    hyperparams : array with shape ndim+2 [sigma_f, ls0, ls1, ..., sigma_n].\n",
    "        Hyperparameters for the GPR kernel.\n",
    "    x_train : array of shape (n_train, ndim).\n",
    "        Training set points.\n",
    "    Kinv_dot_y : array of shape n_train.\n",
    "        The interpolating weights at each training set point.\n",
    "    \n",
    "    Returns\n",
    "    -------\n",
    "    yst : float\n",
    "        Interpolated value at the point xst.\n",
    "    \"\"\"\n",
    "    # Evaluate vector K_*\n",
    "    Kst = np.array([kernel(xst, x, hyperparams) for x in x_train])\n",
    "\n",
    "    # Evaluate y_*\n",
    "    return np.dot(Kst, Kinv_dot_y)"
   ]
  },
  {
   "cell_type": "code",
   "execution_count": 44,
   "metadata": {
    "collapsed": true
   },
   "outputs": [],
   "source": [
    "def extract_data_from_scikit_learn(gp):\n",
    "    \"\"\"Extract the data in the scikit-learn GaussianProcessRegressor class \n",
    "    that you need for the lalsuite version.\n",
    "    \"\"\"\n",
    "    # hyperparams = np.array([sigma_f, lq, ls1, ls2, llam1, llam2, sigma_n])\n",
    "    hyperparams = gpr.get_hyperparameters(gp)\n",
    "    \n",
    "    # The training data\n",
    "    x_train = gp.X_train_\n",
    "    y_train = gp.y_train_\n",
    "    \n",
    "    # Evaluate K\n",
    "    K = np.array([[kernel(x1, x2, hyperparams) for x2 in x_train] for x1 in x_train])\n",
    "    \n",
    "    # Evaluate K^{-1}\n",
    "    Kinv = np.linalg.inv(K)\n",
    "    \n",
    "    # Evaluate (K^{-1})_{ij} y_j (array of length nparams).\n",
    "    Kinv_dot_y = np.dot(Kinv, y_train)\n",
    "    \n",
    "    return hyperparams, x_train, Kinv_dot_y"
   ]
  },
  {
   "cell_type": "markdown",
   "metadata": {},
   "source": [
    "# Load scikit-learn (python) version of surrogate"
   ]
  },
  {
   "cell_type": "code",
   "execution_count": 45,
   "metadata": {
    "collapsed": false,
    "deletable": true,
    "editable": true
   },
   "outputs": [],
   "source": [
    "Bamp_filename = '../../data/teobtest40hz/B_amp_corners_lhd.hdf5'\n",
    "Bphase_filename = '../../data/teobtest40hz/B_phase_corners_lhd.hdf5'\n",
    "gp_amp_filename = '../../data/teobtest40hz/gp_amp_corners_lhd.hdf5'\n",
    "gp_phase_filename = '../../data/teobtest40hz/gp_phase_corners_lhd.hdf5'\n",
    "sur = surrogate.GPSurrogate.load(Bamp_filename, Bphase_filename, gp_amp_filename, gp_phase_filename)\n",
    "\n",
    "# Bamp_filename = '../../data/teobtest40hz/B_amp_lhd_uncsamp.hdf5'\n",
    "# Bphase_filename = '../../data/teobtest40hz/B_phase_lhd_uncsamp.hdf5'\n",
    "# gp_amp_filename = '../../data/teobtest40hz/gp_amp_lhd_uncsamp.hdf5'\n",
    "# gp_phase_filename = '../../data/teobtest40hz/gp_phase_lhd_uncsamp.hdf5'\n",
    "# sur = surrogate.GPSurrogate.load(Bamp_filename, Bphase_filename, gp_amp_filename, gp_phase_filename)"
   ]
  },
  {
   "cell_type": "code",
   "execution_count": 46,
   "metadata": {
    "collapsed": false
   },
   "outputs": [
    {
     "name": "stdout",
     "output_type": "stream",
     "text": [
      "5.53723478181e-09\n",
      "6.42491049252e-09\n",
      "1.96401661601e-09\n",
      "5.68317459759e-09\n",
      "4.66294558521e-09\n",
      "2.28728636031e-09\n",
      "2.02868855048e-09\n",
      "2.36434094525e-10\n",
      "1.48636081221e-09\n",
      "2.49062059865e-09\n",
      "4.93199625584e-09\n",
      "1.76905234905e-09\n",
      "3.07067204997e-09\n",
      "1.08489428552e-09\n",
      "4.44460579452e-10\n",
      "2.02839578467e-09\n",
      "3.19912274449e-09\n",
      "3.97346355818e-09\n",
      "1.37696076763e-09\n",
      "3.79370002079e-09\n"
     ]
    }
   ],
   "source": [
    "#Random point:\n",
    "#x = np.array([0.8, 0.2, 0.1, 1000, 2000])\n",
    "\n",
    "# Point exactly in training set:\n",
    "x = np.array([3.333333e-01, -4.000000e-01, -4.000000e-01, 1.000000e-01, 1.000000e-01])\n",
    "\n",
    "for i in range(len(sur.dphase_gp_list)):\n",
    "    gp = sur.dphase_gp_list[i]\n",
    "    #gp = sur.dphase_gp_list[0]\n",
    "    hyperparams, x_train, Kinv_dot_y = extract_data_from_scikit_learn(gp)\n",
    "\n",
    "    a = gp.predict(np.atleast_2d(x))[0]\n",
    "    b = gp_predict(x, hyperparams, x_train, Kinv_dot_y)\n",
    "\n",
    "    #sigma_n = hyperparams[-1]\n",
    "    #print sigma_n\n",
    "    print np.abs(b/a-1.)"
   ]
  },
  {
   "cell_type": "markdown",
   "metadata": {},
   "source": [
    "# Generate hdf5 file for lalsuite version"
   ]
  },
  {
   "cell_type": "code",
   "execution_count": 139,
   "metadata": {
    "collapsed": false
   },
   "outputs": [],
   "source": [
    "def lalsuite_surrogate_format(filename, sur):\n",
    "    \"\"\"Write data to an hdf5 file format that can be read by the \n",
    "    lalsuite version of the code.\n",
    "    \"\"\"\n",
    "    f = h5py.File(filename, libver='latest')\n",
    "    \n",
    "    namp = len(sur.Bamp)\n",
    "    nphase = len(sur.Bphase)\n",
    "    \n",
    "    f.attrs['description'] = \\\n",
    "'''\n",
    "********************************************************************************\n",
    "Data for TEOBv4_ROM reduced order model (aligned-spin BNS with tidal interactions).\n",
    "\n",
    "See B. Lackey, et al. arXiv:xxxx.xxxx.\n",
    "\n",
    "Parameter ranges:\n",
    "* 1/3 <= q <= 1\n",
    "* -0.4 <= spin_1z <= 0.4\n",
    "* -0.4 <= spin_2z <= 0.4\n",
    "* 0.1 <= lambda_1 <= 3000\n",
    "* 0.1 <= lambda_2 <= 3000\n",
    "* flow >= xxHz\n",
    "\n",
    "This ROM was built using the TEOBv4 waveform.\n",
    "\n",
    "The hyperparameters for the Gaussian process regression associated with each \n",
    "basis function are listed in the order\n",
    "[sigma_f, l_q, l_spin1z, l_spin2z, l_lambda1, l_lambda2, sigma_n]\n",
    "where sigma_f is approximately the function range, sigma_n is the noise/tollerance, \n",
    "and l_i is the correlation length scale for the parameter i.\n",
    "********************************************************************************\n",
    "'''\n",
    "    \n",
    "    # Frequency samples\n",
    "    f['mf'] = sur.mf\n",
    "    \n",
    "    # Training set samples.\n",
    "    # They are the same for all basis functions so pick amp_0\n",
    "    gp = sur.damp_gp_list[0]\n",
    "    x_train = gp.X_train_\n",
    "    f['x_train'] = x_train\n",
    "    \n",
    "    print 'Writing amplitude bases...'\n",
    "    for i in range(namp):\n",
    "        print i,\n",
    "        groupname = 'delta_ln_a_' + str(i)\n",
    "        group = f.create_group(groupname)\n",
    "        \n",
    "        group.attrs['mf_node'] = sur.mf_amp[i]\n",
    "        group['basis'] = sur.Bamp[i].amp\n",
    "    \n",
    "        gp = sur.damp_gp_list[i]\n",
    "        hyperparameters, x_train, kinv_dot_y = extract_data_from_scikit_learn(gp)\n",
    "        group['hyperparameters'] = hyperparameters\n",
    "        group['kinv_dot_y'] = kinv_dot_y\n",
    "        \n",
    "    print '\\nWriting phase bases...'\n",
    "    for i in range(nphase):\n",
    "        print i,\n",
    "        groupname = 'delta_phi_' + str(i)\n",
    "        group = f.create_group(groupname)\n",
    "        \n",
    "        group.attrs['mf_node'] = sur.mf_phase[i]\n",
    "        group['basis'] = sur.Bphase[i].phase\n",
    "        \n",
    "        gp = sur.dphase_gp_list[i]\n",
    "        hyperparameters, x_train, kinv_dot_y = extract_data_from_scikit_learn(gp)\n",
    "        group['hyperparameters'] = hyperparameters\n",
    "        group['kinv_dot_y'] = kinv_dot_y\n",
    "        \n",
    "    f.close()"
   ]
  },
  {
   "cell_type": "code",
   "execution_count": 140,
   "metadata": {
    "collapsed": false
   },
   "outputs": [
    {
     "name": "stdout",
     "output_type": "stream",
     "text": [
      "Writing amplitude bases...\n",
      "0 1 2 3 4 5 6 7 8 9 10 11 12 13 14 15 16 17 18 19 \n",
      "Writing phase bases...\n",
      "0 1 2 3 4 5 6 7 8 9 10 11 12 13 14 15 16 17 18 19\n"
     ]
    }
   ],
   "source": [
    "filename = 'lalsuitetest.hdf5'\n",
    "lalsuite_surrogate_format(filename, sur)"
   ]
  },
  {
   "cell_type": "markdown",
   "metadata": {},
   "source": [
    "## Testing"
   ]
  },
  {
   "cell_type": "code",
   "execution_count": 141,
   "metadata": {
    "collapsed": true
   },
   "outputs": [],
   "source": [
    "f = h5py.File(filename, libver='latest')"
   ]
  },
  {
   "cell_type": "code",
   "execution_count": 142,
   "metadata": {
    "collapsed": false
   },
   "outputs": [
    {
     "name": "stdout",
     "output_type": "stream",
     "text": [
      "(10000,)\n",
      "(159, 5)\n"
     ]
    }
   ],
   "source": [
    "print f['mf'][:].shape\n",
    "print f['x_train'][:].shape"
   ]
  },
  {
   "cell_type": "code",
   "execution_count": 143,
   "metadata": {
    "collapsed": false
   },
   "outputs": [
    {
     "name": "stdout",
     "output_type": "stream",
     "text": [
      "0.03\n",
      "[  1.244054e+00   5.415526e-01   2.404507e+00   3.200000e+00   1.210941e+03   6.054942e+03   1.816954e-02]\n",
      "[  1.353636e-01  -2.426995e+00   1.238622e+00   2.569431e+00   3.361933e+00   1.419202e+01  -3.627787e+00\n",
      "  -8.324047e-01  -1.272532e-01  -3.368970e+01  -2.408338e+00  -1.902484e+00   5.119303e+00   4.062834e+00\n",
      "   1.460107e+00   3.370889e-01  -2.491526e+00   5.354783e+00   7.465732e-01   4.420478e+01   3.176610e+00\n",
      "  -5.925059e+00   1.808938e+00  -1.110560e+01   5.000668e+00   6.217673e+00   4.195432e+00  -1.312605e+01\n",
      "   2.338496e-01   5.919319e+00  -5.379469e+00   1.755869e+01  -1.626893e+01   1.689817e+01  -1.431328e+01\n",
      "  -1.971245e+01   4.480975e+00   3.670967e+00  -8.873717e+00  -3.385341e+00   6.651964e+00  -8.662202e+00\n",
      "   8.775134e+00   1.007829e+01   6.649881e+00   3.344075e+00  -4.441547e+00   4.264576e+00  -4.622621e+01\n",
      "   2.691734e+00  -5.929247e+00   1.690460e+01  -3.125132e+00  -6.299917e+00  -6.306608e+00   1.515829e+00\n",
      "  -2.227001e+00   7.702309e+00  -3.245184e+01  -3.052679e+00   4.116255e-01   2.225529e+00   2.603005e-02\n",
      "   3.859674e-01  -8.141826e+00   2.013691e+01   8.780298e-01  -1.841089e+00   2.515463e-01   1.713111e+01\n",
      "  -1.757861e+01   4.049758e+00  -5.014938e+00   5.414883e+00  -4.103025e+00  -2.252592e+00  -6.066697e+00\n",
      "  -4.926848e+00   6.745498e+00   6.857633e-01   1.529135e+00   1.771362e+01  -1.186749e+01   1.184803e+01\n",
      "   4.543042e+00  -7.164055e+00  -1.196400e+01   6.693243e+00  -5.285632e+00  -8.307623e+00  -9.182310e-01\n",
      "  -6.648923e+01  -4.035128e+01   9.421210e+00  -2.392244e+00  -2.070156e+00   7.635755e+00  -1.547993e+01\n",
      "   5.620664e+00   7.001051e+00   4.157290e+00   9.698385e+00   3.266775e+01   2.746764e+00  -2.796349e+00\n",
      "   8.817684e+00  -9.531512e+00   1.312549e+00  -1.163576e+00  -7.993987e+00   3.424267e+01  -3.480685e+00\n",
      "  -3.402223e+00  -3.020546e+00   1.694928e+00   9.930908e+00  -4.269771e+00   4.391721e+00  -8.004664e+00\n",
      "  -1.436490e+01   2.118213e+00   1.201013e+01   5.001458e+01   2.369965e+01   3.010098e-01  -1.971668e+01\n",
      "   1.717830e+00  -2.916780e+00   9.806520e-01  -1.869418e+00  -1.543128e+01  -7.368467e+00   1.070170e+01\n",
      "   9.314477e-01  -1.081861e+01  -8.017363e+00  -4.301819e+00  -3.299342e+00   1.972211e+01  -1.887514e+00\n",
      "  -1.033724e+00   1.034095e+01  -6.678932e+00   7.153949e+00   8.340226e+00  -5.808828e-02   3.992992e+00\n",
      "   1.693180e+00   2.265563e+01   3.430991e+00  -1.066900e+00   1.322190e+01  -6.976129e+00  -3.580663e+00\n",
      "   1.138779e+01   2.287657e+00  -1.641302e+01   2.197837e+00  -1.522886e+01]\n",
      "[-0.017998 -0.017989 -0.017936 ...,  0.984447  0.992205  1.      ]\n"
     ]
    }
   ],
   "source": [
    "print f['delta_ln_a_19'].attrs['mf_node']\n",
    "print f['delta_ln_a_19/hyperparameters'][:]\n",
    "print f['delta_ln_a_19/kinv_dot_y'][:]\n",
    "print f['delta_ln_a_19/basis'][:]"
   ]
  },
  {
   "cell_type": "code",
   "execution_count": 144,
   "metadata": {
    "collapsed": false
   },
   "outputs": [
    {
     "name": "stdout",
     "output_type": "stream",
     "text": [
      "0.03\n",
      "[  4.255004e+02   1.421491e+00   8.000000e+00   8.000000e+00   8.187851e+03   2.999900e+04   5.062750e-04]\n",
      "[ 0.161461  0.096188  0.054938  0.327947  0.020727  0.155349 -0.008214 -0.051078  0.235633 -1.000358 -0.042436\n",
      " -0.307369  0.988341  0.073701 -0.252881 -0.108205  0.246872  0.052102  0.069441  0.30316  -0.022522 -0.11242\n",
      "  0.059793 -0.139292  0.20552   0.93233   0.06626  -0.077352  0.774753 -0.627922  0.019855 -0.027874 -0.483242\n",
      "  0.005088 -0.785822  0.01263   0.400281 -0.800456 -0.580188 -0.260387  0.319411 -0.537523 -0.132596  1.483104\n",
      "  0.070138 -0.224954 -0.858842  0.713094 -0.410665  0.833558 -0.047864  1.206982 -0.867527 -0.117764  0.446977\n",
      "  0.055848 -0.876076  0.164289 -0.036691 -0.899262  0.083572  0.165041  0.863735  0.356303 -1.582601  2.375573\n",
      "  0.56885  -0.553988  0.031443  0.069171  0.268207 -0.297621 -1.257951  0.369415 -0.753824 -0.027229 -0.904814\n",
      "  0.22315  -0.271993  0.689553  0.709485 -0.88239  -0.703084 -0.80746  -0.595217  0.274676 -0.718739 -0.869145\n",
      "  0.316223 -0.343128 -0.422115 -3.303392 -2.196451  1.79774  -0.98341  -0.376274  0.507603 -1.504795 -0.826765\n",
      "  0.754009  0.770152  0.012036  0.407383  1.099522  1.295594  1.373301 -0.110962  0.160847 -0.308708 -0.654386\n",
      "  1.158544 -0.428087 -3.190594  1.235791 -0.497879  0.168661  0.477791  0.544221  0.274097  0.115203  0.031999\n",
      "  0.923412  1.46568   0.128348 -0.676014 -0.699661  0.318166  0.07075  -0.171094  0.643054  0.352981 -0.43828\n",
      " -0.033746  0.166102 -0.673419 -0.380231  0.641389 -0.700744  0.402958  0.670302 -0.254023 -0.677955  0.07726\n",
      "  0.146557  0.735334 -0.691599  0.020226  0.796239  3.009581  0.430276 -0.100308  1.516317 -0.236108  1.407899\n",
      "  0.665403  0.436091 -2.220541  0.083249 -1.18634 ]\n",
      "[  0.000000e+00   9.636067e-05   1.133802e-04 ...,   9.843505e-01   9.921587e-01   1.000000e+00]\n"
     ]
    }
   ],
   "source": [
    "print f['delta_phi_19'].attrs['mf_node']\n",
    "print f['delta_phi_19/hyperparameters'][:]\n",
    "print f['delta_phi_19/kinv_dot_y'][:]\n",
    "print f['delta_phi_19/basis'][:]"
   ]
  },
  {
   "cell_type": "code",
   "execution_count": 145,
   "metadata": {
    "collapsed": true
   },
   "outputs": [],
   "source": [
    "f.close()"
   ]
  },
  {
   "cell_type": "code",
   "execution_count": null,
   "metadata": {
    "collapsed": true
   },
   "outputs": [],
   "source": []
  }
 ],
 "metadata": {
  "kernelspec": {
   "display_name": "Python 2",
   "language": "python",
   "name": "python2"
  },
  "language_info": {
   "codemirror_mode": {
    "name": "ipython",
    "version": 2
   },
   "file_extension": ".py",
   "mimetype": "text/x-python",
   "name": "python",
   "nbconvert_exporter": "python",
   "pygments_lexer": "ipython2",
   "version": "2.7.13"
  }
 },
 "nbformat": 4,
 "nbformat_minor": 1
}
