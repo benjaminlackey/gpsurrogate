{
 "cells": [
  {
   "cell_type": "markdown",
   "metadata": {
    "deletable": true,
    "editable": true
   },
   "source": [
    "Check all hdf5 groups and attributes with:\n",
    "\n",
    "h5dump -n 1 lalsuitetest.hdf5\n",
    "\n",
    "This prints the description attribute:\n",
    "\n",
    "h5dump -a description lalsuitetest.hdf5 "
   ]
  },
  {
   "cell_type": "code",
   "execution_count": 1,
   "metadata": {
    "collapsed": false,
    "deletable": true,
    "editable": true
   },
   "outputs": [
    {
     "name": "stdout",
     "output_type": "stream",
     "text": [
      "Populating the interactive namespace from numpy and matplotlib\n"
     ]
    }
   ],
   "source": [
    "%pylab inline\n",
    "\n",
    "import numpy as np\n",
    "import matplotlib.pyplot as plt\n",
    "from mpl_toolkits.mplot3d import Axes3D\n",
    "\n",
    "np.set_printoptions(precision=6, linewidth=110)"
   ]
  },
  {
   "cell_type": "code",
   "execution_count": 2,
   "metadata": {
    "collapsed": true,
    "deletable": true,
    "editable": true
   },
   "outputs": [],
   "source": [
    "import h5py"
   ]
  },
  {
   "cell_type": "code",
   "execution_count": 3,
   "metadata": {
    "collapsed": false,
    "deletable": true,
    "editable": true
   },
   "outputs": [
    {
     "name": "stdout",
     "output_type": "stream",
     "text": [
      "\n"
     ]
    }
   ],
   "source": [
    "sys.path.insert(0, '../../src')\n",
    "\n",
    "import waveform as wave\n",
    "import waveformset as ws\n",
    "import trainingset as train\n",
    "import taylorf2 as f2\n",
    "import gaussianprocessregression as gpr\n",
    "import designofexperiment as doe\n",
    "import lalwaveform\n",
    "import plotparams\n",
    "import greedy\n",
    "import empiricalinterpolation as eim\n",
    "import surrogate\n",
    "import diagnostics\n",
    "import uncertaintysampling as us\n",
    "\n",
    "import imp\n",
    "imp.reload(wave)\n",
    "imp.reload(ws)\n",
    "imp.reload(train)\n",
    "imp.reload(f2)\n",
    "imp.reload(gpr)\n",
    "imp.reload(doe)\n",
    "imp.reload(lalwaveform)\n",
    "imp.reload(greedy)\n",
    "imp.reload(eim)\n",
    "imp.reload(surrogate)\n",
    "imp.reload(diagnostics)\n",
    "imp.reload(us)\n",
    "\n",
    "import constants\n",
    "imp.reload(constants)\n",
    "from constants import *"
   ]
  },
  {
   "cell_type": "markdown",
   "metadata": {
    "deletable": true,
    "editable": true
   },
   "source": [
    "# Construct surrogate in way that can be directly converted to lalsuite code"
   ]
  },
  {
   "cell_type": "code",
   "execution_count": 41,
   "metadata": {
    "collapsed": true,
    "deletable": true,
    "editable": true
   },
   "outputs": [],
   "source": [
    "def kernel(x1, x2, hyperparams):\n",
    "    \"\"\"Matern covariance function for n-dimensional data.\n",
    "    \n",
    "    Parameters\n",
    "    ----------\n",
    "    x1 : array with shape ndim\n",
    "    x2 : array with shape ndim\n",
    "    hyperparams : array with shape ndim+2 [sigma_f, ls0, ls1, ..., sigma_n]\n",
    "        sigma_f : Approximately the range (ymax-ymin) of values that the data takes.\n",
    "            sigma_f^2 called the signal variance.\n",
    "        sigma_n : Noise term. The uncertainty in the y values of the data.\n",
    "        lsi : Length scales for the variation in dimension i.\n",
    "    \n",
    "    Returns\n",
    "    -------\n",
    "    covariance : float\n",
    "    \"\"\"\n",
    "    sigma_f = hyperparams[0]\n",
    "    sigma_n = hyperparams[-1]\n",
    "    ls = hyperparams[1:-1]\n",
    "    ndim = len(ls)\n",
    "    \n",
    "    # Noise nugget for diagonal elements\n",
    "    if np.array_equal(x1, x2):\n",
    "        nugget = sigma_n**2\n",
    "    else:\n",
    "        nugget = 0.0\n",
    "    #nugget = sigma_n**2\n",
    "    \n",
    "    # r**2\n",
    "    rsq = np.sum(np.array([(x1[i]-x2[i])**2 / ls[i]**2 for i in range(ndim)]))\n",
    "    r = np.sqrt(rsq)\n",
    "    \n",
    "    # nu = 5/2 Matern covariance\n",
    "    matern = (1. + np.sqrt(5.)*r + 5.*r**2/3.) * np.exp(-np.sqrt(5.)*r)\n",
    "    \n",
    "    # Full covariance\n",
    "    # You must include the nugget to agree with scikit-learn when the points x1, x2 are exactly the same\n",
    "    return sigma_f**2 * matern + nugget"
   ]
  },
  {
   "cell_type": "code",
   "execution_count": 42,
   "metadata": {
    "collapsed": false,
    "deletable": true,
    "editable": true
   },
   "outputs": [],
   "source": [
    "def gp_predict(xst, hyperparams, x_train, Kinv_dot_y):\n",
    "    \"\"\"Interpolate the function at the point xst using Gaussian process regression.\n",
    "    \n",
    "    Parameters\n",
    "    ----------\n",
    "    xst : array of shape ndim.\n",
    "        Point x_* where you want to evaluate the function.\n",
    "    hyperparams : array with shape ndim+2 [sigma_f, ls0, ls1, ..., sigma_n].\n",
    "        Hyperparameters for the GPR kernel.\n",
    "    x_train : array of shape (n_train, ndim).\n",
    "        Training set points.\n",
    "    Kinv_dot_y : array of shape n_train.\n",
    "        The interpolating weights at each training set point.\n",
    "    \n",
    "    Returns\n",
    "    -------\n",
    "    yst : float\n",
    "        Interpolated value at the point xst.\n",
    "    \"\"\"\n",
    "    # Evaluate vector K_*\n",
    "    Kst = np.array([kernel(xst, x, hyperparams) for x in x_train])\n",
    "\n",
    "    # Evaluate y_*\n",
    "    return np.dot(Kst, Kinv_dot_y)"
   ]
  },
  {
   "cell_type": "code",
   "execution_count": 43,
   "metadata": {
    "collapsed": true,
    "deletable": true,
    "editable": true
   },
   "outputs": [],
   "source": [
    "def extract_data_from_scikit_learn(gp):\n",
    "    \"\"\"Extract the data in the scikit-learn GaussianProcessRegressor class \n",
    "    that you need for the lalsuite version.\n",
    "    \"\"\"\n",
    "    # hyperparams = np.array([sigma_f, lq, ls1, ls2, llam1, llam2, sigma_n])\n",
    "    hyperparams = gpr.get_hyperparameters(gp)\n",
    "    \n",
    "    # The training data\n",
    "    x_train = gp.X_train_\n",
    "    y_train = gp.y_train_\n",
    "    \n",
    "    # Evaluate K\n",
    "    K = np.array([[kernel(x1, x2, hyperparams) for x2 in x_train] for x1 in x_train])\n",
    "    \n",
    "    # Evaluate K^{-1}\n",
    "    Kinv = np.linalg.inv(K)\n",
    "    \n",
    "    # Evaluate (K^{-1})_{ij} y_j (array of length nparams).\n",
    "    Kinv_dot_y = np.dot(Kinv, y_train)\n",
    "    \n",
    "    return hyperparams, x_train, Kinv_dot_y"
   ]
  },
  {
   "cell_type": "markdown",
   "metadata": {
    "deletable": true,
    "editable": true
   },
   "source": [
    "# Load scikit-learn (python) version of surrogate"
   ]
  },
  {
   "cell_type": "code",
   "execution_count": 57,
   "metadata": {
    "collapsed": false,
    "deletable": true,
    "editable": true
   },
   "outputs": [],
   "source": [
    "# Bamp_filename = '../../data/teobtest40hz/B_amp_corners_lhd.hdf5'\n",
    "# Bphase_filename = '../../data/teobtest40hz/B_phase_corners_lhd.hdf5'\n",
    "# gp_amp_filename = '../../data/teobtest40hz/gp_amp_corners_lhd.hdf5'\n",
    "# gp_phase_filename = '../../data/teobtest40hz/gp_phase_corners_lhd.hdf5'\n",
    "# sur = surrogate.GPSurrogate.load(Bamp_filename, Bphase_filename, gp_amp_filename, gp_phase_filename)\n",
    "\n",
    "# Bamp_filename = '../../data/teobtest40hz/B_amp_lhd_uncsamp.hdf5'\n",
    "# Bphase_filename = '../../data/teobtest40hz/B_phase_lhd_uncsamp.hdf5'\n",
    "# gp_amp_filename = '../../data/teobtest40hz/gp_amp_lhd_uncsamp.hdf5'\n",
    "# gp_phase_filename = '../../data/teobtest40hz/gp_phase_lhd_uncsamp.hdf5'\n",
    "# sur = surrogate.GPSurrogate.load(Bamp_filename, Bphase_filename, gp_amp_filename, gp_phase_filename)\n",
    "\n",
    "nodes_filename = '../../data/TEOBv4_20hz/nodes_corners_lhd.hdf5'\n",
    "gp_amp_filename = '../../data/TEOBv4_20hz/gp_spline_amp_corners_lhd.hdf5'\n",
    "gp_phase_filename = '../../data/TEOBv4_20hz/gp_spline_phase_corners_lhd.hdf5'\n",
    "sur = surrogate.GPSplineSurrogate.load(nodes_filename, gp_amp_filename, gp_phase_filename, order=3, npoints=10000)"
   ]
  },
  {
   "cell_type": "code",
   "execution_count": 60,
   "metadata": {
    "collapsed": false,
    "deletable": true,
    "editable": true
   },
   "outputs": [
    {
     "name": "stdout",
     "output_type": "stream",
     "text": [
      "1.3958165518e-08\n",
      "4.00576269014e-05 4.12811965884e-05 0.0305452364919 1.22356968701e-06\n",
      "1.8430731096e-08\n",
      "2.08984179775e-05 2.08714869997e-05 0.00128866107671 2.69309778124e-08\n",
      "2.59302853552e-08\n",
      "-2.62373865108e-05 -2.57074071238e-05 0.0201993970239 5.29979387001e-07\n",
      "3.66657857757e-08\n",
      "-0.000121183001163 -0.000121590807709 0.00336521246248 4.07806545755e-07\n",
      "5.2113487004e-08\n",
      "-0.000295432835249 -0.000294990661164 0.00149669918753 4.42174084486e-07\n",
      "7.47213151587e-08\n",
      "-0.000604401841992 -0.000604198128245 0.000337050174692 2.03713746427e-07\n",
      "1.08349956077e-07\n",
      "-0.00114002820377 -0.00113935558392 0.000590002812053 6.72619846043e-07\n",
      "1.59785421116e-07\n",
      "-0.00206757719942 -0.00206754142377 1.73031741685e-05 3.57756483882e-08\n",
      "2.42822932456e-07\n",
      "-0.00368443034664 -0.00368353143151 0.00024397669351 8.9891513344e-07\n",
      "3.91881918394e-07\n",
      "-0.00660817334476 -0.00660782749768 5.23362601699e-05 3.45847079419e-07\n",
      "7.40771443708e-07\n",
      "-0.0122385645405 -0.0122388243537 2.12290529418e-05 2.59813134562e-07\n",
      "2.15307674445e-06\n",
      "-0.0248891674127 -0.0248891990544 1.27130396677e-06 3.16416972623e-08\n",
      "1.14572251859e-05\n",
      "-0.063112401368 -0.0631124027882 2.25017373623e-08 1.42013867332e-09\n",
      "0.0028996890602\n",
      "-0.225412508637 -0.225412512515 1.72054648306e-08 3.87832699289e-09\n",
      "0.0138007377771\n",
      "-0.585473291143 -0.585473291643 8.54971871078e-10 5.00563146488e-10\n",
      "0.0462347915623\n",
      "-0.859125711532 -0.859125710738 9.23140341946e-10 7.93093590801e-10\n",
      "0.098057597208\n",
      "-1.43636223656 -1.43636223609 3.295176354e-10 4.73306727145e-10\n",
      "0.156451136398\n",
      "-2.77813017432 -2.77813017408 8.75719496918e-11 2.43286280011e-10\n",
      "0.31312085409\n",
      "-5.40924044529 -5.40924044519 1.76277881181e-11 9.53530587822e-11\n",
      "0.420011294473\n",
      "-7.09833945104 -7.09833945094 1.32008848297e-11 9.37045996352e-11\n"
     ]
    }
   ],
   "source": [
    "# Is there an alpha = 1.0e-10 term that in the scikit-learn version?\n",
    "\n",
    "#Random point:\n",
    "x = np.array([0.8, 0.2, 0.1, 1000, 2000])\n",
    "\n",
    "# Point exactly in training set:\n",
    "#x = np.array([1.0, 0.5, 0.5, 0.0, 0.0])\n",
    "\n",
    "for i in range(len(sur.damp_gp_list)):\n",
    "    gp = sur.damp_gp_list[i]\n",
    "    gp.alpha = 0.0\n",
    "    #gp.alpha_ *= 0.0\n",
    "    #gp = sur.dphase_gp_list[0]\n",
    "    hyperparams, x_train, Kinv_dot_y = extract_data_from_scikit_learn(gp)\n",
    "\n",
    "    a = gp.predict(np.atleast_2d(x))[0]\n",
    "    b = gp_predict(x, hyperparams, x_train, Kinv_dot_y)\n",
    "\n",
    "    sigma_n = hyperparams[-1]\n",
    "    print sigma_n\n",
    "    print a, b, np.abs(b/a-1.), np.abs(b-a)"
   ]
  },
  {
   "cell_type": "code",
   "execution_count": 59,
   "metadata": {
    "collapsed": false
   },
   "outputs": [
    {
     "data": {
      "text/plain": [
       "(0.0,\n",
       " array([ 0.008289,  1.056433, -2.037547, -0.146928, -0.250674,  0.198302,  1.386065, -0.482063,  1.354522,\n",
       "         0.985686,  1.203306, -0.272722,  0.80703 ,  0.189341, -1.02601 , -0.652048,  2.641279,  0.967909,\n",
       "         0.855306,  0.942681,  1.803817, -0.599145, -0.767567, -2.05593 ,  0.848163, -1.188955, -0.769386,\n",
       "        -2.349791,  1.150535,  0.580535,  0.888147,  3.0479  ,  1.479267, -0.979917, -1.364467, -1.082161,\n",
       "        -0.150424, -1.554823,  0.014291,  0.881482,  0.008576,  2.185979, -2.153663,  0.605395, -2.087776,\n",
       "        -2.839429, -1.635372, -0.421846,  0.721603,  1.123598,  0.223683,  1.947749,  1.766341,  0.247211,\n",
       "        -3.929996,  0.445216,  1.274742,  0.832831,  1.032034, -0.784586, -1.435076, -1.108991,  0.834153,\n",
       "        -0.650453,  0.366962, -0.490938,  0.626358,  2.609278,  0.989507,  0.732702,  0.610112, -2.25056 ,\n",
       "         0.304925, -0.37478 , -1.895059, -0.722218,  0.551543, -1.277697, -1.178906, -0.864252,  0.588309,\n",
       "        -0.171976, -0.799866, -1.39546 ,  1.419395, -2.370098,  2.966624, -1.367835, -5.425471,  2.417413,\n",
       "         1.241747, -0.0257  , -0.898529, -0.553472, -2.667651, -0.81521 , -0.134137,  0.742096,  0.434662,\n",
       "        -3.166385,  3.444563,  1.382843,  0.626611,  0.853015, -0.96894 ,  0.460008,  2.245932, -0.093974,\n",
       "        -0.167026, -1.185581, -4.779266,  2.009816, -1.678318,  1.549714, -1.505678,  0.725115, -1.579932,\n",
       "        -0.370377, -2.573458, -0.728739,  1.500495,  2.527831,  1.064114, -1.318605, -0.838216, -0.020344,\n",
       "        -0.789469, -1.445282, -0.34505 ,  1.782562,  0.499748,  1.866026,  0.307121, -0.56043 , -0.89388 ,\n",
       "         0.02945 , -0.641607,  2.669643,  0.274127,  0.78083 , -0.913376, -4.416811,  0.58983 ,  4.339256,\n",
       "         1.257327,  0.118975, -1.085435,  0.756105,  1.123237, -0.088972,  0.635651, -0.803324,  1.450562,\n",
       "         0.208408,  0.770419,  0.260745,  1.107003,  0.340352, -0.258268]))"
      ]
     },
     "execution_count": 59,
     "metadata": {},
     "output_type": "execute_result"
    }
   ],
   "source": [
    "gp.alpha, gp.alpha_"
   ]
  },
  {
   "cell_type": "markdown",
   "metadata": {
    "deletable": true,
    "editable": true
   },
   "source": [
    "# Generate hdf5 file for lalsuite version"
   ]
  },
  {
   "cell_type": "code",
   "execution_count": 139,
   "metadata": {
    "collapsed": false,
    "deletable": true,
    "editable": true
   },
   "outputs": [],
   "source": [
    "# def lalsuite_surrogate_format(filename, sur):\n",
    "#     \"\"\"Write data to an hdf5 file format that can be read by the \n",
    "#     lalsuite version of the code.\n",
    "#     \"\"\"\n",
    "#     f = h5py.File(filename, libver='latest')\n",
    "    \n",
    "#     namp = len(sur.Bamp)\n",
    "#     nphase = len(sur.Bphase)\n",
    "    \n",
    "#     f.attrs['description'] = \\\n",
    "# '''\n",
    "# ********************************************************************************\n",
    "# Data for TEOBv4_ROM reduced order model (aligned-spin BNS with tidal interactions).\n",
    "\n",
    "# See B. Lackey, et al. arXiv:xxxx.xxxx.\n",
    "\n",
    "# Parameter ranges:\n",
    "# * 1/3 <= q <= 1\n",
    "# * -0.4 <= spin_1z <= 0.4\n",
    "# * -0.4 <= spin_2z <= 0.4\n",
    "# * 0.1 <= lambda_1 <= 3000\n",
    "# * 0.1 <= lambda_2 <= 3000\n",
    "# * flow >= xxHz\n",
    "\n",
    "# This ROM was built using the TEOBv4 waveform.\n",
    "\n",
    "# The hyperparameters for the Gaussian process regression associated with each \n",
    "# basis function are listed in the order\n",
    "# [sigma_f, l_q, l_spin1z, l_spin2z, l_lambda1, l_lambda2, sigma_n]\n",
    "# where sigma_f is approximately the function range, sigma_n is the noise/tollerance, \n",
    "# and l_i is the correlation length scale for the parameter i.\n",
    "# ********************************************************************************\n",
    "# '''\n",
    "    \n",
    "#     # Frequency samples\n",
    "#     f['mf'] = sur.mf\n",
    "    \n",
    "#     # Training set samples.\n",
    "#     # They are the same for all basis functions so pick amp_0\n",
    "#     gp = sur.damp_gp_list[0]\n",
    "#     x_train = gp.X_train_\n",
    "#     f['x_train'] = x_train\n",
    "    \n",
    "#     print 'Writing amplitude bases...'\n",
    "#     for i in range(namp):\n",
    "#         print i,\n",
    "#         groupname = 'delta_ln_a_' + str(i)\n",
    "#         group = f.create_group(groupname)\n",
    "        \n",
    "#         group.attrs['mf_node'] = sur.mf_amp[i]\n",
    "#         group['basis'] = sur.Bamp[i].amp\n",
    "    \n",
    "#         gp = sur.damp_gp_list[i]\n",
    "#         hyperparameters, x_train, kinv_dot_y = extract_data_from_scikit_learn(gp)\n",
    "#         group['hyperparameters'] = hyperparameters\n",
    "#         group['kinv_dot_y'] = kinv_dot_y\n",
    "        \n",
    "#     print '\\nWriting phase bases...'\n",
    "#     for i in range(nphase):\n",
    "#         print i,\n",
    "#         groupname = 'delta_phi_' + str(i)\n",
    "#         group = f.create_group(groupname)\n",
    "        \n",
    "#         group.attrs['mf_node'] = sur.mf_phase[i]\n",
    "#         group['basis'] = sur.Bphase[i].phase\n",
    "        \n",
    "#         gp = sur.dphase_gp_list[i]\n",
    "#         hyperparameters, x_train, kinv_dot_y = extract_data_from_scikit_learn(gp)\n",
    "#         group['hyperparameters'] = hyperparameters\n",
    "#         group['kinv_dot_y'] = kinv_dot_y\n",
    "        \n",
    "#     f.close()"
   ]
  },
  {
   "cell_type": "code",
   "execution_count": 30,
   "metadata": {
    "collapsed": true,
    "deletable": true,
    "editable": true
   },
   "outputs": [],
   "source": [
    "# def lalsuite_surrogate_format(filename, sur):\n",
    "#     \"\"\"Write data to an hdf5 file format that can be read by the \n",
    "#     lalsuite version of the code.\n",
    "#     \"\"\"\n",
    "#     f = h5py.File(filename, libver='latest')\n",
    "    \n",
    "#     namp = len(sur.Bamp)\n",
    "#     nphase = len(sur.Bphase)\n",
    "    \n",
    "#     f.attrs['description'] = \\\n",
    "# '''\n",
    "# ********************************************************************************\n",
    "# Data for TEOBv4_ROM reduced order model (aligned-spin BNS with tidal interactions).\n",
    "\n",
    "# See B. Lackey, M. Puerrer, A. Taracchini. arXiv:xxxx.xxxx.\n",
    "\n",
    "# Parameter ranges:\n",
    "# * 1/3 <= q <= 1\n",
    "# * -0.4 <= spin_1z <= 0.4\n",
    "# * -0.4 <= spin_2z <= 0.4\n",
    "# * 0.1 <= lambda_1 <= 3000\n",
    "# * 0.1 <= lambda_2 <= 3000\n",
    "# * flow >= xxHz\n",
    "\n",
    "# This ROM was built using the TEOBv4 waveform.\n",
    "\n",
    "# The hyperparameters for the Gaussian process regression associated with each \n",
    "# basis function are listed in the order\n",
    "# [sigma_f, l_q, l_spin1z, l_spin2z, l_lambda1, l_lambda2, sigma_n]\n",
    "# where sigma_f is approximately the function range, sigma_n is the noise/tollerance, \n",
    "# and l_i is the correlation length scale for the parameter i.\n",
    "# ********************************************************************************\n",
    "# '''\n",
    "#     # Bounds\n",
    "#     f['q_bounds'] = np.array([1./3., 1])\n",
    "#     f['chi1_bounds'] = np.array([-0.4, 0.4])\n",
    "#     f['chi2_bounds'] = np.array([-0.4, 0.4])\n",
    "#     f['lambda1_bounds'] = np.array([0.1, 3000])\n",
    "#     f['lambda2_bounds'] = np.array([0.1, 3000])\n",
    "\n",
    "#     # Frequency samples\n",
    "#     f['mf'] = sur.mf\n",
    "    \n",
    "#     # Training set samples.\n",
    "#     # They are the same for all basis functions so pick amp_0\n",
    "#     gp = sur.damp_gp_list[0]\n",
    "#     x_train = gp.X_train_\n",
    "#     f['x_train'] = x_train\n",
    "    \n",
    "#     print 'Writing amplitude bases...'\n",
    "#     nodes_amp = []\n",
    "#     B_amp = []\n",
    "#     hyp_amp = []\n",
    "#     kinv_dot_y_amp = []\n",
    "#     for i in range(namp):\n",
    "#         nodes_amp.append(sur.mf_amp[i])\n",
    "#         B_amp.append(sur.Bamp[i].amp)\n",
    "#         gp = sur.damp_gp_list[i]\n",
    "#         hyperparameters, x_train, kinv_dot_y = extract_data_from_scikit_learn(gp)\n",
    "#         hyp_amp.append(hyperparameters)\n",
    "#         kinv_dot_y_amp.append(kinv_dot_y)\n",
    "    \n",
    "#     f['EI_nodes_amp'] = np.array(nodes_amp)\n",
    "#     f['B_amp'] = np.array(B_amp)\n",
    "#     f['hyp_amp'] = np.array(hyp_amp)\n",
    "#     f['kinv_dot_y_amp'] = np.array(kinv_dot_y_amp)\n",
    "    \n",
    "#     print f['EI_nodes_amp'][:].shape\n",
    "#     print f['B_amp'][:].shape\n",
    "#     print f['hyp_amp'][:].shape\n",
    "#     print f['kinv_dot_y_amp'][:].shape\n",
    "    \n",
    "    \n",
    "#     print '\\nWriting phase bases...'\n",
    "#     nodes_phase = []\n",
    "#     B_phase = []\n",
    "#     hyp_phase = []\n",
    "#     kinv_dot_y_phase = []\n",
    "#     for i in range(nphase):\n",
    "#         nodes_phase.append(sur.mf_phase[i])\n",
    "#         B_phase.append(sur.Bphase[i].phase)\n",
    "#         gp = sur.dphase_gp_list[i]\n",
    "#         hyperparameters, x_train, kinv_dot_y = extract_data_from_scikit_learn(gp)\n",
    "#         hyp_phase.append(hyperparameters)\n",
    "#         kinv_dot_y_phase.append(kinv_dot_y)\n",
    "    \n",
    "#     f['EI_nodes_phi'] = np.array(nodes_phase)\n",
    "#     f['B_phi'] = np.array(B_phase)\n",
    "#     f['hyp_phi'] = np.array(hyp_phase)\n",
    "#     f['kinv_dot_y_phi'] = np.array(kinv_dot_y_phase)\n",
    "    \n",
    "#     print f['EI_nodes_phi'][:].shape\n",
    "#     print f['B_phi'][:].shape\n",
    "#     print f['hyp_phi'][:].shape\n",
    "#     print f['kinv_dot_y_phi'][:].shape\n",
    "    \n",
    "#     f.close()"
   ]
  },
  {
   "cell_type": "code",
   "execution_count": 20,
   "metadata": {
    "collapsed": true
   },
   "outputs": [],
   "source": [
    "def lalsuite_spline_surrogate_format(filename, sur):\n",
    "    \"\"\"Write data to an hdf5 file format that can be read by the \n",
    "    lalsuite version of the code.\n",
    "    \"\"\"\n",
    "    f = h5py.File(filename, libver='latest')\n",
    "    \n",
    "    namp = len(sur.damp_gp_list)\n",
    "    nphase = len(sur.dphase_gp_list)\n",
    "    \n",
    "    f.attrs['description'] = \\\n",
    "'''\n",
    "********************************************************************************\n",
    "Data for TEOBv4_surrogate surrogate (aligned-spin BNS with tidal interactions).\n",
    "\n",
    "See B. Lackey, M. Puerrer, A. Taracchini. arXiv:xxxx.xxxx.\n",
    "\n",
    "Parameter ranges:\n",
    "* 1/3 <= q <= 1\n",
    "* -0.5 <= spin_1z <= 0.5\n",
    "* -0.5 <= spin_2z <= 0.5\n",
    "* 0 <= lambda_1 <= 5000\n",
    "* 0 <= lambda_2 <= 5000\n",
    "\n",
    "This surrogate was built using the TEOBv4 waveform.\n",
    "\n",
    "The first spline node for dphase is not listed since it is the same as the first\n",
    "node for damp, and dphase = 0 for the first node.\n",
    "\n",
    "The hyperparameters for the Gaussian process regression associated with each \n",
    "basis function are listed in the order\n",
    "[sigma_f, l_q, l_spin1z, l_spin2z, l_lambda1, l_lambda2, sigma_n]\n",
    "where sigma_f is approximately the function range, sigma_n is the noise/tolerance, \n",
    "and l_i is the correlation length scale for the parameter i.\n",
    "********************************************************************************\n",
    "'''\n",
    "    # Bounds\n",
    "    f['q_bounds'] = np.array([1./3., 1])\n",
    "    f['chi1_bounds'] = np.array([-0.5, 0.5])\n",
    "    f['chi2_bounds'] = np.array([-0.5, 0.5])\n",
    "    f['lambda1_bounds'] = np.array([0, 5000])\n",
    "    f['lambda2_bounds'] = np.array([0, 5000])\n",
    "\n",
    "    # Nodes for splines.\n",
    "    f['spline_nodes_amp'] = sur.mf_amp\n",
    "    f['spline_nodes_phase'] = sur.mf_phase\n",
    "    \n",
    "    print f['spline_nodes_amp'][:].shape\n",
    "    print f['spline_nodes_phase'][:].shape\n",
    "    \n",
    "    # Training set samples.\n",
    "    # They are the same for all basis functions so pick amp_0\n",
    "    gp = sur.damp_gp_list[0]\n",
    "    x_train = gp.X_train_\n",
    "    f['x_train'] = x_train\n",
    "    \n",
    "    print 'Writing amplitude bases...'\n",
    "    hyp_amp = []\n",
    "    kinv_dot_y_amp = []\n",
    "    for i in range(namp):\n",
    "        gp = sur.damp_gp_list[i]\n",
    "        hyperparameters, x_train, kinv_dot_y = extract_data_from_scikit_learn(gp)\n",
    "        hyp_amp.append(hyperparameters)\n",
    "        kinv_dot_y_amp.append(kinv_dot_y)\n",
    "    \n",
    "    f['hyp_amp'] = np.array(hyp_amp)\n",
    "    f['kinv_dot_y_amp'] = np.array(kinv_dot_y_amp)\n",
    "    \n",
    "    print f['hyp_amp'][:].shape\n",
    "    print f['kinv_dot_y_amp'][:].shape\n",
    "    \n",
    "    \n",
    "    print '\\nWriting phase bases...'\n",
    "    hyp_phase = []\n",
    "    kinv_dot_y_phase = []\n",
    "    for i in range(nphase):\n",
    "        gp = sur.dphase_gp_list[i]\n",
    "        hyperparameters, x_train, kinv_dot_y = extract_data_from_scikit_learn(gp)\n",
    "        hyp_phase.append(hyperparameters)\n",
    "        kinv_dot_y_phase.append(kinv_dot_y)\n",
    "    \n",
    "    f['hyp_phi'] = np.array(hyp_phase)\n",
    "    f['kinv_dot_y_phi'] = np.array(kinv_dot_y_phase)\n",
    "    \n",
    "    print f['hyp_phi'][:].shape\n",
    "    print f['kinv_dot_y_phi'][:].shape\n",
    "    \n",
    "    f.close()"
   ]
  },
  {
   "cell_type": "code",
   "execution_count": 22,
   "metadata": {
    "collapsed": false,
    "deletable": true,
    "editable": true
   },
   "outputs": [
    {
     "name": "stdout",
     "output_type": "stream",
     "text": [
      "(20,)\n",
      "(19,)\n",
      "Writing amplitude bases...\n",
      "(20, 7)\n",
      "(20, 159)\n",
      "\n",
      "Writing phase bases...\n",
      "(19, 7)\n",
      "(19, 159)\n"
     ]
    }
   ],
   "source": [
    "filename = '../../data/TEOBv4_20hz/TEOBv4_surrogate.hdf5'\n",
    "lalsuite_spline_surrogate_format(filename, sur)"
   ]
  },
  {
   "cell_type": "markdown",
   "metadata": {
    "deletable": true,
    "editable": true
   },
   "source": [
    "## Testing"
   ]
  },
  {
   "cell_type": "code",
   "execution_count": 23,
   "metadata": {
    "collapsed": true,
    "deletable": true,
    "editable": true
   },
   "outputs": [],
   "source": [
    "f = h5py.File(filename, libver='latest')"
   ]
  },
  {
   "cell_type": "code",
   "execution_count": 27,
   "metadata": {
    "collapsed": false,
    "deletable": true,
    "editable": true
   },
   "outputs": [
    {
     "name": "stdout",
     "output_type": "stream",
     "text": [
      "\n",
      "********************************************************************************\n",
      "Data for TEOBv4_surrogate surrogate (aligned-spin BNS with tidal interactions).\n",
      "\n",
      "See B. Lackey, M. Puerrer, A. Taracchini. arXiv:xxxx.xxxx.\n",
      "\n",
      "Parameter ranges:\n",
      "* 1/3 <= q <= 1\n",
      "* -0.5 <= spin_1z <= 0.5\n",
      "* -0.5 <= spin_2z <= 0.5\n",
      "* 0 <= lambda_1 <= 5000\n",
      "* 0 <= lambda_2 <= 5000\n",
      "\n",
      "This surrogate was built using the TEOBv4 waveform.\n",
      "\n",
      "The first spline node for dphase is not listed since it is the same as the first\n",
      "node for damp, and dphase = 0 for the first node.\n",
      "\n",
      "The hyperparameters for the Gaussian process regression associated with each \n",
      "basis function are listed in the order\n",
      "[sigma_f, l_q, l_spin1z, l_spin2z, l_lambda1, l_lambda2, sigma_n]\n",
      "where sigma_f is approximately the function range, sigma_n is the noise/tolerance, \n",
      "and l_i is the correlation length scale for the parameter i.\n",
      "********************************************************************************\n",
      "\n",
      "[ 0.333333  1.      ]\n",
      "[-0.5  0.5]\n",
      "[-0.5  0.5]\n",
      "[   0 5000]\n",
      "[   0 5000]\n",
      "[ 0.00021   0.000285  0.000387  0.000525  0.000713  0.000969  0.001315  0.001785  0.002424  0.003291  0.004467\n",
      "  0.006065  0.008234  0.011179  0.015177  0.020605  0.027974  0.037978  0.05156   0.07    ]\n",
      "[ 0.000285  0.000387  0.000525  0.000713  0.000969  0.001315  0.001785  0.002424  0.003291  0.004467  0.006065\n",
      "  0.008234  0.011179  0.015177  0.020605  0.027974  0.037978  0.05156   0.07    ]\n",
      "(159, 5)\n"
     ]
    }
   ],
   "source": [
    "print f.attrs['description']\n",
    "\n",
    "print f['q_bounds'][:]\n",
    "print f['chi1_bounds'][:]\n",
    "print f['chi2_bounds'][:]\n",
    "print f['lambda1_bounds'][:]\n",
    "print f['lambda2_bounds'][:]\n",
    "\n",
    "print f['spline_nodes_amp'][:]\n",
    "print f['spline_nodes_phase'][:]\n",
    "\n",
    "print f['x_train'][:].shape"
   ]
  },
  {
   "cell_type": "code",
   "execution_count": 28,
   "metadata": {
    "collapsed": false,
    "deletable": true,
    "editable": true,
    "scrolled": false
   },
   "outputs": [
    {
     "name": "stdout",
     "output_type": "stream",
     "text": [
      "[  8.504062e-04   1.864503e+00   2.848990e+00   4.000000e+00   2.000000e+04   2.000000e+04   1.395817e-08]\n",
      "[ -4.568730e+03  -5.169784e+04  -2.599941e+04   6.030558e+03  -3.116244e+04  -1.118356e+04  -2.638726e+04\n",
      "  -7.906101e+04   3.115567e+04   3.551327e+04   6.959043e+04   2.281821e+04   5.845552e+04  -4.021202e+03\n",
      "   1.995547e+04   2.826619e+04  -5.343637e+04  -1.274982e+04  -2.510644e+04  -2.993501e+04   1.136397e+04\n",
      "   1.870288e+04   2.036711e+04   1.462085e+04  -2.363326e+04  -1.338883e+04  -7.248580e+03  -1.675821e+04\n",
      "   1.835998e+04   1.967001e+04   2.359662e+04   1.560386e+04  -2.240806e+05  -6.470501e+04  -5.964531e+03\n",
      "   9.001074e+03   8.826554e+04   2.558425e+04  -2.506301e+04  -1.562433e+04   4.634344e+04   8.082604e+04\n",
      "  -5.280035e+04   4.238102e+04  -1.001640e+04  -5.483428e+04   8.490203e+04  -7.662924e+03   1.437318e+05\n",
      "  -1.970871e+04   1.747141e+03  -3.733946e+04  -1.901198e+04   6.135409e+01  -6.969534e+03   4.089527e+02\n",
      "  -1.518616e+05   3.368554e+04  -2.810648e+04  -2.329996e+03   2.499589e+05   4.685127e+03  -1.421673e+05\n",
      "  -6.348731e+04  -2.256256e+04  -2.471301e+04  -1.987388e+04  -1.122652e+05   4.528429e+04   2.143835e+04\n",
      "  -1.571753e+05  -4.039926e+03  -9.581674e+04   8.085301e+04  -1.987533e+05  -7.038392e+04   5.625628e+04\n",
      "  -7.261962e+03   5.571818e+04  -2.029335e+04  -1.728779e+04  -3.142201e+04   6.811842e+04   4.554221e+04\n",
      "   1.662680e+05   4.501842e+04  -6.079155e+04  -1.118709e+03  -1.731766e+05  -3.787991e+04   8.860358e+04\n",
      "  -5.873050e+04  -6.498464e+04  -1.439104e+05   4.711583e+04   6.731769e+04  -2.846556e+04   4.974200e+04\n",
      "  -8.768154e+04   1.791824e+05   4.627745e+03   3.679115e+04  -8.460027e+04   1.151076e+05  -3.440892e+04\n",
      "   8.404297e+04  -4.554865e+04   1.390686e+04  -1.102301e+05   1.596141e+05  -4.339108e+04   1.061474e+05\n",
      "   2.032104e+04   8.016534e+04   3.639355e+04  -8.217162e+03   1.401813e+03  -7.302173e+04   1.158751e+04\n",
      "  -7.018334e+04   9.500684e+04  -2.775875e+05   1.468002e+05   2.545536e+03   9.082857e+04  -7.878146e+02\n",
      "  -3.513263e+04  -9.601661e+04   5.416548e+04   1.239861e+05  -3.253039e+04   8.083942e+02  -1.129372e+05\n",
      "  -5.328358e+04   8.817162e+04  -1.347569e+05  -1.566779e+03  -6.947388e+04   2.272331e+04   1.449213e+03\n",
      "   1.581340e+04   6.079020e+04   1.828110e+04   2.811018e+05   1.053386e+05  -3.279562e+04  -6.914875e+04\n",
      "   3.709190e+04   2.054928e+05  -2.797536e+04  -8.030850e+03  -7.253162e+03  -4.648194e+03  -8.999742e+04\n",
      "   5.922248e+04   1.387236e+04  -1.341305e+05   2.476104e+04   8.281174e+04]\n"
     ]
    }
   ],
   "source": [
    "print f['hyp_amp'][:][0]\n",
    "print f['kinv_dot_y_amp'][:][0]"
   ]
  },
  {
   "cell_type": "code",
   "execution_count": 29,
   "metadata": {
    "collapsed": false,
    "deletable": true,
    "editable": true
   },
   "outputs": [
    {
     "name": "stdout",
     "output_type": "stream",
     "text": [
      "[  4.085846e-03   1.125107e+00   1.160540e+00   3.001637e+00   1.717073e+04   2.184499e+04   4.904680e-05]\n",
      "[ -1.208280e+03   7.964910e+02  -2.849333e+03  -2.345224e+03  -1.713935e+04   1.215501e+04   2.980847e+03\n",
      "  -7.141455e+03   1.311195e+04  -8.818122e+03  -6.644801e+03   6.428997e+03   2.686756e+04  -2.060254e+03\n",
      "   2.633957e+03  -3.574480e+03   3.667716e+03   1.248802e+02  -1.658871e+03   2.570703e+03  -1.973641e+03\n",
      "  -8.285946e+02  -2.093941e+02   1.153182e+02  -1.889238e+03   7.070393e+02   1.989203e+03  -1.294392e+03\n",
      "  -1.552302e+03   1.097635e+03  -2.046796e+02  -2.197122e+03  -1.337939e+04  -4.718471e+01   5.391549e+02\n",
      "   8.009263e+03   3.564986e+03   5.934810e+03   2.908948e+03  -6.640595e+03  -1.208667e+03  -5.910303e+03\n",
      "  -1.491329e+04  -3.088618e+03   7.203001e+03   5.461170e+03  -2.045209e+03  -9.405765e+03  -7.873692e+03\n",
      "  -4.740142e+03  -2.773159e+04   8.255029e+03  -2.537253e+02  -9.962986e+03   6.879945e+03  -9.011212e+03\n",
      "   4.610227e+03   2.592324e+04  -8.876536e+03   2.766484e+04  -4.363312e+03   1.127089e+04   8.364785e+03\n",
      "   3.652218e+03   5.068748e+03   9.725824e+03  -3.493965e+03  -3.833781e+03  -6.115106e+03   3.699814e+03\n",
      "   1.140447e+04   4.515685e+03   7.994911e+03   2.686430e+03   8.540269e+03  -1.046296e+04  -4.559273e+03\n",
      "   2.011322e+03   1.274581e+04  -7.001253e+03   1.072135e+04   6.269667e+03  -1.498020e+04  -7.620715e+03\n",
      "  -1.866348e+03  -3.563063e+02   4.113616e+03   3.002543e+03   3.835749e+03   4.474320e+03  -8.843000e+03\n",
      "   3.644840e+03   2.501502e+03   5.439748e+03  -2.568884e+02   7.831171e+02  -9.279582e+02   9.674357e+03\n",
      "   2.433431e+03  -8.468311e+03   6.423496e+03  -5.591500e+03   6.833855e+03  -1.067429e+04   4.409910e+02\n",
      "   2.846927e+03   5.510291e+03   9.418770e+03  -5.618831e+04  -2.873061e+04   2.017247e+03   2.195719e+02\n",
      "  -1.336258e+03   1.484776e+04  -5.049937e+03   7.329828e+02  -3.642154e+03  -1.621716e+04  -3.603244e+03\n",
      "  -1.892448e+04   2.851431e+03   1.104585e+04   1.769431e+04   4.009065e+03  -3.860016e+02  -5.315313e+03\n",
      "   1.619543e+04  -1.249567e+04   1.728108e+04  -9.795763e+03  -5.646403e+03   4.510569e+03  -5.566659e+03\n",
      "  -5.398057e+03  -4.290384e+03   8.322340e+03  -5.527846e+00  -1.417604e+04   8.589391e+02  -1.282589e+04\n",
      "   1.031279e+03  -1.645869e+03  -6.249824e+03   2.617382e+04   7.690524e+03  -8.736463e+03   7.197019e+03\n",
      "   5.237872e+03  -1.326955e+04  -1.052506e+04   7.913593e+03  -1.048179e+03  -1.038523e+04  -6.387824e+03\n",
      "   1.249864e+04   3.266445e+03   1.724038e+04  -5.297064e+03   1.029910e+04]\n"
     ]
    }
   ],
   "source": [
    "print f['hyp_phi'][:][0]\n",
    "print f['kinv_dot_y_phi'][:][0]"
   ]
  },
  {
   "cell_type": "code",
   "execution_count": 30,
   "metadata": {
    "collapsed": true,
    "deletable": true,
    "editable": true
   },
   "outputs": [],
   "source": [
    "f.close()"
   ]
  },
  {
   "cell_type": "code",
   "execution_count": null,
   "metadata": {
    "collapsed": true,
    "deletable": true,
    "editable": true
   },
   "outputs": [],
   "source": []
  }
 ],
 "metadata": {
  "kernelspec": {
   "display_name": "Python 2",
   "language": "python",
   "name": "python2"
  },
  "language_info": {
   "codemirror_mode": {
    "name": "ipython",
    "version": 2
   },
   "file_extension": ".py",
   "mimetype": "text/x-python",
   "name": "python",
   "nbconvert_exporter": "python",
   "pygments_lexer": "ipython2",
   "version": "2.7.13"
  }
 },
 "nbformat": 4,
 "nbformat_minor": 1
}
