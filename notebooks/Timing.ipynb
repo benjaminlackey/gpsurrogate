{
 "cells": [
  {
   "cell_type": "code",
   "execution_count": 1,
   "metadata": {
    "collapsed": false,
    "deletable": true,
    "editable": true
   },
   "outputs": [
    {
     "name": "stdout",
     "output_type": "stream",
     "text": [
      "Populating the interactive namespace from numpy and matplotlib\n",
      "\n"
     ]
    }
   ],
   "source": [
    "%pylab inline\n",
    "import numpy as np\n",
    "np.set_printoptions(precision=4, linewidth=150)\n",
    "\n",
    "from time import time\n",
    "\n",
    "import matplotlib.pyplot as plt\n",
    "from mpl_toolkits.mplot3d import Axes3D\n",
    "\n",
    "import scipy.interpolate as interpolate\n",
    "import scipy.integrate as integrate\n",
    "import scipy.optimize as optimize\n",
    "\n",
    "import lal\n",
    "import lalsimulation\n",
    "\n",
    "import pycbc.waveform\n",
    "import pycbc.filter\n",
    "import pycbc.types\n",
    "import pycbc.psd"
   ]
  },
  {
   "cell_type": "code",
   "execution_count": 2,
   "metadata": {
    "collapsed": false,
    "deletable": true,
    "editable": true
   },
   "outputs": [],
   "source": [
    "sys.path.insert(0, '../src')\n",
    "\n",
    "import waveform as wave\n",
    "import waveformset as ws\n",
    "import trainingset as train\n",
    "import taylorf2\n",
    "import gaussianprocessregression as gpr\n",
    "import designofexperiment as doe\n",
    "#import pycbcwaveform as pycbcwave\n",
    "import lalwaveform\n",
    "import plotparams\n",
    "import greedy\n",
    "import empiricalinterpolation as eim\n",
    "import surrogate\n",
    "import diagnostics\n",
    "import fisher\n",
    "\n",
    "import imp\n",
    "imp.reload(wave)\n",
    "imp.reload(ws)\n",
    "imp.reload(train)\n",
    "imp.reload(taylorf2)\n",
    "imp.reload(gpr)\n",
    "imp.reload(doe)\n",
    "#imp.reload(pycbcwave)\n",
    "imp.reload(lalwaveform)\n",
    "imp.reload(greedy)\n",
    "imp.reload(eim)\n",
    "imp.reload(surrogate)\n",
    "imp.reload(diagnostics)\n",
    "imp.reload(fisher)\n",
    "\n",
    "import constants\n",
    "imp.reload(constants)\n",
    "from constants import *"
   ]
  },
  {
   "cell_type": "markdown",
   "metadata": {
    "deletable": true,
    "editable": true
   },
   "source": [
    "# Load GPSurrogate and WaveformSets"
   ]
  },
  {
   "cell_type": "code",
   "execution_count": 3,
   "metadata": {
    "collapsed": false,
    "deletable": true,
    "editable": true
   },
   "outputs": [],
   "source": [
    "# Bamp_filename = '../data/Bamp.hdf5'\n",
    "# Bphase_filename = '../data/Bphase.hdf5'\n",
    "# damp_gp_filename = '../data/amp_gp.hdf5'\n",
    "# dphase_gp_filename = '../data/phase_gp.hdf5'\n",
    "# sur = surrogate.GPSurrogate.load(Bamp_filename, Bphase_filename, damp_gp_filename, dphase_gp_filename)\n",
    "\n",
    "# Bamp_filename = '../data/Bamp_p00015.hdf5'\n",
    "# Bphase_filename = '../data/Bphase_p00015.hdf5'\n",
    "# damp_gp_filename = '../data/amp_gp_p00015.hdf5'\n",
    "# dphase_gp_filename = '../data/phase_gp_p00015.hdf5'\n",
    "# sur = surrogate.GPSurrogate.load(Bamp_filename, Bphase_filename, damp_gp_filename, dphase_gp_filename)\n",
    "\n",
    "Bamp_filename = '../data/Bamp_p00015_n1056.hdf5'\n",
    "Bphase_filename = '../data/Bphase_p00015_n1056.hdf5'\n",
    "damp_gp_filename = '../data/amp_gp_p00015_n1056.hdf5'\n",
    "dphase_gp_filename = '../data/phase_gp_p00015_n1056.hdf5'\n",
    "sur = surrogate.GPSurrogate.load(Bamp_filename, Bphase_filename, damp_gp_filename, dphase_gp_filename)"
   ]
  },
  {
   "cell_type": "markdown",
   "metadata": {},
   "source": [
    "# Compare Evaluation time"
   ]
  },
  {
   "cell_type": "code",
   "execution_count": 4,
   "metadata": {
    "collapsed": true
   },
   "outputs": [],
   "source": [
    "mass1 = 1.4\n",
    "mass2 = 1.4\n",
    "spin1z = 0.\n",
    "spin2z = 0.\n",
    "lambda1 = 1000.\n",
    "lambda2 = 1000.\n",
    "distance = 100.\n",
    "inclination = 1.1\n",
    "\n",
    "\n",
    "#f_lower = 11.\n",
    "f_lower = 30.\n",
    "f_sample = 4096."
   ]
  },
  {
   "cell_type": "code",
   "execution_count": 5,
   "metadata": {
    "collapsed": false
   },
   "outputs": [
    {
     "name": "stdout",
     "output_type": "stream",
     "text": [
      "1.32511901855\n"
     ]
    }
   ],
   "source": [
    "approximant = 'SpinTaylorT4'\n",
    "\n",
    "delta_t = 1.0/f_sample\n",
    "\n",
    "t0 = time()\n",
    "\n",
    "hp, hc = pycbc.waveform.get_td_waveform(\n",
    "    approximant=approximant,\n",
    "    mass1=mass1, mass2=mass2,\n",
    "    spin1z=spin1z, spin2z=spin2z, \n",
    "    lambda1=lambda1, lambda2=lambda2, \n",
    "    distance=distance, inclination=inclination,\n",
    "    delta_t=delta_t, f_lower=f_lower)\n",
    "\n",
    "hp_tilde = hp.to_frequencyseries()\n",
    "hc_tilde = hc.to_frequencyseries()\n",
    "\n",
    "dt = time() - t0\n",
    "print dt"
   ]
  },
  {
   "cell_type": "code",
   "execution_count": 6,
   "metadata": {
    "collapsed": false
   },
   "outputs": [
    {
     "name": "stdout",
     "output_type": "stream",
     "text": [
      "0.127074956894\n"
     ]
    }
   ],
   "source": [
    "approximant = 'TEOBResum_ROM'\n",
    "\n",
    "delta_t = 1.0/f_sample\n",
    "\n",
    "t0 = time()\n",
    "\n",
    "hp, hc = pycbc.waveform.get_td_waveform(\n",
    "    approximant=approximant,\n",
    "    mass1=mass1, mass2=mass2,\n",
    "    spin1z=spin1z, spin2z=spin2z, \n",
    "    lambda1=lambda1, lambda2=lambda2, \n",
    "    distance=distance, inclination=inclination,\n",
    "    delta_t=delta_t, f_lower=f_lower)\n",
    "\n",
    "hp_tilde = hp.to_frequencyseries()\n",
    "hc_tilde = hc.to_frequencyseries()\n",
    "\n",
    "dt = time() - t0\n",
    "print dt"
   ]
  },
  {
   "cell_type": "code",
   "execution_count": 7,
   "metadata": {
    "collapsed": false
   },
   "outputs": [
    {
     "name": "stdout",
     "output_type": "stream",
     "text": [
      "0.0571041107178\n"
     ]
    }
   ],
   "source": [
    "f_min = f_lower\n",
    "f_max = hp_tilde.sample_frequencies[-1]\n",
    "delta_f = hp_tilde.delta_f\n",
    "\n",
    "t0 = time()\n",
    "\n",
    "freq, hp_lal, hc_lal = sur.physical_waveform_lal(\n",
    "    mass1=mass1, mass2=mass2, \n",
    "    spin1z=spin1z, spin2z=spin2z, \n",
    "    lambda1=lambda1, lambda2=lambda2,\n",
    "    distance=distance, inclination=inclination, \n",
    "    f_min=f_min, f_max=f_max, delta_f=delta_f, \n",
    "    f_ref=None, phi_ref=None)\n",
    "\n",
    "# hp_tilde, hc_tilde = sur.physical_waveform_pycbc(\n",
    "#     mass1=mass1, mass2=mass2, \n",
    "#     spin1z=spin1z, spin2z=spin2z, \n",
    "#     lambda1=lambda1, lambda2=lambda2,\n",
    "#     distance=distance, inclination=inclination, \n",
    "#     f_min=f_min, f_max=f_max, delta_f=delta_f, \n",
    "#     f_ref=None, phi_ref=None)\n",
    "\n",
    "dt = time() - t0\n",
    "print dt"
   ]
  },
  {
   "cell_type": "code",
   "execution_count": 8,
   "metadata": {
    "collapsed": false
   },
   "outputs": [
    {
     "name": "stdout",
     "output_type": "stream",
     "text": [
      "0.0183125290604\n",
      "2048.0\n"
     ]
    }
   ],
   "source": [
    "print hp_tilde.delta_f\n",
    "print hp_tilde.sample_frequencies[-1]"
   ]
  },
  {
   "cell_type": "code",
   "execution_count": 9,
   "metadata": {
    "collapsed": false
   },
   "outputs": [
    {
     "name": "stdout",
     "output_type": "stream",
     "text": [
      "0.00856399536133\n"
     ]
    }
   ],
   "source": [
    "approximant = 'TaylorF2'\n",
    "\n",
    "t0 = time()\n",
    "\n",
    "hp_tilde, hc_tilde = pycbc.waveform.get_fd_waveform(\n",
    "    approximant=approximant,\n",
    "    mass1=mass1, mass2=mass2,\n",
    "    spin1z=spin1z, spin2z=spin2z, \n",
    "    lambda1=lambda1, lambda2=lambda2, \n",
    "    distance=distance, inclination=inclination,\n",
    "    delta_f=delta_f, f_lower=f_lower)\n",
    "\n",
    "dt = time() - t0\n",
    "print dt"
   ]
  },
  {
   "cell_type": "code",
   "execution_count": 12,
   "metadata": {
    "collapsed": false
   },
   "outputs": [
    {
     "name": "stdout",
     "output_type": "stream",
     "text": [
      "0.196574926376\n"
     ]
    }
   ],
   "source": [
    "approximant = 'SEOBNRv2_ROM_DoubleSpin_HI'\n",
    "\n",
    "t0 = time()\n",
    "\n",
    "hp_tilde, hc_tilde = pycbc.waveform.get_fd_waveform(\n",
    "    approximant=approximant,\n",
    "    mass1=mass1, mass2=mass2,\n",
    "    spin1z=spin1z, spin2z=spin2z, \n",
    "    distance=distance, inclination=inclination,\n",
    "    delta_f=delta_f, f_lower=f_lower)\n",
    "\n",
    "dt = time() - t0\n",
    "print dt"
   ]
  },
  {
   "cell_type": "markdown",
   "metadata": {},
   "source": [
    "# Compare timing of several waveforms as function of f_lower"
   ]
  },
  {
   "cell_type": "code",
   "execution_count": 13,
   "metadata": {
    "collapsed": true
   },
   "outputs": [],
   "source": [
    "def time_waveforms(\n",
    "    mass1=mass1, mass2=mass2,\n",
    "    spin1z=spin1z, spin2z=spin2z, \n",
    "    lambda1=lambda1, lambda2=lambda2, \n",
    "    distance=distance, inclination=inclination,\n",
    "    delta_t=delta_t, f_lower=f_lower):\n",
    "    \"\"\"\n",
    "    \"\"\"\n",
    "    ######## time domain ########\n",
    "    \n",
    "    approximant = 'SpinTaylorT4'\n",
    "    t0 = time()\n",
    "    hp, hc = pycbc.waveform.get_td_waveform(\n",
    "        approximant=approximant,\n",
    "        mass1=mass1, mass2=mass2,\n",
    "        spin1z=spin1z, spin2z=spin2z, \n",
    "        lambda1=lambda1, lambda2=lambda2, \n",
    "        distance=distance, inclination=inclination,\n",
    "        delta_t=delta_t, f_lower=f_lower)\n",
    "    hp_tilde = hp.to_frequencyseries()\n",
    "    hc_tilde = hc.to_frequencyseries()\n",
    "    dt_t4 = time() - t0\n",
    "    \n",
    "    approximant = 'TEOBResum_ROM'\n",
    "    t0 = time()\n",
    "    hp, hc = pycbc.waveform.get_td_waveform(\n",
    "        approximant=approximant,\n",
    "        mass1=mass1, mass2=mass2,\n",
    "        spin1z=spin1z, spin2z=spin2z, \n",
    "        lambda1=lambda1, lambda2=lambda2, \n",
    "        distance=distance, inclination=inclination,\n",
    "        delta_t=delta_t, f_lower=f_lower)\n",
    "    hp_tilde = hp.to_frequencyseries()\n",
    "    hc_tilde = hc.to_frequencyseries()\n",
    "    dt_teob_resum = time() - t0\n",
    "    \n",
    "    ######### frequency domain #########\n",
    "    \n",
    "    f_min = f_lower\n",
    "    f_max = hp_tilde.sample_frequencies[-1]\n",
    "    delta_f = hp_tilde.delta_f\n",
    "    \n",
    "    t0 = time()\n",
    "#     freq, hp_lal, hc_lal = sur.physical_waveform_lal(\n",
    "#         mass1=mass1, mass2=mass2, \n",
    "#         spin1z=spin1z, spin2z=spin2z, \n",
    "#         lambda1=lambda1, lambda2=lambda2,\n",
    "#         distance=distance, inclination=inclination, \n",
    "#         f_min=f_min, f_max=f_max, delta_f=delta_f, \n",
    "#         f_ref=None, phi_ref=None)\n",
    "    hp_tilde, hc_tilde = sur.physical_waveform_pycbc(\n",
    "        mass1=mass1, mass2=mass2, \n",
    "        spin1z=spin1z, spin2z=spin2z, \n",
    "        lambda1=lambda1, lambda2=lambda2,\n",
    "        distance=distance, inclination=inclination, \n",
    "        f_min=f_min, f_max=f_max, delta_f=delta_f, \n",
    "        f_ref=None, phi_ref=None)\n",
    "    dt_sur = time() - t0\n",
    "    #print len(freq)\n",
    "    print len(hp_tilde.sample_frequencies)\n",
    "    \n",
    "    approximant = 'SEOBNRv2_ROM_DoubleSpin_HI'\n",
    "    t0 = time()\n",
    "    hp_tilde, hc_tilde = pycbc.waveform.get_fd_waveform(\n",
    "        approximant=approximant,\n",
    "        mass1=mass1, mass2=mass2,\n",
    "        spin1z=spin1z, spin2z=spin2z, \n",
    "        distance=distance, inclination=inclination,\n",
    "        delta_f=delta_f, f_lower=f_lower)\n",
    "    dt_seob_rom = time() - t0\n",
    "    \n",
    "    approximant = 'TaylorF2'\n",
    "    t0 = time()\n",
    "    hp_tilde, hc_tilde = pycbc.waveform.get_fd_waveform(\n",
    "        approximant=approximant,\n",
    "        mass1=mass1, mass2=mass2,\n",
    "        spin1z=spin1z, spin2z=spin2z, \n",
    "        lambda1=lambda1, lambda2=lambda2, \n",
    "        distance=distance, inclination=inclination,\n",
    "        delta_f=delta_f, f_lower=f_lower)\n",
    "    dt_f2 = time() - t0\n",
    "    print len(hp_tilde.sample_frequencies)\n",
    "    \n",
    "    return dt_t4, dt_teob_resum, dt_sur, dt_seob_rom, dt_f2"
   ]
  },
  {
   "cell_type": "code",
   "execution_count": 14,
   "metadata": {
    "collapsed": false
   },
   "outputs": [
    {
     "name": "stdout",
     "output_type": "stream",
     "text": [
      "11.0\n",
      "1614614\n",
      "1238097\n",
      "15\n",
      "707457\n",
      "542483\n",
      "20.0\n",
      "329063\n",
      "252328\n",
      "30.0\n",
      "111836\n",
      "85757\n",
      "40.0\n",
      "51968\n",
      "39850\n",
      "50.0\n",
      "28659\n",
      "21976\n",
      "60.0\n",
      "17609\n",
      "13504\n",
      "70.0\n",
      "11658\n",
      "8940\n",
      "80.0\n",
      "8150\n",
      "6250\n",
      "90.0\n",
      "5939\n",
      "4555\n",
      "100.0\n",
      "4472\n",
      "3430\n"
     ]
    }
   ],
   "source": [
    "mass1 = 1.4\n",
    "mass2 = 1.4\n",
    "spin1z = 0.\n",
    "spin2z = 0.\n",
    "lambda1 = 1000.\n",
    "lambda2 = 1000.\n",
    "distance = 100.\n",
    "inclination = 1.1\n",
    "\n",
    "f_sample = 4096.\n",
    "flows = [11., 15, 20., 30., 40., 50., 60., 70., 80., 90., 100.]\n",
    "\n",
    "times_of_flow = []\n",
    "for f_lower in flows:\n",
    "    print f_lower\n",
    "    times = time_waveforms(\n",
    "        mass1=mass1, mass2=mass2,\n",
    "        spin1z=spin1z, spin2z=spin2z, \n",
    "        lambda1=lambda1, lambda2=lambda2, \n",
    "        distance=distance, inclination=inclination,\n",
    "        delta_t=delta_t, f_lower=f_lower)\n",
    "    \n",
    "    times_of_flow.append(times)\n",
    "\n",
    "times_of_flow = np.array(times_of_flow)"
   ]
  },
  {
   "cell_type": "code",
   "execution_count": 15,
   "metadata": {
    "collapsed": false
   },
   "outputs": [
    {
     "data": {
      "text/plain": [
       "array([[  2.2537e+00,   8.4779e-01,   1.9545e-01,   2.6697e+00,   3.1319e-01],\n",
       "       [  9.2475e-01,   4.5481e-01,   9.5659e-02,   1.0125e+00,   1.3235e-01],\n",
       "       [  6.7251e-01,   1.7453e-01,   6.4003e-02,   4.7421e-01,   5.2682e-02],\n",
       "       [  1.9767e-01,   8.0711e-02,   4.7734e-02,   1.8331e-01,   2.0885e-02],\n",
       "       [  1.2760e-01,   6.6895e-02,   4.7252e-02,   9.4912e-02,   1.0214e-02],\n",
       "       [  4.7356e-02,   5.0316e-02,   4.3098e-02,   4.8484e-02,   6.0499e-03],\n",
       "       [  3.6211e-02,   4.5216e-02,   4.3716e-02,   2.7841e-02,   2.0239e-03],\n",
       "       [  2.3605e-02,   5.3099e-02,   4.7971e-02,   1.8667e-02,   8.3494e-04],\n",
       "       [  1.2824e-02,   4.1417e-02,   4.2626e-02,   1.5308e-02,   7.8416e-04],\n",
       "       [  1.2369e-02,   3.6917e-02,   4.4265e-02,   1.0086e-02,   6.3300e-04],\n",
       "       [  1.3689e-02,   3.1553e-02,   4.6484e-02,   8.4691e-03,   5.0497e-04]])"
      ]
     },
     "execution_count": 15,
     "metadata": {},
     "output_type": "execute_result"
    }
   ],
   "source": [
    "times_of_flow"
   ]
  },
  {
   "cell_type": "code",
   "execution_count": 22,
   "metadata": {
    "collapsed": false
   },
   "outputs": [
    {
     "data": {
      "image/png": "[encoded data removed]",
      "text/plain": [
       "<matplotlib.figure.Figure at 0x18dbab850>"
      ]
     },
     "metadata": {},
     "output_type": "display_data"
    }
   ],
   "source": [
    "fig = plt.figure(figsize=(8, 6))\n",
    "axes = fig.add_subplot(111)\n",
    "\n",
    "axes.plot(flows, times_of_flow[:, 0], lw=3, label='SpinTaylorT4')\n",
    "axes.plot(flows, times_of_flow[:, 1], lw=3, label='TEOBResum-ROM')\n",
    "axes.plot(flows, times_of_flow[:, 2], lw=3, ls='--', label='GPR surrogate')\n",
    "axes.plot(flows, times_of_flow[:, 3], lw=3, label='SEOBNRv2-ROM-DoubleSpin-HI')\n",
    "axes.plot(flows, times_of_flow[:, 4], lw=3, label='TaylorF2')\n",
    "\n",
    "axes.set_yscale('log')\n",
    "axes.set_xlim([0., 100.0])\n",
    "#axes.set_ylim([0.03, 10.0])\n",
    "axes.minorticks_on()\n",
    "axes.set_xlabel(r'Starting frequency (Hz)')\n",
    "axes.set_ylabel(r'Evaluation time (s)')\n",
    "axes.legend(loc='upper right')\n",
    "axes.grid(which='major', c='k')\n",
    "axes.grid(which='minor')"
   ]
  },
  {
   "cell_type": "code",
   "execution_count": null,
   "metadata": {
    "collapsed": true
   },
   "outputs": [],
   "source": []
  },
  {
   "cell_type": "code",
   "execution_count": 201,
   "metadata": {
    "collapsed": false
   },
   "outputs": [
    {
     "name": "stdout",
     "output_type": "stream",
     "text": [
      "0 TaylorT1\n",
      "1 TaylorT2\n",
      "2 TaylorT3\n",
      "3 TaylorF1\n",
      "4 EccentricFD\n",
      "5 TaylorF2\n",
      "6 TaylorF2NLTides\n",
      "7 TaylorR2F4\n",
      "8 TaylorF2RedSpin\n",
      "9 TaylorF2RedSpinTidal\n",
      "10 PadeT1\n",
      "11 PadeF1\n",
      "12 EOB\n",
      "13 BCV\n",
      "14 BCVSpin\n",
      "15 SpinTaylorT1\n",
      "16 SpinTaylorT2\n",
      "17 SpinTaylorT3\n",
      "18 SpinTaylorT4\n",
      "19 SpinTaylorT5\n",
      "20 SpinTaylorF2\n",
      "21 SpinTaylorFrameless\n",
      "22 SpinTaylor\n",
      "23 PhenSpinTaylor\n",
      "24 PhenSpinTaylorRD\n",
      "25 SpinQuadTaylor\n",
      "26 FindChirpSP\n",
      "27 FindChirpPTF\n",
      "28 GeneratePPN\n",
      "29 BCVC\n",
      "30 FrameFile\n",
      "31 AmpCorPPN\n",
      "32 NumRel\n",
      "33 NumRelNinja2\n",
      "34 Eccentricity\n",
      "35 EOBNR\n",
      "36 EOBNRv2\n",
      "37 EOBNRv2HM\n",
      "38 EOBNRv2_ROM\n",
      "39 EOBNRv2HM_ROM\n",
      "40 TEOBResum_ROM\n",
      "41 SEOBNRv1\n",
      "42 SEOBNRv2\n",
      "43 SEOBNRv2_opt\n",
      "44 SEOBNRv3\n",
      "45 SEOBNRv3_pert\n",
      "46 SEOBNRv3_opt\n",
      "47 SEOBNRv3_opt_rk4\n",
      "48 SEOBNRv4\n",
      "49 SEOBNRv4_opt\n",
      "50 SEOBNRv1_ROM_EffectiveSpin\n",
      "51 SEOBNRv1_ROM_DoubleSpin\n",
      "52 SEOBNRv2_ROM_EffectiveSpin\n",
      "53 SEOBNRv2_ROM_DoubleSpin\n",
      "54 SEOBNRv2_ROM_DoubleSpin_HI\n",
      "55 Lackey_Tidal_2013_SEOBNRv2_ROM\n",
      "56 SEOBNRv4_ROM\n",
      "57 HGimri\n",
      "58 IMRPhenomA\n",
      "59 IMRPhenomB\n",
      "60 IMRPhenomFA\n",
      "61 IMRPhenomFB\n",
      "62 IMRPhenomC\n",
      "63 IMRPhenomD\n",
      "64 IMRPhenomP\n",
      "65 IMRPhenomPv2\n",
      "66 IMRPhenomFC\n",
      "67 TaylorEt\n",
      "68 TaylorT4\n",
      "69 EccentricTD\n",
      "70 TaylorN\n",
      "71 SpinTaylorT4Fourier\n",
      "72 SpinTaylorT2Fourier\n",
      "73 SpinDominatedWf\n",
      "74 NR_hdf5\n"
     ]
    }
   ],
   "source": [
    "lalwaveform.print_all_approximants()"
   ]
  },
  {
   "cell_type": "code",
   "execution_count": null,
   "metadata": {
    "collapsed": true
   },
   "outputs": [],
   "source": []
  },
  {
   "cell_type": "code",
   "execution_count": null,
   "metadata": {
    "collapsed": true
   },
   "outputs": [],
   "source": []
  },
  {
   "cell_type": "code",
   "execution_count": null,
   "metadata": {
    "collapsed": true
   },
   "outputs": [],
   "source": []
  },
  {
   "cell_type": "code",
   "execution_count": null,
   "metadata": {
    "collapsed": true
   },
   "outputs": [],
   "source": []
  },
  {
   "cell_type": "code",
   "execution_count": null,
   "metadata": {
    "collapsed": true
   },
   "outputs": [],
   "source": []
  },
  {
   "cell_type": "code",
   "execution_count": null,
   "metadata": {
    "collapsed": true
   },
   "outputs": [],
   "source": []
  },
  {
   "cell_type": "markdown",
   "metadata": {},
   "source": [
    "# Old junk"
   ]
  },
  {
   "cell_type": "code",
   "execution_count": 31,
   "metadata": {
    "collapsed": false
   },
   "outputs": [
    {
     "name": "stdout",
     "output_type": "stream",
     "text": [
      "1.16720294952\n"
     ]
    }
   ],
   "source": [
    "# approximant = 'TEOBResum_ROM'\n",
    "approximant = 'SpinTaylorT4'\n",
    "f_sample = 2*f_max\n",
    "f_lower = f_min\n",
    "\n",
    "delta_t = 1.0/f_sample\n",
    "distance, inclination = 100.0, 0.0\n",
    "\n",
    "\n",
    "t0 = time()\n",
    "\n",
    "hp, hc = pycbc.waveform.get_td_waveform(\n",
    "    approximant=approximant,\n",
    "    mass1=mass1, mass2=mass2,\n",
    "    spin1z=spin1z, spin2z=spin2z, \n",
    "    lambda1=lambda1, lambda2=lambda2, \n",
    "    distance=distance, inclination=inclination,\n",
    "    delta_t=delta_t, f_lower=f_lower)\n",
    "\n",
    "hp_tilde = hp.to_frequencyseries()\n",
    "hc_tilde = hc.to_frequencyseries()\n",
    "dt = time() - t0\n",
    "print dt"
   ]
  },
  {
   "cell_type": "code",
   "execution_count": 32,
   "metadata": {
    "collapsed": false
   },
   "outputs": [
    {
     "data": {
      "text/plain": [
       "0.0034371470336984743"
      ]
     },
     "execution_count": 32,
     "metadata": {},
     "output_type": "execute_result"
    }
   ],
   "source": [
    "hp_tilde.delta_f"
   ]
  },
  {
   "cell_type": "code",
   "execution_count": null,
   "metadata": {
    "collapsed": true
   },
   "outputs": [],
   "source": [
    "def calculate_time(f_lower, f_sample, approximant, neval=5):\n",
    "    \"\"\"\n",
    "    \"\"\"\n",
    "    \n",
    "    #######\n",
    "    phiRef=0.0\n",
    "    #######\n",
    "    \n",
    "    distance, inclination = 100.0, 0.0\n",
    "    mass1, mass2, lambda1, lambda2 = 1.4, 1.4, 4000.0, 4000.0\n",
    "    \n",
    "    delta_t = 1.0/f_sample\n",
    "    \n",
    "    times = np.zeros(neval+1)\n",
    "    times[0] = time.clock()\n",
    "    for n in range(neval):\n",
    "        if approximant=='rom':\n",
    "            reduced_order_model_time_series(rom, \n",
    "                mass1=mass1, mass2=mass2, lambda1=lambda1, lambda2=lambda2, \n",
    "                delta_t=delta_t, f_lower=f_lower, f_ref=None, \n",
    "                distance=distance, inclination=inclination, coa_phase=None)\n",
    "        elif approximant=='TEOBResum_ROM':\n",
    "            phiRef=0.0\n",
    "            fLow = f_lower\n",
    "            fRef = f_lower\n",
    "            #fLow=50.0\n",
    "            #fRef=50.0\n",
    "            distance=100.0e6*lal.PC_SI\n",
    "            inclination=0.0\n",
    "            m1SI=mass1*lal.MSUN_SI\n",
    "            m2SI=mass2*lal.MSUN_SI\n",
    "            lalsimulation.SimInspiralTEOBResumROM(phiRef,delta_t,fLow,fRef,distance,inclination,m1SI,m2SI,lambda1,lambda2)\n",
    "        else:\n",
    "            pycbc.waveform.get_td_waveform(approximant=approximant,\n",
    "                mass1=mass1, mass2=mass2, \n",
    "                distance=distance, inclination=inclination,\n",
    "                delta_t=delta_t, f_lower=f_lower)\n",
    "        times[n+1] = time.clock()\n",
    "    \n",
    "    dts = times[1:]-times[:-1]\n",
    "    #return dts, (times[-1]-times[0])/neval, np.sum(dts)/neval, np.std(dts)\n",
    "    return (times[-1]-times[0])/neval, np.std(dts)"
   ]
  },
  {
   "cell_type": "code",
   "execution_count": null,
   "metadata": {
    "collapsed": true
   },
   "outputs": [],
   "source": [
    "# fl = 10\n",
    "# fh = 100\n",
    "# df = 5\n",
    "# f_lowers = np.arange(fl, fh, df)\n",
    "f_lowers = np.array([10, 11, 12, 14, 16, 18, 20, 30, 40, 50, 60, 70, 80, 90, 100])\n",
    "\n",
    "neval = 16\n",
    "\n",
    "f_sample = 2**12\n",
    "ROMpy4k = np.array([calculate_time(f_lower, f_sample, 'rom', neval=neval) for f_lower in f_lowers])\n",
    "ROMlal4k = np.array([calculate_time(f_lower, f_sample, 'TEOBResum_ROM', neval=neval) for f_lower in f_lowers])\n",
    "\n",
    "f_sample = 2**14\n",
    "ROMpy16k = np.array([calculate_time(f_lower, f_sample, 'rom', neval=neval) for f_lower in f_lowers])\n",
    "ROMlal16k = np.array([calculate_time(f_lower, f_sample, 'TEOBResum_ROM', neval=neval) for f_lower in f_lowers])"
   ]
  },
  {
   "cell_type": "code",
   "execution_count": null,
   "metadata": {
    "collapsed": true
   },
   "outputs": [],
   "source": [
    "fig = plt.figure(figsize=(8, 6))\n",
    "axes = fig.add_subplot(111)\n",
    "\n",
    "axes.plot(f_lowers, ROMlal4k[:, 0], lw=2, label=r'$\\Delta f = 4096$Hz')\n",
    "axes.plot(f_lowers, ROMlal16k[:, 0], lw=2, ls='--', label=r'$\\Delta f = 16384$Hz')\n",
    "\n",
    "\n",
    "axes.set_yscale('log')\n",
    "axes.set_xlim([10, 100.0])\n",
    "#axes.set_ylim([0.03, 10.0])\n",
    "axes.minorticks_on()\n",
    "axes.set_xlabel(r'Starting frequency (Hz)')\n",
    "axes.set_ylabel(r'Evaluation time (s)')\n",
    "axes.legend(loc='upper right')"
   ]
  },
  {
   "cell_type": "code",
   "execution_count": null,
   "metadata": {
    "collapsed": true
   },
   "outputs": [],
   "source": []
  },
  {
   "cell_type": "code",
   "execution_count": null,
   "metadata": {
    "collapsed": true
   },
   "outputs": [],
   "source": []
  },
  {
   "cell_type": "code",
   "execution_count": 160,
   "metadata": {
    "collapsed": false
   },
   "outputs": [
    {
     "data": {
      "text/plain": [
       "59049"
      ]
     },
     "execution_count": 160,
     "metadata": {},
     "output_type": "execute_result"
    }
   ],
   "source": [
    "9**5"
   ]
  },
  {
   "cell_type": "code",
   "execution_count": null,
   "metadata": {
    "collapsed": true
   },
   "outputs": [],
   "source": []
  }
 ],
 "metadata": {
  "kernelspec": {
   "display_name": "Python 2",
   "language": "python",
   "name": "python2"
  },
  "language_info": {
   "codemirror_mode": {
    "name": "ipython",
    "version": 2
   },
   "file_extension": ".py",
   "mimetype": "text/x-python",
   "name": "python",
   "nbconvert_exporter": "python",
   "pygments_lexer": "ipython2",
   "version": "2.7.13"
  }
 },
 "nbformat": 4,
 "nbformat_minor": 1
}
