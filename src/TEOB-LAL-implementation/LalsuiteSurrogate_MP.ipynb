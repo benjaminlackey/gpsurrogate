{
 "cells": [
  {
   "cell_type": "markdown",
   "metadata": {},
   "source": [
    "**Compare and debug the C LAL implementation of the surrogate**"
   ]
  },
  {
   "cell_type": "code",
   "execution_count": 1,
   "metadata": {},
   "outputs": [
    {
     "name": "stdout",
     "output_type": "stream",
     "text": [
      "Populating the interactive namespace from numpy and matplotlib\n"
     ]
    }
   ],
   "source": [
    "%pylab inline\n",
    "\n",
    "import numpy as np\n",
    "import matplotlib.pyplot as plt\n",
    "from mpl_toolkits.mplot3d import Axes3D\n",
    "\n",
    "np.set_printoptions(precision=6, linewidth=110)"
   ]
  },
  {
   "cell_type": "code",
   "execution_count": 2,
   "metadata": {
    "collapsed": true
   },
   "outputs": [],
   "source": [
    "import h5py\n",
    "from scipy import interpolate"
   ]
  },
  {
   "cell_type": "code",
   "execution_count": 3,
   "metadata": {},
   "outputs": [
    {
     "name": "stderr",
     "output_type": "stream",
     "text": [
      "__init__: Setting weave cache to /var/folders/8s/kg3qdn9s10v11v8zq2fgf94h0000gn/T/501_python27_compiled/f26702/f26702be568e3c613857548d8158e9baa1c66daf\n"
     ]
    },
    {
     "name": "stdout",
     "output_type": "stream",
     "text": [
      "\n"
     ]
    }
   ],
   "source": [
    "sys.path.insert(0, '../../src')\n",
    "\n",
    "import waveform as wave\n",
    "import waveformset as ws\n",
    "import trainingset as train\n",
    "import taylorf2 as f2\n",
    "import gaussianprocessregression as gpr\n",
    "import designofexperiment as doe\n",
    "import lalwaveform\n",
    "import plotparams\n",
    "import greedy\n",
    "import empiricalinterpolation as eim\n",
    "import surrogate\n",
    "import diagnostics\n",
    "import uncertaintysampling as us\n",
    "\n",
    "import lal\n",
    "import lalsimulation as LS\n",
    "\n",
    "import imp\n",
    "imp.reload(wave)\n",
    "imp.reload(ws)\n",
    "imp.reload(train)\n",
    "imp.reload(f2)\n",
    "imp.reload(gpr)\n",
    "imp.reload(doe)\n",
    "imp.reload(lalwaveform)\n",
    "imp.reload(greedy)\n",
    "imp.reload(eim)\n",
    "imp.reload(surrogate)\n",
    "imp.reload(diagnostics)\n",
    "imp.reload(us)\n",
    "\n",
    "import lalsimulation\n",
    "reload(lalsimulation)\n",
    "import lalsimulation as LS\n",
    "\n",
    "import constants\n",
    "imp.reload(constants)\n",
    "from constants import *"
   ]
  },
  {
   "cell_type": "markdown",
   "metadata": {
    "heading_collapsed": true
   },
   "source": [
    "# Notes"
   ]
  },
  {
   "cell_type": "markdown",
   "metadata": {
    "hidden": true
   },
   "source": [
    "Ben: \n",
    "  * data file for my new method of generating surrogates using splines instead of reduced bases. \n",
    "  * The class in the gpsurrogate repository that implements this is called `GPSplineSurrogate`: https://github.com/benjaminlackey/gpsurrogate/blob/master/src/surrogate.py#L498\n",
    "  * Still using `taylorf2_amp_1pn` in https://github.com/benjaminlackey/gpsurrogate/blob/master/src/taylorf2.py#L237\n",
    "  "
   ]
  },
  {
   "cell_type": "markdown",
   "metadata": {
    "hidden": true
   },
   "source": [
    "Ben: The relevant functions for doing the interpolation are kernel() and gp_predict() found here:\n",
    "https://github.com/benjaminlackey/gpsurrogate/blob/master/notebooks/EOB/LalsuiteSurrogate.ipynb\n",
    "They take in arrays and return scalars.\n",
    "\n",
    "* The output of gp_predict() are the amplitude and phase at the EI nodes\n",
    "* Dot these into the amplitude and phase bases that should also be in the HDF5 file\n",
    "* To obtain the waveform need the TF2 waveform: [taylorf2.py](https://github.com/benjaminlackey/gpsurrogate/blob/master/src/taylorf2.py)\n",
    "* Take a look at the surrogate class: surrogate.py\n",
    "  - See [reconstruct_amp_phase_difference()](https://github.com/benjaminlackey/gpsurrogate/blob/master/src/surrogate.py#L142)\n",
    "\n",
    "\n",
    "```\n",
    "    namp_nodes = len(damp_gp_list)\n",
    "    nphase_nodes = len(dphase_gp_list)\n",
    "\n",
    "    # Calculate waveform at nodes\n",
    "    amp_at_nodes = np.array([damp_gp_list[j].predict(np.atleast_2d(params))[0] for j in range(namp_nodes)])\n",
    "    phase_at_nodes = np.array([dphase_gp_list[j].predict(np.atleast_2d(params))[0] for j in range(nphase_nodes)])\n",
    "\n",
    "    # Get complex version of B_j's in array form\n",
    "    Bamp_j_array = np.array([Bamp_j[j].amp for j in range(namp_nodes)])\n",
    "    Bphase_j_array = np.array([Bphase_j[j].phase for j in range(nphase_nodes)])\n",
    "\n",
    "    # Evaluate waveform\n",
    "    amp_interp = np.dot(amp_at_nodes, Bamp_j_array)\n",
    "    phase_interp = np.dot(phase_at_nodes, Bphase_j_array)\n",
    "\n",
    "    # Rewrite as TimeDomainWaveform\n",
    "    xarr = Bamp_j[0].x\n",
    "    return wave.Waveform.from_amp_phase(xarr, amp_interp, phase_interp)\n",
    "```\n",
    "\n",
    "\n",
    "Also\n",
    "```\n",
    "    jmax = len(B_j)\n",
    "    eps_f_j = np.array([gp_list[j].predict(np.atleast_2d(point), return_std=True)[1][0] \n",
    "                        for j in range(jmax)])\n",
    "    \n",
    "    # Get complex version of B_j's in array form\n",
    "    if data=='amp':\n",
    "        B_j_array = np.array([B_j[j].amp for j in range(jmax)])\n",
    "    elif data=='phase':\n",
    "        B_j_array = np.array([B_j[j].phase for j in range(jmax)])\n",
    "    else:\n",
    "        raise Exception\n",
    "\n",
    "    # Evaluate waveform\n",
    "    error_arr = np.dot(eps_f_j, B_j_array)\n",
    "\n",
    "    # Rewrite as TimeDomainWaveform\n",
    "    xarr = B_j[0].x\n",
    "    return xarr, error_arr\n",
    "\n",
    "```"
   ]
  },
  {
   "cell_type": "markdown",
   "metadata": {
    "hidden": true
   },
   "source": [
    "Check all hdf5 groups and attributes with:\n",
    "\n",
    "h5dump -n 1 lalsuitetest.hdf5\n",
    "\n",
    "This prints the description attribute:\n",
    "\n",
    "h5dump -a description lalsuitetest.hdf5 "
   ]
  },
  {
   "cell_type": "markdown",
   "metadata": {},
   "source": [
    "# Construct surrogate in way that can be directly converted to lalsuite code"
   ]
  },
  {
   "cell_type": "code",
   "execution_count": 4,
   "metadata": {
    "collapsed": true
   },
   "outputs": [],
   "source": [
    "def kernel(x1, x2, hyperparams):\n",
    "    \"\"\"Matern covariance function for n-dimensional data.\n",
    "    \n",
    "    Parameters\n",
    "    ----------\n",
    "    x1 : array with shape ndim\n",
    "    x2 : array with shape ndim\n",
    "    hyperparams : array with shape ndim+2 [sigma_f, ls0, ls1, ..., sigma_n]\n",
    "        sigma_f : Approximately the range (ymax-ymin) of values that the data takes.\n",
    "            sigma_f^2 called the signal variance.\n",
    "        sigma_n : Noise term. The uncertainty in the y values of the data.\n",
    "        lsi : Length scales for the variation in dimension i.\n",
    "    \n",
    "    Returns\n",
    "    -------\n",
    "    covariance : float\n",
    "    \"\"\"\n",
    "    sigma_f = hyperparams[0]\n",
    "    sigma_n = hyperparams[-1]\n",
    "    ls = hyperparams[1:-1]\n",
    "    ndim = len(ls)\n",
    "    \n",
    "    # Noise nugget for diagonal elements\n",
    "    if np.array_equal(x1, x2):\n",
    "        nugget = sigma_n**2\n",
    "    else:\n",
    "        nugget = 0.0\n",
    "    \n",
    "    # r**2\n",
    "    rsq = np.sum(np.array([(x1[i]-x2[i])**2 / ls[i]**2 for i in range(ndim)]))\n",
    "    r = np.sqrt(rsq)\n",
    "    \n",
    "    # nu = 5/2 Matern covariance\n",
    "    matern = (1. + np.sqrt(5.)*r + 5.*r**2/3.) * np.exp(-np.sqrt(5.)*r)\n",
    "    \n",
    "    # Full covariance\n",
    "    # You must include the nugget to agree with scikit-learn when the points x1, x2 are exactly the same\n",
    "    \n",
    "#     print \"** kernel **\"\n",
    "#     print \"x1 =\", x1\n",
    "#     print \"x2 =\", x2\n",
    "#     print \"ls =\", ls\n",
    "#     print \"(x1 - x2) / ls = \", np.array([(x1[i]-x2[i]) / ls[i] for i in range(ndim)])\n",
    "#     print \"r =\", r\n",
    "#     print \"eval =\", sigma_f**2 * matern + nugget\n",
    "    \n",
    "    return sigma_f**2 * matern + nugget"
   ]
  },
  {
   "cell_type": "code",
   "execution_count": 5,
   "metadata": {
    "collapsed": true
   },
   "outputs": [],
   "source": [
    "def gp_predict(xst, hyperparams, x_train, Kinv_dot_y):\n",
    "    \"\"\"Interpolate the function at the point xst using Gaussian process regression.\n",
    "    \n",
    "    Parameters\n",
    "    ----------\n",
    "    xst : array of shape ndim.\n",
    "        Point x_* where you want to evaluate the function.\n",
    "    hyperparams : array with shape ndim+2 [sigma_f, ls0, ls1, ..., sigma_n].\n",
    "        Hyperparameters for the GPR kernel.\n",
    "    x_train : array of shape (n_train, ndim).\n",
    "        Training set points.\n",
    "    Kinv_dot_y : array of shape n_train.\n",
    "        The interpolating weights at each training set point.\n",
    "    \n",
    "    Returns\n",
    "    -------\n",
    "    yst : float\n",
    "        Interpolated value at the point xst.\n",
    "    \"\"\"\n",
    "    # Evaluate vector K_*\n",
    "    Kst = np.array([kernel(xst, x, hyperparams) for x in x_train])\n",
    "#     print 'Kst', Kst\n",
    "#     print 'Kinv_dot_y', Kinv_dot_y[:]\n",
    "\n",
    "    # Evaluate y_*\n",
    "    return np.dot(Kst, Kinv_dot_y)"
   ]
  },
  {
   "cell_type": "code",
   "execution_count": 6,
   "metadata": {
    "collapsed": true
   },
   "outputs": [],
   "source": [
    "def extract_data_from_scikit_learn(gp):\n",
    "    \"\"\"Extract the data in the scikit-learn GaussianProcessRegressor class \n",
    "    that you need for the lalsuite version.\n",
    "    \"\"\"\n",
    "    # hyperparams = np.array([sigma_f, lq, ls1, ls2, llam1, llam2, sigma_n])\n",
    "    hyperparams = gpr.get_hyperparameters(gp)\n",
    "    \n",
    "    # The training data\n",
    "    x_train = gp.X_train_\n",
    "    y_train = gp.y_train_\n",
    "    \n",
    "    # Evaluate K\n",
    "    K = np.array([[kernel(x1, x2, hyperparams) for x2 in x_train] for x1 in x_train])\n",
    "    \n",
    "    # Evaluate K^{-1}\n",
    "    Kinv = np.linalg.inv(K)\n",
    "    \n",
    "    # Evaluate (K^{-1})_{ij} y_j (array of length nparams).\n",
    "    Kinv_dot_y = np.dot(Kinv, y_train)\n",
    "    \n",
    "    return hyperparams, x_train, Kinv_dot_y"
   ]
  },
  {
   "cell_type": "markdown",
   "metadata": {
    "heading_collapsed": true
   },
   "source": [
    "# Load scikit-learn (python) version of surrogate"
   ]
  },
  {
   "cell_type": "code",
   "execution_count": 45,
   "metadata": {
    "collapsed": true,
    "hidden": true
   },
   "outputs": [],
   "source": [
    "Bamp_filename = '../../data/teobtest40hz/B_amp_corners_lhd.hdf5'\n",
    "Bphase_filename = '../../data/teobtest40hz/B_phase_corners_lhd.hdf5'\n",
    "gp_amp_filename = '../../data/teobtest40hz/gp_amp_corners_lhd.hdf5'\n",
    "gp_phase_filename = '../../data/teobtest40hz/gp_phase_corners_lhd.hdf5'\n",
    "sur = surrogate.GPSurrogate.load(Bamp_filename, Bphase_filename, gp_amp_filename, gp_phase_filename)\n",
    "\n",
    "# Bamp_filename = '../../data/teobtest40hz/B_amp_lhd_uncsamp.hdf5'\n",
    "# Bphase_filename = '../../data/teobtest40hz/B_phase_lhd_uncsamp.hdf5'\n",
    "# gp_amp_filename = '../../data/teobtest40hz/gp_amp_lhd_uncsamp.hdf5'\n",
    "# gp_phase_filename = '../../data/teobtest40hz/gp_phase_lhd_uncsamp.hdf5'\n",
    "# sur = surrogate.GPSurrogate.load(Bamp_filename, Bphase_filename, gp_amp_filename, gp_phase_filename)"
   ]
  },
  {
   "cell_type": "code",
   "execution_count": 46,
   "metadata": {
    "hidden": true
   },
   "outputs": [
    {
     "name": "stdout",
     "output_type": "stream",
     "text": [
      "5.53723478181e-09\n",
      "6.42491049252e-09\n",
      "1.96401661601e-09\n",
      "5.68317459759e-09\n",
      "4.66294558521e-09\n",
      "2.28728636031e-09\n",
      "2.02868855048e-09\n",
      "2.36434094525e-10\n",
      "1.48636081221e-09\n",
      "2.49062059865e-09\n",
      "4.93199625584e-09\n",
      "1.76905234905e-09\n",
      "3.07067204997e-09\n",
      "1.08489428552e-09\n",
      "4.44460579452e-10\n",
      "2.02839578467e-09\n",
      "3.19912274449e-09\n",
      "3.97346355818e-09\n",
      "1.37696076763e-09\n",
      "3.79370002079e-09\n"
     ]
    }
   ],
   "source": [
    "#Random point:\n",
    "#x = np.array([0.8, 0.2, 0.1, 1000, 2000])\n",
    "\n",
    "# Point exactly in training set:\n",
    "x = np.array([3.333333e-01, -4.000000e-01, -4.000000e-01, 1.000000e-01, 1.000000e-01])\n",
    "\n",
    "for i in range(len(sur.dphase_gp_list)):\n",
    "    gp = sur.dphase_gp_list[i]\n",
    "    #gp = sur.dphase_gp_list[0]\n",
    "    hyperparams, x_train, Kinv_dot_y = extract_data_from_scikit_learn(gp)\n",
    "\n",
    "    a = gp.predict(np.atleast_2d(x))[0]\n",
    "    b = gp_predict(x, hyperparams, x_train, Kinv_dot_y)\n",
    "\n",
    "    #sigma_n = hyperparams[-1]\n",
    "    #print sigma_n\n",
    "    print np.abs(b/a-1.)"
   ]
  },
  {
   "cell_type": "markdown",
   "metadata": {
    "heading_collapsed": true
   },
   "source": [
    "# Generate hdf5 file for lalsuite version (old format)"
   ]
  },
  {
   "cell_type": "code",
   "execution_count": 139,
   "metadata": {
    "collapsed": true,
    "hidden": true
   },
   "outputs": [],
   "source": [
    "def lalsuite_surrogate_format(filename, sur):\n",
    "    \"\"\"Write data to an hdf5 file format that can be read by the \n",
    "    lalsuite version of the code.\n",
    "    \"\"\"\n",
    "    f = h5py.File(filename, libver='latest')\n",
    "    \n",
    "    namp = len(sur.Bamp)\n",
    "    nphase = len(sur.Bphase)\n",
    "    \n",
    "    f.attrs['description'] = \\\n",
    "'''\n",
    "********************************************************************************\n",
    "Data for TEOBv4_ROM reduced order model (aligned-spin BNS with tidal interactions).\n",
    "\n",
    "See B. Lackey, et al. arXiv:xxxx.xxxx.\n",
    "\n",
    "Parameter ranges:\n",
    "* 1/3 <= q <= 1\n",
    "* -0.4 <= spin_1z <= 0.4\n",
    "* -0.4 <= spin_2z <= 0.4\n",
    "* 0.1 <= lambda_1 <= 3000\n",
    "* 0.1 <= lambda_2 <= 3000\n",
    "* flow >= xxHz\n",
    "\n",
    "This ROM was built using the TEOBv4 waveform.\n",
    "\n",
    "The hyperparameters for the Gaussian process regression associated with each \n",
    "basis function are listed in the order\n",
    "[sigma_f, l_q, l_spin1z, l_spin2z, l_lambda1, l_lambda2, sigma_n]\n",
    "where sigma_f is approximately the function range, sigma_n is the noise/tollerance, \n",
    "and l_i is the correlation length scale for the parameter i.\n",
    "********************************************************************************\n",
    "'''\n",
    "    \n",
    "    # Frequency samples\n",
    "    f['mf'] = sur.mf\n",
    "    \n",
    "    # Training set samples.\n",
    "    # They are the same for all basis functions so pick amp_0\n",
    "    gp = sur.damp_gp_list[0]\n",
    "    x_train = gp.X_train_\n",
    "    f['x_train'] = x_train\n",
    "    \n",
    "    print 'Writing amplitude bases...'\n",
    "    for i in range(namp):\n",
    "        print i,\n",
    "        groupname = 'delta_ln_a_' + str(i)\n",
    "        group = f.create_group(groupname)\n",
    "        \n",
    "        group.attrs['mf_node'] = sur.mf_amp[i]\n",
    "        group['basis'] = sur.Bamp[i].amp\n",
    "    \n",
    "        gp = sur.damp_gp_list[i]\n",
    "        hyperparameters, x_train, kinv_dot_y = extract_data_from_scikit_learn(gp)\n",
    "        group['hyperparameters'] = hyperparameters\n",
    "        group['kinv_dot_y'] = kinv_dot_y\n",
    "        \n",
    "    print '\\nWriting phase bases...'\n",
    "    for i in range(nphase):\n",
    "        print i,\n",
    "        groupname = 'delta_phi_' + str(i)\n",
    "        group = f.create_group(groupname)\n",
    "        \n",
    "        group.attrs['mf_node'] = sur.mf_phase[i]\n",
    "        group['basis'] = sur.Bphase[i].phase\n",
    "        \n",
    "        gp = sur.dphase_gp_list[i]\n",
    "        hyperparameters, x_train, kinv_dot_y = extract_data_from_scikit_learn(gp)\n",
    "        group['hyperparameters'] = hyperparameters\n",
    "        group['kinv_dot_y'] = kinv_dot_y\n",
    "        \n",
    "    f.close()"
   ]
  },
  {
   "cell_type": "code",
   "execution_count": 140,
   "metadata": {
    "hidden": true
   },
   "outputs": [
    {
     "name": "stdout",
     "output_type": "stream",
     "text": [
      "Writing amplitude bases...\n",
      "0 1 2 3 4 5 6 7 8 9 10 11 12 13 14 15 16 17 18 19 \n",
      "Writing phase bases...\n",
      "0 1 2 3 4 5 6 7 8 9 10 11 12 13 14 15 16 17 18 19\n"
     ]
    }
   ],
   "source": [
    "filename = 'lalsuitetest.hdf5'\n",
    "lalsuite_surrogate_format(filename, sur)"
   ]
  },
  {
   "cell_type": "markdown",
   "metadata": {
    "heading_collapsed": true,
    "hidden": true
   },
   "source": [
    "## Testing"
   ]
  },
  {
   "cell_type": "code",
   "execution_count": 141,
   "metadata": {
    "collapsed": true,
    "hidden": true
   },
   "outputs": [],
   "source": [
    "f = h5py.File(filename, libver='latest')"
   ]
  },
  {
   "cell_type": "code",
   "execution_count": 142,
   "metadata": {
    "hidden": true
   },
   "outputs": [
    {
     "name": "stdout",
     "output_type": "stream",
     "text": [
      "(10000,)\n",
      "(159, 5)\n"
     ]
    }
   ],
   "source": [
    "print f['mf'][:].shape\n",
    "print f['x_train'][:].shape"
   ]
  },
  {
   "cell_type": "code",
   "execution_count": 143,
   "metadata": {
    "hidden": true
   },
   "outputs": [
    {
     "name": "stdout",
     "output_type": "stream",
     "text": [
      "0.03\n",
      "[  1.244054e+00   5.415526e-01   2.404507e+00   3.200000e+00   1.210941e+03   6.054942e+03   1.816954e-02]\n",
      "[  1.353636e-01  -2.426995e+00   1.238622e+00   2.569431e+00   3.361933e+00   1.419202e+01  -3.627787e+00\n",
      "  -8.324047e-01  -1.272532e-01  -3.368970e+01  -2.408338e+00  -1.902484e+00   5.119303e+00   4.062834e+00\n",
      "   1.460107e+00   3.370889e-01  -2.491526e+00   5.354783e+00   7.465732e-01   4.420478e+01   3.176610e+00\n",
      "  -5.925059e+00   1.808938e+00  -1.110560e+01   5.000668e+00   6.217673e+00   4.195432e+00  -1.312605e+01\n",
      "   2.338496e-01   5.919319e+00  -5.379469e+00   1.755869e+01  -1.626893e+01   1.689817e+01  -1.431328e+01\n",
      "  -1.971245e+01   4.480975e+00   3.670967e+00  -8.873717e+00  -3.385341e+00   6.651964e+00  -8.662202e+00\n",
      "   8.775134e+00   1.007829e+01   6.649881e+00   3.344075e+00  -4.441547e+00   4.264576e+00  -4.622621e+01\n",
      "   2.691734e+00  -5.929247e+00   1.690460e+01  -3.125132e+00  -6.299917e+00  -6.306608e+00   1.515829e+00\n",
      "  -2.227001e+00   7.702309e+00  -3.245184e+01  -3.052679e+00   4.116255e-01   2.225529e+00   2.603005e-02\n",
      "   3.859674e-01  -8.141826e+00   2.013691e+01   8.780298e-01  -1.841089e+00   2.515463e-01   1.713111e+01\n",
      "  -1.757861e+01   4.049758e+00  -5.014938e+00   5.414883e+00  -4.103025e+00  -2.252592e+00  -6.066697e+00\n",
      "  -4.926848e+00   6.745498e+00   6.857633e-01   1.529135e+00   1.771362e+01  -1.186749e+01   1.184803e+01\n",
      "   4.543042e+00  -7.164055e+00  -1.196400e+01   6.693243e+00  -5.285632e+00  -8.307623e+00  -9.182310e-01\n",
      "  -6.648923e+01  -4.035128e+01   9.421210e+00  -2.392244e+00  -2.070156e+00   7.635755e+00  -1.547993e+01\n",
      "   5.620664e+00   7.001051e+00   4.157290e+00   9.698385e+00   3.266775e+01   2.746764e+00  -2.796349e+00\n",
      "   8.817684e+00  -9.531512e+00   1.312549e+00  -1.163576e+00  -7.993987e+00   3.424267e+01  -3.480685e+00\n",
      "  -3.402223e+00  -3.020546e+00   1.694928e+00   9.930908e+00  -4.269771e+00   4.391721e+00  -8.004664e+00\n",
      "  -1.436490e+01   2.118213e+00   1.201013e+01   5.001458e+01   2.369965e+01   3.010098e-01  -1.971668e+01\n",
      "   1.717830e+00  -2.916780e+00   9.806520e-01  -1.869418e+00  -1.543128e+01  -7.368467e+00   1.070170e+01\n",
      "   9.314477e-01  -1.081861e+01  -8.017363e+00  -4.301819e+00  -3.299342e+00   1.972211e+01  -1.887514e+00\n",
      "  -1.033724e+00   1.034095e+01  -6.678932e+00   7.153949e+00   8.340226e+00  -5.808828e-02   3.992992e+00\n",
      "   1.693180e+00   2.265563e+01   3.430991e+00  -1.066900e+00   1.322190e+01  -6.976129e+00  -3.580663e+00\n",
      "   1.138779e+01   2.287657e+00  -1.641302e+01   2.197837e+00  -1.522886e+01]\n",
      "[-0.017998 -0.017989 -0.017936 ...,  0.984447  0.992205  1.      ]\n"
     ]
    }
   ],
   "source": [
    "print f['delta_ln_a_19'].attrs['mf_node']\n",
    "print f['delta_ln_a_19/hyperparameters'][:]\n",
    "print f['delta_ln_a_19/kinv_dot_y'][:]\n",
    "print f['delta_ln_a_19/basis'][:]"
   ]
  },
  {
   "cell_type": "code",
   "execution_count": 144,
   "metadata": {
    "hidden": true
   },
   "outputs": [
    {
     "name": "stdout",
     "output_type": "stream",
     "text": [
      "0.03\n",
      "[  4.255004e+02   1.421491e+00   8.000000e+00   8.000000e+00   8.187851e+03   2.999900e+04   5.062750e-04]\n",
      "[ 0.161461  0.096188  0.054938  0.327947  0.020727  0.155349 -0.008214 -0.051078  0.235633 -1.000358 -0.042436\n",
      " -0.307369  0.988341  0.073701 -0.252881 -0.108205  0.246872  0.052102  0.069441  0.30316  -0.022522 -0.11242\n",
      "  0.059793 -0.139292  0.20552   0.93233   0.06626  -0.077352  0.774753 -0.627922  0.019855 -0.027874 -0.483242\n",
      "  0.005088 -0.785822  0.01263   0.400281 -0.800456 -0.580188 -0.260387  0.319411 -0.537523 -0.132596  1.483104\n",
      "  0.070138 -0.224954 -0.858842  0.713094 -0.410665  0.833558 -0.047864  1.206982 -0.867527 -0.117764  0.446977\n",
      "  0.055848 -0.876076  0.164289 -0.036691 -0.899262  0.083572  0.165041  0.863735  0.356303 -1.582601  2.375573\n",
      "  0.56885  -0.553988  0.031443  0.069171  0.268207 -0.297621 -1.257951  0.369415 -0.753824 -0.027229 -0.904814\n",
      "  0.22315  -0.271993  0.689553  0.709485 -0.88239  -0.703084 -0.80746  -0.595217  0.274676 -0.718739 -0.869145\n",
      "  0.316223 -0.343128 -0.422115 -3.303392 -2.196451  1.79774  -0.98341  -0.376274  0.507603 -1.504795 -0.826765\n",
      "  0.754009  0.770152  0.012036  0.407383  1.099522  1.295594  1.373301 -0.110962  0.160847 -0.308708 -0.654386\n",
      "  1.158544 -0.428087 -3.190594  1.235791 -0.497879  0.168661  0.477791  0.544221  0.274097  0.115203  0.031999\n",
      "  0.923412  1.46568   0.128348 -0.676014 -0.699661  0.318166  0.07075  -0.171094  0.643054  0.352981 -0.43828\n",
      " -0.033746  0.166102 -0.673419 -0.380231  0.641389 -0.700744  0.402958  0.670302 -0.254023 -0.677955  0.07726\n",
      "  0.146557  0.735334 -0.691599  0.020226  0.796239  3.009581  0.430276 -0.100308  1.516317 -0.236108  1.407899\n",
      "  0.665403  0.436091 -2.220541  0.083249 -1.18634 ]\n",
      "[  0.000000e+00   9.636067e-05   1.133802e-04 ...,   9.843505e-01   9.921587e-01   1.000000e+00]\n"
     ]
    }
   ],
   "source": [
    "print f['delta_phi_19'].attrs['mf_node']\n",
    "print f['delta_phi_19/hyperparameters'][:]\n",
    "print f['delta_phi_19/kinv_dot_y'][:]\n",
    "print f['delta_phi_19/basis'][:]"
   ]
  },
  {
   "cell_type": "code",
   "execution_count": 145,
   "metadata": {
    "collapsed": true,
    "hidden": true
   },
   "outputs": [],
   "source": [
    "f.close()"
   ]
  },
  {
   "cell_type": "markdown",
   "metadata": {
    "collapsed": true,
    "heading_collapsed": true
   },
   "source": [
    "# Test code using lalsimulation HDF5 data (old format)"
   ]
  },
  {
   "cell_type": "markdown",
   "metadata": {
    "hidden": true
   },
   "source": [
    "The output of the lalsimulation code has to agree with the output of the code below."
   ]
  },
  {
   "cell_type": "code",
   "execution_count": 7,
   "metadata": {
    "collapsed": true,
    "hidden": true
   },
   "outputs": [],
   "source": [
    "filename = 'lalsuitetest.hdf5'\n",
    "f = h5py.File(filename, 'r')"
   ]
  },
  {
   "cell_type": "markdown",
   "metadata": {
    "hidden": true
   },
   "source": [
    "File structure:\n",
    "\n",
    "    'mf'\n",
    "    'x_train'\n",
    "    'delta_ln_a_i': 'basis', 'hyperparameters', 'kinv_dot_y'\n",
    "    'delta_phi_i': 'basis', 'hyperparameters', 'kinv_dot_y'\n",
    "    \n",
    "i.e. 'hyperparameters', 'kinv_dot_y' are different for each amplitude and phase coefficient gp fit and 'basis' gives the i-th basis function\n",
    "\n",
    "* There could be an attribute in the HDF5 file telling us how many amplitude and phase coefficients there are in total. Although we could query this.\n",
    "\n",
    "* There are 10000 points in mf. Isn't this overkill? Also, how were these points chosen? MP thinks that a few hundred points should suffice. Interpolation in frequency needs to be done at any rate since the user can specify Deltaf freely. Presumably this interpolation of the fully assembled amplitude and phase in frequency should be done by some sort of spline."
   ]
  },
  {
   "cell_type": "code",
   "execution_count": 21,
   "metadata": {
    "hidden": true
   },
   "outputs": [
    {
     "name": "stdout",
     "output_type": "stream",
     "text": [
      "-0.0873621747291 2.67268739046\n",
      "-0.127697708695 8.04386720647\n",
      "-0.142636962932 19.6197273431\n",
      "-0.150228252721 20.5559015819\n",
      "-0.157051635052 24.9972548013\n",
      "-0.162628411644 26.1481786918\n",
      "-0.183240290086 27.5302242225\n",
      "-0.20070751982 28.8042031484\n",
      "-0.218269466269 30.1149581712\n",
      "-0.23251895837 33.2215152853\n",
      "-0.246764670981 35.2173137722\n",
      "-0.289641481501 37.6413768021\n",
      "-0.302604115733 40.1108972129\n",
      "-0.338274141305 42.9222709187\n",
      "-0.381038556706 47.6703481679\n",
      "-0.429119310859 55.3266617441\n",
      "-0.476853385203 62.517613797\n",
      "-0.544626065822 72.5862838226\n",
      "-0.52161738489 80.1487817264\n",
      "-0.473509283346 85.0782840175\n"
     ]
    }
   ],
   "source": [
    "# Compute amplitude and phase coefficients for an example point\n",
    "\n",
    "# Point exactly in training set:\n",
    "x = np.array([3.333333e-01, -4.000000e-01, -4.000000e-01, 1.000000e-01, 1.000000e-01])\n",
    "\n",
    "n = 20 # FIXME: should be read from an attribute\n",
    "for i in range(n):\n",
    "    grp_ln_a = f['delta_ln_a_%d'%i]\n",
    "    grp_phi = f['delta_phi_%d'%i]\n",
    "    print gp_predict(x, grp_ln_a['hyperparameters'], f['x_train'], grp_ln_a['kinv_dot_y']), gp_predict(x, grp_phi['hyperparameters'], f['x_train'], grp_phi['kinv_dot_y'])"
   ]
  },
  {
   "cell_type": "code",
   "execution_count": 8,
   "metadata": {
    "collapsed": true,
    "hidden": true
   },
   "outputs": [],
   "source": [
    "# Compute amplitude and phase coefficients for an example point\n",
    "\n",
    "# Point exactly in training set:\n",
    "x = np.array([3.333333e-01, -4.000000e-01, -4.000000e-01, 1.000000e-01, 1.000000e-01])\n",
    "\n",
    "n = 20 # FIXME: should be read from an attribute\n",
    "\n",
    "# Calculate waveform at nodes\n",
    "amp_at_nodes = np.array([gp_predict(x, \n",
    "                                    f['delta_ln_a_%d/hyperparameters'%i], \n",
    "                                    f['x_train'], \n",
    "                                    f['delta_ln_a_%d/kinv_dot_y'%i]) \n",
    "                         for i in range(n)])\n",
    "\n",
    "phase_at_nodes = np.array([gp_predict(x, \n",
    "                                      f['delta_phi_%d/hyperparameters'%i], \n",
    "                                      f['x_train'], \n",
    "                                      f['delta_phi_%d/kinv_dot_y'%i]) \n",
    "                           for i in range(n)])"
   ]
  },
  {
   "cell_type": "code",
   "execution_count": 9,
   "metadata": {
    "collapsed": true,
    "hidden": true
   },
   "outputs": [],
   "source": [
    "# Get arrays of amplitude and phase bases\n",
    "Bamp_j_array = np.array([f['delta_ln_a_%d/basis'%i][:] for i in range(n)])\n",
    "Bphase_j_array = np.array([f['delta_phi_%d/basis'%i][:] for i in range(n)])"
   ]
  },
  {
   "cell_type": "code",
   "execution_count": 10,
   "metadata": {
    "collapsed": true,
    "hidden": true
   },
   "outputs": [],
   "source": [
    "# Evaluate waveform\n",
    "amp_interp = np.dot(amp_at_nodes, Bamp_j_array)\n",
    "phase_interp = np.dot(phase_at_nodes, Bphase_j_array)"
   ]
  },
  {
   "cell_type": "code",
   "execution_count": 18,
   "metadata": {
    "hidden": true
   },
   "outputs": [
    {
     "data": {
      "text/plain": [
       "array([-0.019851, -0.019857, -0.019863, ..., -0.474016, -0.473763, -0.473509])"
      ]
     },
     "execution_count": 18,
     "metadata": {},
     "output_type": "execute_result"
    }
   ],
   "source": [
    "amp_interp"
   ]
  },
  {
   "cell_type": "code",
   "execution_count": 11,
   "metadata": {
    "hidden": true
   },
   "outputs": [
    {
     "data": {
      "text/plain": [
       "array([  0.000000e+00,   1.056314e-03,   2.112993e-03, ...,   8.503017e+01,   8.505423e+01,   8.507828e+01])"
      ]
     },
     "execution_count": 11,
     "metadata": {},
     "output_type": "execute_result"
    }
   ],
   "source": [
    "phase_interp"
   ]
  },
  {
   "cell_type": "code",
   "execution_count": 14,
   "metadata": {
    "hidden": true
   },
   "outputs": [
    {
     "data": {
      "text/plain": [
       "[<matplotlib.lines.Line2D at 0x109842990>]"
      ]
     },
     "execution_count": 14,
     "metadata": {},
     "output_type": "execute_result"
    },
    {
     "data": {
      "image/png": "[encoded data removed]",
      "text/plain": [
       "<matplotlib.figure.Figure at 0x10cbf6c50>"
      ]
     },
     "metadata": {},
     "output_type": "display_data"
    }
   ],
   "source": [
    "plt.plot(f['mf'], amp_interp)"
   ]
  },
  {
   "cell_type": "code",
   "execution_count": 44,
   "metadata": {
    "hidden": true
   },
   "outputs": [
    {
     "data": {
      "text/plain": [
       "[<matplotlib.lines.Line2D at 0x1160bdb10>]"
      ]
     },
     "execution_count": 44,
     "metadata": {},
     "output_type": "execute_result"
    },
    {
     "data": {
      "image/png": "[encoded data removed]",
      "text/plain": [
       "<matplotlib.figure.Figure at 0x114da8990>"
      ]
     },
     "metadata": {},
     "output_type": "display_data"
    }
   ],
   "source": [
    "plt.plot(f['mf'], phase_interp)"
   ]
  },
  {
   "cell_type": "code",
   "execution_count": 48,
   "metadata": {
    "collapsed": true,
    "hidden": true
   },
   "outputs": [],
   "source": [
    "import taylorf2\n",
    "\n",
    "def geometric_reference_waveform(params, mf):\n",
    "    \"\"\"Reference TaylorF2 waveform in geometric units\n",
    "    evaluated at the same times as the surrogate of the difference.\n",
    "    \"\"\"\n",
    "    q, s1, s2, lambda1, lambda2 = params\n",
    "    h_ref = taylorf2.dimensionless_taylorf2_waveform(\n",
    "        mf=mf, q=q,\n",
    "        spin1z=s1, spin2z=s2,\n",
    "        lambda1=lambda1, lambda2=lambda2)\n",
    "\n",
    "    # Reference waveform has zero starting phase\n",
    "    h_ref.add_phase(remove_start_phase=True)\n",
    "    return h_ref"
   ]
  },
  {
   "cell_type": "code",
   "execution_count": 51,
   "metadata": {
    "collapsed": true,
    "hidden": true
   },
   "outputs": [],
   "source": [
    "# Compute TaylorF2 reference waveform\n",
    "h_ref = geometric_reference_waveform(x, f['mf'][:])"
   ]
  },
  {
   "cell_type": "code",
   "execution_count": 55,
   "metadata": {
    "collapsed": true,
    "hidden": true
   },
   "outputs": [],
   "source": [
    "# Surrogate of A and \\Phi\n",
    "h_sur = h_ref.copy()\n",
    "h_sur.amp *= np.exp(amp_interp)\n",
    "h_sur.phase += phase_interp"
   ]
  },
  {
   "cell_type": "code",
   "execution_count": 59,
   "metadata": {
    "hidden": true
   },
   "outputs": [
    {
     "data": {
      "text/plain": [
       "[<matplotlib.lines.Line2D at 0x116a67610>]"
      ]
     },
     "execution_count": 59,
     "metadata": {},
     "output_type": "execute_result"
    },
    {
     "data": {
      "image/png": "[encoded data removed]",
      "text/plain": [
       "<matplotlib.figure.Figure at 0x1167c40d0>"
      ]
     },
     "metadata": {},
     "output_type": "display_data"
    }
   ],
   "source": [
    "loglog(h_sur.x, h_sur.amp)\n",
    "loglog(h_sur.x, h_sur.phase)"
   ]
  },
  {
   "cell_type": "code",
   "execution_count": 62,
   "metadata": {
    "hidden": true
   },
   "outputs": [
    {
     "data": {
      "text/plain": [
       "[<matplotlib.lines.Line2D at 0x1172a0050>]"
      ]
     },
     "execution_count": 62,
     "metadata": {},
     "output_type": "execute_result"
    },
    {
     "data": {
      "image/png": "[encoded data removed]",
      "text/plain": [
       "<matplotlib.figure.Figure at 0x116aa7990>"
      ]
     },
     "metadata": {},
     "output_type": "display_data"
    }
   ],
   "source": [
    "semilogx(h_sur.x, h_sur.amp * np.exp(1j * h_sur.phase))"
   ]
  },
  {
   "cell_type": "code",
   "execution_count": 63,
   "metadata": {
    "hidden": true
   },
   "outputs": [
    {
     "data": {
      "text/plain": [
       "[<matplotlib.lines.Line2D at 0x117383210>]"
      ]
     },
     "execution_count": 63,
     "metadata": {},
     "output_type": "execute_result"
    },
    {
     "data": {
      "image/png": "[encoded data removed]",
      "text/plain": [
       "<matplotlib.figure.Figure at 0x117407710>"
      ]
     },
     "metadata": {},
     "output_type": "display_data"
    }
   ],
   "source": [
    "plot(f['mf'])"
   ]
  },
  {
   "cell_type": "markdown",
   "metadata": {
    "hidden": true
   },
   "source": [
    "## Save matrix data"
   ]
  },
  {
   "cell_type": "markdown",
   "metadata": {
    "hidden": true
   },
   "source": [
    "Make it easier to read the surrogate data in C\n",
    "\n",
    "* To make the C code easier store for amplitude and phase:\n",
    "    * hyperparameters as a matrix (n_EI_nodes, n_hyp)\n",
    "    * kinv_dot_y as a matrix (n_EI_nodes, n_train)\n",
    "    * bases as a matrix (n_EI_nodes, n_freqs)\n",
    "    * EI_nodes (n_EI_nodes)\n"
   ]
  },
  {
   "cell_type": "code",
   "execution_count": 23,
   "metadata": {
    "collapsed": true,
    "hidden": true
   },
   "outputs": [],
   "source": [
    "# Read the current HDF5 format\n",
    "n_EI_nodes = 20\n",
    "n_train = 159\n",
    "\n",
    "hyp_amp = np.array([f['delta_ln_a_%d/hyperparameters'%i][:] for i in range(n_EI_nodes)])\n",
    "hyp_phi = np.array([f['delta_phi_%d/hyperparameters'%i][:] for i in range(n_EI_nodes)])\n",
    "\n",
    "kinv_dot_y_amp = np.array([f['delta_ln_a_%d/kinv_dot_y'%i][:] for i in range(n_EI_nodes)])\n",
    "kinv_dot_y_phi = np.array([f['delta_phi_%d/kinv_dot_y'%i][:] for i in range(n_EI_nodes)])\n",
    "\n",
    "B_amp = np.array([f['delta_ln_a_%d/basis'%i][:] for i in range(n_EI_nodes)])\n",
    "B_phi = np.array([f['delta_phi_%d/basis'%i][:] for i in range(n_EI_nodes)])\n",
    "\n",
    "EI_nodes_amp = np.array([f['delta_ln_a_%d'%i].attrs['mf_node'] for i in range(n_EI_nodes)])\n",
    "EI_nodes_phi = np.array([f['delta_phi_%d'%i].attrs['mf_node'] for i in range(n_EI_nodes)])\n",
    "\n",
    "\n",
    "# Save data to new HDF5 file\n",
    "fp = h5py.File('lalsuitetest_new.hdf5', 'w')\n",
    "# Copy some datasets\n",
    "fp.attrs['description'] = f.attrs['description']\n",
    "fp['mf'] = f['mf'][:]\n",
    "fp['x_train'] = f['x_train'][:]\n",
    "# Save matrix data\n",
    "fp['hyp_amp'] = hyp_amp\n",
    "fp['hyp_phi'] = hyp_phi\n",
    "fp['kinv_dot_y_amp'] = kinv_dot_y_amp\n",
    "fp['kinv_dot_y_phi'] = kinv_dot_y_phi\n",
    "fp['B_amp'] = B_amp\n",
    "fp['B_phi'] = B_phi\n",
    "fp['EI_nodes_amp'] = EI_nodes_amp\n",
    "fp['EI_nodes_phi'] = EI_nodes_phi\n",
    "fp.close()"
   ]
  },
  {
   "cell_type": "markdown",
   "metadata": {
    "collapsed": true,
    "hidden": true
   },
   "source": [
    "## Ongoing testing of C code"
   ]
  },
  {
   "cell_type": "code",
   "execution_count": 4,
   "metadata": {
    "collapsed": true,
    "hidden": true
   },
   "outputs": [],
   "source": [
    "phiRef, deltaF, fLow, fHigh, fRef, distance, inclination = 0, 0.1, 20, 0, 20, 1, 0\n",
    "m1SI, m2SI, chi1, chi2, lambda1, lambda2, nk_max = 30*lal.MSUN_SI, 10*lal.MSUN_SI, -0.4, -0.4, 0.1, 0.1, -1\n",
    "\n",
    "hp, hc = LS.SimIMRTEOBv4ROM(phiRef, deltaF, fLow, fHigh, fRef, distance, inclination, \n",
    "                m1SI, m2SI, chi1, chi2, lambda1, lambda2, nk_max)"
   ]
  },
  {
   "cell_type": "markdown",
   "metadata": {
    "hidden": true
   },
   "source": [
    "* Use Ben's updated HDF5 file: TEOBv4_ROM.hdf5\n",
    "* Implement checks on parameter bounds\n",
    "* Implement checks on dataset sizes? Remove all hardwired sizes."
   ]
  },
  {
   "cell_type": "code",
   "execution_count": null,
   "metadata": {
    "collapsed": true,
    "hidden": true
   },
   "outputs": [],
   "source": []
  },
  {
   "cell_type": "markdown",
   "metadata": {
    "collapsed": true
   },
   "source": [
    "# Test code using lalsimulation HDF5 data (new format)"
   ]
  },
  {
   "cell_type": "code",
   "execution_count": 7,
   "metadata": {},
   "outputs": [],
   "source": [
    "# Point exactly in training set:\n",
    "x_train_point = np.array([3.333333e-01, -4.000000e-01, -4.000000e-01, 1.000000e-01, 1.000000e-01])\n",
    "\n",
    "# Test point\n",
    "x_test_point = np.array([1.0/1.5, 0.35, 0.32, 1000.0, 1500.0])\n",
    "\n",
    "x = x_test_point"
   ]
  },
  {
   "cell_type": "code",
   "execution_count": 8,
   "metadata": {},
   "outputs": [
    {
     "name": "stdout",
     "output_type": "stream",
     "text": [
      "chi1_bounds              Dataset {2}\n",
      "chi2_bounds              Dataset {2}\n",
      "hyp_amp                  Dataset {20, 7}\n",
      "hyp_phi                  Dataset {19, 7}\n",
      "kinv_dot_y_amp           Dataset {20, 159}\n",
      "kinv_dot_y_phi           Dataset {19, 159}\n",
      "lambda1_bounds           Dataset {2}\n",
      "lambda2_bounds           Dataset {2}\n",
      "q_bounds                 Dataset {2}\n",
      "spline_nodes_amp         Dataset {20}\n",
      "spline_nodes_phase       Dataset {19}\n",
      "x_train                  Dataset {159, 5}\n"
     ]
    }
   ],
   "source": [
    "%%bash\n",
    "h5ls TEOBv4_surrogate.hdf5"
   ]
  },
  {
   "cell_type": "markdown",
   "metadata": {},
   "source": [
    "The output of the lalsimulation code has to agree with the output of the code below."
   ]
  },
  {
   "cell_type": "code",
   "execution_count": 9,
   "metadata": {
    "collapsed": true
   },
   "outputs": [],
   "source": [
    "filename = 'TEOBv4_surrogate.hdf5'\n",
    "f = h5py.File(filename, 'r')"
   ]
  },
  {
   "cell_type": "markdown",
   "metadata": {},
   "source": [
    "File structure:\n",
    "\n",
    "    'x_train': N_train x 5\n",
    "    'hyp_amp': N_amp x 7\n",
    "    'hyp_phi': N_phi x 7\n",
    "    'kinv_dot_y_amp': N_amp x N_train\n",
    "    'kinv_dot_y_phase': N_phi x N_train\n",
    "    'spline_nodes_amp': N_amp\n",
    "    'spline_nodes_phase': N_phi\n",
    "    \n",
    "'hyperparameters' and 'kinv_dot_y' are different for each amplitude and phase gp fit and corresponding to a spline frequency."
   ]
  },
  {
   "cell_type": "code",
   "execution_count": 10,
   "metadata": {},
   "outputs": [
    {
     "name": "stdout",
     "output_type": "stream",
     "text": [
      "0.000417468676682 0.00398212206198\n",
      "0.000510250185245 0.0224069292576\n",
      "0.000641214987668 0.0644115795806\n",
      "0.000793040177837 0.143289155992\n",
      "0.000959420990183 0.278472938253\n",
      "0.00112208559039 0.497947662748\n",
      "0.00124632175021 0.841721123956\n",
      "0.00125456102254 1.36662681954\n",
      "0.000973438615378 2.15358302931\n",
      "1.19103493521e-05 3.31917165331\n",
      "-0.00264500385665 5.03916759617\n",
      "-0.0104156319979 7.63255177679\n",
      "-0.0404758669926 11.9108462768\n",
      "-0.214962941245 19.9336480092\n",
      "-0.606760927793 31.9706550313\n",
      "-0.966610787504 45.0766929848\n",
      "-1.73717146107 53.0544741406\n",
      "-3.35732228511 43.6194524202\n",
      "-6.14267216203 -11.3252187934\n"
     ]
    }
   ],
   "source": [
    "# Compute amplitude and phase coefficients for an example point\n",
    "\n",
    "for i in range(19):\n",
    "    kinv_dot_y_amp_i = f['kinv_dot_y_amp'][i]\n",
    "    kinv_dot_y_phi_i = f['kinv_dot_y_phi'][i]\n",
    "    hyp_amp_i = f['hyp_amp'][i]\n",
    "    hyp_phi_i = f['hyp_phi'][i]\n",
    "    print gp_predict(x, hyp_amp_i, f['x_train'], kinv_dot_y_amp_i), gp_predict(x, hyp_phi_i, f['x_train'], kinv_dot_y_phi_i)"
   ]
  },
  {
   "cell_type": "code",
   "execution_count": 11,
   "metadata": {},
   "outputs": [
    {
     "name": "stdout",
     "output_type": "stream",
     "text": [
      "20 19\n"
     ]
    }
   ],
   "source": [
    "# Compute amplitude and phase coefficients for an example point\n",
    "\n",
    "N_amp = len(f['spline_nodes_amp'])\n",
    "N_phi = len(f['spline_nodes_phase'])\n",
    "print N_amp, N_phi\n",
    "\n",
    "# Calculate waveform at nodes\n",
    "amp_at_nodes = np.array([gp_predict(x,\n",
    "                                    f['hyp_amp'][i], \n",
    "                                    f['x_train'], \n",
    "                                    f['kinv_dot_y_amp'][i]) \n",
    "                         for i in range(N_amp)])\n",
    "\n",
    "phase_at_nodes = np.array([gp_predict(x,\n",
    "                                      f['hyp_phi'][i], \n",
    "                                      f['x_train'], \n",
    "                                      f['kinv_dot_y_phi'][i]) \n",
    "                           for i in range(N_phi)])"
   ]
  },
  {
   "cell_type": "code",
   "execution_count": 12,
   "metadata": {},
   "outputs": [],
   "source": [
    "# In reconstruct_amp_phase_difference_spline():\n",
    "# Prepend the point [mf_a, 0] to the phase nodes\n",
    "mf_amp = f['spline_nodes_amp'][:]\n",
    "mf_phase = f['spline_nodes_phase'][:]\n",
    "mf_min = mf_amp[0] # Follow definition of mf_a in GPSplineSurrogate constructor\n",
    "mf_phi = np.insert(mf_phase, 0, mf_min)\n",
    "phase_at_nodes = np.insert(phase_at_nodes, 0, 0.0)"
   ]
  },
  {
   "cell_type": "code",
   "execution_count": 59,
   "metadata": {},
   "outputs": [],
   "source": [
    "# Output of `SimIMRTEOBv4ROM` Copied from Terminal (command is at top of next section)\n",
    "amp_at_nodes_LAL = np.array([\n",
    "0.000417468676682395,\n",
    "0.000510250185244809,\n",
    "0.000641214987668309,\n",
    "0.000793040177837462,\n",
    "0.000959420990183202,\n",
    "0.00112208559039317,\n",
    "0.0012463217502123,\n",
    "0.00125456102254207,\n",
    "0.000973438615379574,\n",
    "1.19103493476658e-05,\n",
    "-0.00264500385666366,\n",
    "-0.0104156319978541,\n",
    "-0.0404758669926233,\n",
    "-0.214962941244835,\n",
    "-0.606760927793466,\n",
    "-0.966610787503829,\n",
    "-1.73717146106917,\n",
    "-3.35732228511083,\n",
    "-6.14267216203261,\n",
    "-7.53607333402456])\n",
    "\n",
    "phi_at_nodes_LAL = np.array([\n",
    "0,\n",
    "0.00398212206197962,\n",
    "0.0224069292576032,\n",
    "0.0644115795806135,\n",
    "0.143289155992461,\n",
    "0.278472938253316,\n",
    "0.497947662747308,\n",
    "0.841721123954983,\n",
    "1.36662681953661,\n",
    "2.15358302930281,\n",
    "3.31917165331424,\n",
    "5.0391675961705,\n",
    "7.63255177677343,\n",
    "11.9108462767826,\n",
    "19.9336480092097,\n",
    "31.9706550311239,\n",
    "45.0766929849342,\n",
    "53.0544741402118,\n",
    "43.6194524202147,\n",
    "-11.3252187937032])"
   ]
  },
  {
   "cell_type": "code",
   "execution_count": 14,
   "metadata": {},
   "outputs": [
    {
     "name": "stdout",
     "output_type": "stream",
     "text": [
      "[ 0.00021   0.000285  0.000387  0.000525  0.000713  0.000969  0.001315  0.001785  0.002424  0.003291  0.004467\n",
      "  0.006065  0.008234  0.011179  0.015177  0.020605  0.027974  0.037978  0.05156   0.07    ]\n",
      "[  4.174687e-04   5.102502e-04   6.412150e-04   7.930402e-04   9.594210e-04   1.122086e-03   1.246322e-03\n",
      "   1.254561e-03   9.734386e-04   1.191035e-05  -2.645004e-03  -1.041563e-02  -4.047587e-02  -2.149629e-01\n",
      "  -6.067609e-01  -9.666108e-01  -1.737171e+00  -3.357322e+00  -6.142672e+00  -7.536073e+00]\n",
      "[ -3.233176e-10   1.852450e-10  -1.233170e-11   1.778369e-10  -9.816909e-12  -4.409607e-09   1.750213e-09\n",
      "   1.022543e-09  -3.846218e-10   4.935211e-11  -3.856649e-09  -3.199786e-08   3.300735e-08   5.875511e-08\n",
      "   7.220661e-08   2.124962e-07  -1.461069e-06  -2.285111e-06  -2.162033e-06  -3.334025e-06]\n"
     ]
    }
   ],
   "source": [
    "print mf_amp\n",
    "print amp_at_nodes\n",
    "print amp_at_nodes - amp_at_nodes_LAL"
   ]
  },
  {
   "cell_type": "code",
   "execution_count": 15,
   "metadata": {},
   "outputs": [
    {
     "name": "stdout",
     "output_type": "stream",
     "text": [
      "[ 0.00021   0.000285  0.000387  0.000525  0.000713  0.000969  0.001315  0.001785  0.002424  0.003291  0.004467\n",
      "  0.006065  0.008234  0.011179  0.015177  0.020605  0.027974  0.037978  0.05156   0.07    ]\n",
      "[  0.000000e+00   3.982122e-03   2.240693e-02   6.441158e-02   1.432892e-01   2.784729e-01   4.979477e-01\n",
      "   8.417211e-01   1.366627e+00   2.153583e+00   3.319172e+00   5.039168e+00   7.632552e+00   1.191085e+01\n",
      "   1.993365e+01   3.197066e+01   4.507669e+01   5.305447e+01   4.361945e+01  -1.132522e+01]\n",
      "[  0.000000e+00   2.061980e-09   2.925760e-08  -2.041943e-08   1.559925e-07  -6.174681e-08  -3.372523e-07\n",
      "   1.239563e-07  -3.180464e-06   3.029307e-06   1.653308e-06  -2.403830e-06   1.776791e-06   4.627682e-05\n",
      "   4.800925e-05  -4.496871e-05  -7.015182e-06  -2.585944e-05  -4.757976e-05  -1.879335e-05]\n"
     ]
    }
   ],
   "source": [
    "print mf_phi\n",
    "print phase_at_nodes\n",
    "print phase_at_nodes - phi_at_nodes_LAL"
   ]
  },
  {
   "cell_type": "code",
   "execution_count": 16,
   "metadata": {},
   "outputs": [
    {
     "data": {
      "image/png": "[encoded data removed]",
      "text/plain": [
       "<matplotlib.figure.Figure at 0x1125067d0>"
      ]
     },
     "metadata": {},
     "output_type": "display_data"
    }
   ],
   "source": [
    "plt.semilogx(mf_amp, amp_at_nodes, 'o-');"
   ]
  },
  {
   "cell_type": "code",
   "execution_count": 17,
   "metadata": {},
   "outputs": [
    {
     "data": {
      "image/png": "[encoded data removed]",
      "text/plain": [
       "<matplotlib.figure.Figure at 0x114eb3dd0>"
      ]
     },
     "metadata": {},
     "output_type": "display_data"
    }
   ],
   "source": [
    "plt.semilogx(mf_phi, phase_at_nodes, 'o-');"
   ]
  },
  {
   "cell_type": "code",
   "execution_count": 64,
   "metadata": {},
   "outputs": [
    {
     "data": {
      "image/png": "[encoded data removed]",
      "text/plain": [
       "<matplotlib.figure.Figure at 0x11531cd90>"
      ]
     },
     "metadata": {},
     "output_type": "display_data"
    }
   ],
   "source": [
    "plt.loglog(mf_amp, np.abs(amp_at_nodes), 'o-', label='|Python|')\n",
    "plt.loglog(mf_amp, np.abs(amp_at_nodes_LAL), 'o-', label='|LAL|')\n",
    "plt.loglog(mf_amp, np.abs(amp_at_nodes - amp_at_nodes_LAL), label='|Python - LAL|')\n",
    "plt.legend(loc=10);\n",
    "plt.title('surrogate amplitude correction at nodes comparison');"
   ]
  },
  {
   "cell_type": "code",
   "execution_count": 65,
   "metadata": {},
   "outputs": [
    {
     "data": {
      "image/png": "[encoded data removed]",
      "text/plain": [
       "<matplotlib.figure.Figure at 0x115322c50>"
      ]
     },
     "metadata": {},
     "output_type": "display_data"
    }
   ],
   "source": [
    "plt.loglog(mf_phi, np.abs(phase_at_nodes), 'o-', label='|Python|')\n",
    "plt.loglog(mf_phi, np.abs(phi_at_nodes_LAL), 'o-', label='|LAL|')\n",
    "plt.loglog(mf_phi, np.abs(phase_at_nodes - phi_at_nodes_LAL), label='|Python - LAL|')\n",
    "plt.legend(loc=10);\n",
    "plt.title('surrogate phase correction at nodes comparison');"
   ]
  },
  {
   "cell_type": "code",
   "execution_count": 20,
   "metadata": {
    "collapsed": true
   },
   "outputs": [],
   "source": [
    "# Interpolate dlnamp and dphase at the frequencies mf_amp and mf_p\n",
    "ampoff = interpolate.UnivariateSpline(mf_amp, amp_at_nodes, k=3, s=0)\n",
    "phaseoff = interpolate.UnivariateSpline(mf_phi, phase_at_nodes, k=3, s=0)"
   ]
  },
  {
   "cell_type": "code",
   "execution_count": 21,
   "metadata": {
    "collapsed": true
   },
   "outputs": [],
   "source": [
    "# Frequencies for evaluation (only used for testing here)\n",
    "# Start at approximately 1Hz (mf=1.0e-5) and go up to last spline node\n",
    "npoints=10000\n",
    "mfs = np.logspace(-5.0, np.log10(mf_phi[-1]), npoints)"
   ]
  },
  {
   "cell_type": "code",
   "execution_count": 22,
   "metadata": {},
   "outputs": [],
   "source": [
    "# Evaluate dlnamp and dphase at the frequencies mfs\n",
    "amp_interp = np.array([ampoff(f) if f>=mf_min else 0.0 for f in mfs])\n",
    "phase_interp = np.array([phaseoff(f) if f>=mf_min else 0.0 for f in mfs])"
   ]
  },
  {
   "cell_type": "code",
   "execution_count": 23,
   "metadata": {},
   "outputs": [
    {
     "data": {
      "image/png": "[encoded data removed]",
      "text/plain": [
       "<matplotlib.figure.Figure at 0x1155079d0>"
      ]
     },
     "metadata": {},
     "output_type": "display_data"
    }
   ],
   "source": [
    "plt.semilogx(mfs, amp_interp);"
   ]
  },
  {
   "cell_type": "code",
   "execution_count": 24,
   "metadata": {},
   "outputs": [
    {
     "data": {
      "image/png": "[encoded data removed]",
      "text/plain": [
       "<matplotlib.figure.Figure at 0x1151a8450>"
      ]
     },
     "metadata": {},
     "output_type": "display_data"
    }
   ],
   "source": [
    "plt.semilogx(mfs, phase_interp);"
   ]
  },
  {
   "cell_type": "markdown",
   "metadata": {},
   "source": [
    "The code is calling `wave.Waveform.from_amp_phase(mfs, amp_interp, phase_interp)`. This just stores the amplitude and phase in a class.\n",
    "\n",
    "The complete waveform is reconstructed in `geometric_waveform()`: https://github.com/benjaminlackey/gpsurrogate/blob/master/src/surrogate.py#L559\n",
    "There, the amplitude and phase corrections are added to the output of `geometric_reference_waveform()`.\n",
    "\n",
    "```Python\n",
    "# Surrogate of \\Delta\\Phi and \\Delta\\ln A\n",
    "h_diff_sur = self.amp_phase_difference(params)\n",
    "# Reference waveform\n",
    "h_ref = self.geometric_reference_waveform(params)\n",
    "# Surrogate of A and \\Phi\n",
    "h_sur = h_ref.copy()\n",
    "h_sur.amp *= np.exp(h_diff_sur.amp)\n",
    "h_sur.phase += h_diff_sur.phase\n",
    "```\n",
    "\n",
    "**TODO:** check whether `geometric_reference_waveform()` has changed."
   ]
  },
  {
   "cell_type": "code",
   "execution_count": 25,
   "metadata": {
    "collapsed": true
   },
   "outputs": [],
   "source": [
    "import taylorf2\n",
    "\n",
    "def geometric_reference_waveform(params, mf):\n",
    "    \"\"\"Reference TaylorF2 waveform in geometric units\n",
    "    evaluated at the same times as the surrogate of the difference.\n",
    "    \"\"\"\n",
    "    q, s1, s2, lambda1, lambda2 = params\n",
    "    h_ref = taylorf2.dimensionless_taylorf2_waveform(\n",
    "        mf=mf, q=q,\n",
    "        spin1z=s1, spin2z=s2,\n",
    "        lambda1=lambda1, lambda2=lambda2)\n",
    "\n",
    "    # Reference waveform has zero starting phase\n",
    "    h_ref.add_phase(remove_start_phase=True)\n",
    "    return h_ref"
   ]
  },
  {
   "cell_type": "code",
   "execution_count": 26,
   "metadata": {},
   "outputs": [],
   "source": [
    "# `geometric_reference_waveform()` calls `dimensionless_taylorf2_waveform()`:\n",
    "\n",
    "def dimensionless_taylorf2_waveform(\n",
    "    mf=None, q=None,\n",
    "    spin1x=None, spin1y=None, spin1z=None,\n",
    "    spin2x=None, spin2y=None, spin2z=None,\n",
    "    lambda1=None, lambda2=None):\n",
    "    \"\"\"Waveform suitable for training set.\n",
    "    \"\"\"\n",
    "    tbymc = 0.\n",
    "    phic = 0.\n",
    "    eta = q/(1.+q)**2\n",
    "    #amp = taylorf2_amp(mf, eta)\n",
    "    # Use the 1pn amplitude\n",
    "    amp = taylorf2_amp_1pn(mf, eta)\n",
    "    phase = taylorf2_phase(mf, tbymc, phic, eta, spin1z, spin2z, lambda1, lambda2)\n",
    "    return wave.Waveform.from_amp_phase(mf, amp, phase)"
   ]
  },
  {
   "cell_type": "code",
   "execution_count": 27,
   "metadata": {},
   "outputs": [],
   "source": [
    "# Compute TaylorF2 reference waveform\n",
    "h_ref = geometric_reference_waveform(x, mfs)"
   ]
  },
  {
   "cell_type": "code",
   "execution_count": 28,
   "metadata": {
    "collapsed": true
   },
   "outputs": [],
   "source": [
    "# Surrogate of A and \\Phi\n",
    "h_sur = h_ref.copy()\n",
    "h_sur.amp *= np.exp(amp_interp)\n",
    "h_sur.phase += phase_interp"
   ]
  },
  {
   "cell_type": "code",
   "execution_count": 29,
   "metadata": {},
   "outputs": [
    {
     "data": {
      "text/plain": [
       "[<matplotlib.lines.Line2D at 0x115017fd0>]"
      ]
     },
     "execution_count": 29,
     "metadata": {},
     "output_type": "execute_result"
    },
    {
     "data": {
      "image/png": "[encoded data removed]",
      "text/plain": [
       "<matplotlib.figure.Figure at 0x1151a8950>"
      ]
     },
     "metadata": {},
     "output_type": "display_data"
    }
   ],
   "source": [
    "loglog(h_sur.x, h_sur.amp)\n",
    "loglog(h_sur.x, h_sur.phase)"
   ]
  },
  {
   "cell_type": "code",
   "execution_count": 30,
   "metadata": {},
   "outputs": [
    {
     "name": "stderr",
     "output_type": "stream",
     "text": [
      "/usr/local/lib/python2.7/site-packages/numpy/core/numeric.py:531: ComplexWarning: Casting complex values to real discards the imaginary part\n",
      "  return array(a, dtype, copy=False, order=order)\n"
     ]
    },
    {
     "data": {
      "text/plain": [
       "[<matplotlib.lines.Line2D at 0x115394f10>]"
      ]
     },
     "execution_count": 30,
     "metadata": {},
     "output_type": "execute_result"
    },
    {
     "data": {
      "image/png": "[encoded data removed]",
      "text/plain": [
       "<matplotlib.figure.Figure at 0x11501f790>"
      ]
     },
     "metadata": {},
     "output_type": "display_data"
    }
   ],
   "source": [
    "semilogx(h_sur.x, h_sur.amp * np.exp(1j * h_sur.phase))"
   ]
  },
  {
   "cell_type": "markdown",
   "metadata": {
    "collapsed": true
   },
   "source": [
    "## Ongoing testing of C code"
   ]
  },
  {
   "cell_type": "markdown",
   "metadata": {},
   "source": [
    "Choose parameters consistent with the test case above where the x array is defined."
   ]
  },
  {
   "cell_type": "code",
   "execution_count": 31,
   "metadata": {},
   "outputs": [],
   "source": [
    "q = 1.0/x[0]\n",
    "chi1 = x[1]\n",
    "chi2 = x[2]\n",
    "lambda1 = x[3]\n",
    "lambda2 = x[4]\n",
    "\n",
    "Mtot = 40.0"
   ]
  },
  {
   "cell_type": "markdown",
   "metadata": {},
   "source": [
    "Calling `SimIMRTEOBv4ROM` will print a bunch of debug output some of which I copy an paste in this notebook to compare."
   ]
  },
  {
   "cell_type": "code",
   "execution_count": 32,
   "metadata": {},
   "outputs": [],
   "source": [
    "phiRef, deltaF, fLow, fHigh, fRef, distance, inclination = 0, 0.1, 20, 0, 20, 1, 0\n",
    "m1 = q/(1.0+q)*Mtot\n",
    "m2 = 1.0/(1.0+q)*Mtot\n",
    "m1SI, m2SI, chi1, chi2, lambda1, lambda2, nk_max = m1*lal.MSUN_SI, m2*lal.MSUN_SI, chi1, chi2, lambda1, lambda2, -1\n",
    "\n",
    "hp, hc = LS.SimIMRTEOBv4ROM(phiRef, deltaF, fLow, fHigh, fRef, distance, inclination, \n",
    "                m1SI, m2SI, chi1, chi2, lambda1, lambda2, nk_max)"
   ]
  },
  {
   "cell_type": "markdown",
   "metadata": {},
   "source": [
    "* Use Ben's updated HDF5 file: TEOBv4_ROM.hdf5\n",
    "* Implement checks on parameter bounds\n",
    "* Implement checks on dataset sizes? Remove all hardwired sizes."
   ]
  },
  {
   "cell_type": "markdown",
   "metadata": {},
   "source": [
    "TODO:\n",
    "  * check PN phasing LAL vs python\n",
    "  * implement 1PN amplitude"
   ]
  },
  {
   "cell_type": "code",
   "execution_count": 34,
   "metadata": {
    "collapsed": true
   },
   "outputs": [],
   "source": [
    "# Copied from Terminal output\n",
    "PN_phase_LAL = np.array([\n",
    "19970.8623740172,\n",
    "12015.6330086051,\n",
    "7222.39483857474,\n",
    "4333.99515435419,\n",
    "2593.5166533687,\n",
    "1545.04740751171,\n",
    "913.851414121915,\n",
    "534.276218281053,\n",
    "306.364065763709,\n",
    "169.722435590746,\n",
    "87.7695257429162,\n",
    "38.2079029306288,\n",
    "7.21935977243947,\n",
    "-14.1512904875418,\n",
    "-32.3912245472999,\n",
    "-53.3634320935435,\n",
    "-84.1717930456965,\n",
    "-135.7213025241,\n",
    "-227.024821778381,\n",
    "-393.163375831142])"
   ]
  },
  {
   "cell_type": "code",
   "execution_count": 35,
   "metadata": {
    "collapsed": true
   },
   "outputs": [],
   "source": [
    "h_ref_at_nodes = geometric_reference_waveform(x, mf_phi)"
   ]
  },
  {
   "cell_type": "code",
   "execution_count": 36,
   "metadata": {},
   "outputs": [],
   "source": [
    "PN_phase_Python = h_ref_at_nodes.phase"
   ]
  },
  {
   "cell_type": "code",
   "execution_count": 37,
   "metadata": {},
   "outputs": [
    {
     "data": {
      "image/png": "[encoded data removed]",
      "text/plain": [
       "<matplotlib.figure.Figure at 0x1151128d0>"
      ]
     },
     "metadata": {},
     "output_type": "display_data"
    }
   ],
   "source": [
    "plt.semilogx(mf_phi, PN_phase_LAL, label='LAL')\n",
    "plt.semilogx(mf_phi, PN_phase_Python, 'r--', label='Python')\n",
    "plt.legend();"
   ]
  },
  {
   "cell_type": "code",
   "execution_count": 38,
   "metadata": {},
   "outputs": [
    {
     "data": {
      "image/png": "[encoded data removed]",
      "text/plain": [
       "<matplotlib.figure.Figure at 0x115106a10>"
      ]
     },
     "metadata": {},
     "output_type": "display_data"
    }
   ],
   "source": [
    "plt.semilogx(mf_phi, PN_phase_LAL, label='LAL')\n",
    "plt.semilogx(mf_phi, -PN_phase_Python + max(PN_phase_Python), 'r--', label='Python')\n",
    "plt.legend();"
   ]
  },
  {
   "cell_type": "code",
   "execution_count": 39,
   "metadata": {},
   "outputs": [
    {
     "data": {
      "image/png": "[encoded data removed]",
      "text/plain": [
       "<matplotlib.figure.Figure at 0x12b0254d0>"
      ]
     },
     "metadata": {},
     "output_type": "display_data"
    }
   ],
   "source": [
    "plt.semilogx(mf_phi, PN_phase_LAL - (-PN_phase_Python + max(PN_phase_Python)), label='LAL - Python')\n",
    "plt.legend();\n",
    "plt.title('phase difference');"
   ]
  },
  {
   "cell_type": "code",
   "execution_count": 40,
   "metadata": {},
   "outputs": [
    {
     "data": {
      "image/png": "[encoded data removed]",
      "text/plain": [
       "<matplotlib.figure.Figure at 0x1154a9250>"
      ]
     },
     "metadata": {},
     "output_type": "display_data"
    }
   ],
   "source": [
    "plt.semilogx(mf_phi, PN_phase_LAL - (-PN_phase_Python + max(PN_phase_Python)) + 392.5 + mf_phi*12, label='LAL - Python - linear fit')\n",
    "plt.legend();\n",
    "plt.title('phase difference');"
   ]
  },
  {
   "cell_type": "markdown",
   "metadata": {},
   "source": [
    "## Obtain TF2 phase via SWIG-LAL and compare to LAL-C"
   ]
  },
  {
   "cell_type": "markdown",
   "metadata": {},
   "source": [
    "As you can see at the end of this section, the agreement is very good."
   ]
  },
  {
   "cell_type": "code",
   "execution_count": 43,
   "metadata": {
    "collapsed": true
   },
   "outputs": [],
   "source": [
    "q = 1.0/x[0]\n",
    "chi1 = x[1]\n",
    "chi2 = x[2]\n",
    "lambda1 = x[3]\n",
    "lambda2 = x[4]\n",
    "\n",
    "Mtot = 40.0"
   ]
  },
  {
   "cell_type": "code",
   "execution_count": 44,
   "metadata": {},
   "outputs": [],
   "source": [
    "extraParams = lal.CreateDict()\n",
    "LS.SimInspiralWaveformParamsInsertPNSpinOrder(extraParams, LS.SIM_INSPIRAL_SPIN_ORDER_35PN);\n",
    "\n",
    "m1OverM = q / (1.0+q);\n",
    "m2OverM = 1.0 / (1.0+q);\n",
    "m1 = Mtot * m1OverM\n",
    "m2 = Mtot * m2OverM\n",
    "\n",
    "pn = LS.SimInspiralTaylorF2AlignedPhasing(m1 * lal.MSUN_SI, m2 * lal.MSUN_SI, chi1, chi2, extraParams)"
   ]
  },
  {
   "cell_type": "markdown",
   "metadata": {},
   "source": [
    "The returned structure contains the PN coefficients, except for the tidal terms which we add later."
   ]
  },
  {
   "cell_type": "code",
   "execution_count": 45,
   "metadata": {},
   "outputs": [
    {
     "data": {
      "text/plain": [
       "array([  0.097656,   0.      ,   0.623114,  -3.864351,   3.884858,   6.904976, -37.170777, -53.923996,\n",
       "         0.      ,   0.      ,   0.      ,   0.      ,   0.      ])"
      ]
     },
     "execution_count": 45,
     "metadata": {},
     "output_type": "execute_result"
    }
   ],
   "source": [
    "pn.v"
   ]
  },
  {
   "cell_type": "code",
   "execution_count": 46,
   "metadata": {},
   "outputs": [
    {
     "data": {
      "text/plain": [
       "array([  0.      ,   0.      ,   0.      ,   0.      ,   0.      ,  20.714929, -31.845238,   0.      ,\n",
       "         0.      ,   0.      ,   0.      ,   0.      ,   0.      ])"
      ]
     },
     "execution_count": 46,
     "metadata": {},
     "output_type": "execute_result"
    }
   ],
   "source": [
    "pn.vlogv"
   ]
  },
  {
   "cell_type": "code",
   "execution_count": 47,
   "metadata": {},
   "outputs": [
    {
     "data": {
      "text/plain": [
       "array([ 0.,  0.,  0.,  0.,  0.,  0.,  0.,  0.,  0.,  0.,  0.,  0.,  0.])"
      ]
     },
     "execution_count": 47,
     "metadata": {},
     "output_type": "execute_result"
    }
   ],
   "source": [
    "pn.vlogvsq"
   ]
  },
  {
   "cell_type": "code",
   "execution_count": 48,
   "metadata": {},
   "outputs": [
    {
     "name": "stdout",
     "output_type": "stream",
     "text": [
      "Before adding tidal terms 0.0 0.0\n",
      "After adding tidal terms -2324.25 -5854.33928571\n"
     ]
    }
   ],
   "source": [
    "# Add tidal deformability terms\n",
    "\n",
    "# Note: these functions are not callable outside this source file, even though they are XLAL\n",
    "# Therefore I reimplement them here.\n",
    "# See LALSimInspiralPNCoefficients.c\n",
    "\n",
    "def XLALSimInspiralTaylorF2Phasing_10PNTidalCoeff(mByM):\n",
    "    return (-288. + 264.*mByM)*mByM*mByM*mByM*mByM;\n",
    "\n",
    "def XLALSimInspiralTaylorF2Phasing_12PNTidalCoeff(mByM):\n",
    "    return (-15895./28. + 4595./28.*mByM + 5715./14.*mByM*mByM - 325./7.*mByM*mByM*mByM)*mByM*mByM*mByM*mByM;\n",
    "\n",
    "print \"Before adding tidal terms\", pn.v[10], pn.v[12]\n",
    "\n",
    "pn.v[10] = pn.v[0] * ( lambda1 * XLALSimInspiralTaylorF2Phasing_10PNTidalCoeff(m1OverM)\n",
    "                     + lambda2 * XLALSimInspiralTaylorF2Phasing_10PNTidalCoeff(m2OverM) );\n",
    "pn.v[12] = pn.v[0] * ( lambda1 * XLALSimInspiralTaylorF2Phasing_12PNTidalCoeff(m1OverM)\n",
    "                     + lambda2 * XLALSimInspiralTaylorF2Phasing_12PNTidalCoeff(m2OverM) );\n",
    "\n",
    "print \"After adding tidal terms\", pn.v[10], pn.v[12]"
   ]
  },
  {
   "cell_type": "code",
   "execution_count": 49,
   "metadata": {},
   "outputs": [
    {
     "name": "stdout",
     "output_type": "stream",
     "text": [
      "0.00021 0.0870541987232 19970.862374\n",
      "0.000285103393483 0.0963941666465 12015.6330086\n",
      "0.000387066404645 0.106736211461 7222.39483857\n",
      "0.000525494978417 0.118187845109 4333.99515435\n",
      "0.000713430483832 0.130868114395 2593.51665337\n",
      "0.000968578342641 0.144908838548 1545.04740751\n",
      "0.00131497605877 0.160455979567 913.851414122\n",
      "0.00178525779382 0.177671159584 534.276218281\n",
      "0.00242372883458 0.196733341027 306.364065764\n",
      "0.00329053959819 0.217840687043 169.722435591\n",
      "0.00446735240873 0.24121262153 87.7695257429\n",
      "0.00606503491244 0.267092110181 38.2079029306\n",
      "0.00823410492919 0.29574818626 7.21935977244\n",
      "0.0111789107505 0.327478747377 -14.1512904875\n",
      "0.0151768828115 0.36261365231 -32.3912245473\n",
      "0.0206046704383 0.401518150092 -53.3634320935\n",
      "0.0279736260169 0.444596677004 -84.1717930457\n",
      "0.0379779795497 0.492297060936 -135.721302524\n",
      "0.0515602421298 0.545115176838 -227.024821778\n",
      "0.07 0.603600101643 -393.163375831\n"
     ]
    }
   ],
   "source": [
    "PN_phase_LAL_Python = []\n",
    "for Mf in mf_phi:\n",
    "    v = (lal.PI * Mf)**(1.0/3.0)\n",
    "    logv = log(v)\n",
    "\n",
    "    v2 = v * v;\n",
    "    v3 = v * v2;\n",
    "    v4 = v * v3;\n",
    "    v5 = v * v4;\n",
    "    v6 = v * v5;\n",
    "    v7 = v * v6;\n",
    "    v8 = v * v7;\n",
    "    v9 = v * v8;\n",
    "    v10 = v * v9;\n",
    "    v12 = v2 * v10;\n",
    "    phasing = 0.0;\n",
    "\n",
    "    phasing += pn.v[7] * v7;\n",
    "    phasing += (pn.v[6] + pn.vlogv[6] * logv) * v6;\n",
    "    phasing += (pn.v[5] + pn.vlogv[5] * logv) * v5;\n",
    "    phasing += pn.v[4] * v4;\n",
    "    phasing += pn.v[3] * v3;\n",
    "    phasing += pn.v[2] * v2;\n",
    "    phasing += pn.v[1] * v;\n",
    "    phasing += pn.v[0];\n",
    "\n",
    "    # Tidal terms in phasing\n",
    "    phasing += pn.v[12] * v12;\n",
    "    phasing += pn.v[10] * v10;\n",
    "\n",
    "    phasing /= v5;\n",
    "    PN_phase_LAL_Python.append(phasing)\n",
    "    #print phasing, pn.v[12] * v12, pn.v[10] * v10\n",
    "    print Mf, v, phasing\n",
    "\n",
    "PN_phase_LAL_Python = np.array(PN_phase_LAL_Python)"
   ]
  },
  {
   "cell_type": "code",
   "execution_count": 50,
   "metadata": {},
   "outputs": [
    {
     "data": {
      "text/plain": [
       "True"
      ]
     },
     "execution_count": 50,
     "metadata": {},
     "output_type": "execute_result"
    }
   ],
   "source": [
    "np.allclose(PN_phase_LAL, PN_phase_LAL_Python)"
   ]
  },
  {
   "cell_type": "code",
   "execution_count": 57,
   "metadata": {},
   "outputs": [
    {
     "data": {
      "image/png": "[encoded data removed]",
      "text/plain": [
       "<matplotlib.figure.Figure at 0x11589e490>"
      ]
     },
     "metadata": {},
     "output_type": "display_data"
    }
   ],
   "source": [
    "plt.loglog(mf_phi, np.abs(PN_phase_LAL), 'o-', label=r'|LAL\\_C|')\n",
    "plt.loglog(mf_phi, np.abs(PN_phase_LAL_Python), label=r'|LAL\\_Python|')\n",
    "plt.loglog(mf_phi, np.abs(PN_phase_LAL - PN_phase_LAL_Python), '-', label=r'|LAL\\_C - LAL\\_Python|')\n",
    "plt.legend(loc=10);"
   ]
  },
  {
   "cell_type": "code",
   "execution_count": null,
   "metadata": {
    "collapsed": true
   },
   "outputs": [],
   "source": []
  }
 ],
 "metadata": {
  "kernelspec": {
   "display_name": "Python 2",
   "language": "python",
   "name": "python2"
  },
  "language_info": {
   "codemirror_mode": {
    "name": "ipython",
    "version": 2
   },
   "file_extension": ".py",
   "mimetype": "text/x-python",
   "name": "python",
   "nbconvert_exporter": "python",
   "pygments_lexer": "ipython2",
   "version": "2.7.10"
  },
  "toc": {
   "colors": {
    "hover_highlight": "#DAA520",
    "running_highlight": "#FF0000",
    "selected_highlight": "#FFD700"
   },
   "moveMenuLeft": true,
   "nav_menu": {
    "height": "86px",
    "width": "252px"
   },
   "navigate_menu": true,
   "number_sections": true,
   "sideBar": false,
   "threshold": 4,
   "toc_cell": false,
   "toc_section_display": "block",
   "toc_window_display": false
  }
 },
 "nbformat": 4,
 "nbformat_minor": 1
}
